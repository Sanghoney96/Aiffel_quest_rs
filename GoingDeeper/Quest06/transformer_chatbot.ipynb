{
 "cells": [
  {
   "cell_type": "code",
   "execution_count": null,
   "id": "dfc452ce",
   "metadata": {},
   "outputs": [
    {
     "name": "stderr",
     "output_type": "stream",
     "text": [
      "2025-03-12 23:55:40.771618: I tensorflow/core/util/port.cc:153] oneDNN custom operations are on. You may see slightly different numerical results due to floating-point round-off errors from different computation orders. To turn them off, set the environment variable `TF_ENABLE_ONEDNN_OPTS=0`.\n",
      "2025-03-12 23:55:40.778186: E external/local_xla/xla/stream_executor/cuda/cuda_fft.cc:485] Unable to register cuFFT factory: Attempting to register factory for plugin cuFFT when one has already been registered\n",
      "2025-03-12 23:55:40.786091: E external/local_xla/xla/stream_executor/cuda/cuda_dnn.cc:8454] Unable to register cuDNN factory: Attempting to register factory for plugin cuDNN when one has already been registered\n",
      "2025-03-12 23:55:40.788451: E external/local_xla/xla/stream_executor/cuda/cuda_blas.cc:1452] Unable to register cuBLAS factory: Attempting to register factory for plugin cuBLAS when one has already been registered\n",
      "2025-03-12 23:55:40.794876: I tensorflow/core/platform/cpu_feature_guard.cc:210] This TensorFlow binary is optimized to use available CPU instructions in performance-critical operations.\n",
      "To enable the following instructions: SSE4.1 SSE4.2 AVX AVX2 AVX512F AVX512_VNNI AVX512_BF16 FMA, in other operations, rebuild TensorFlow with the appropriate compiler flags.\n"
     ]
    }
   ],
   "source": [
    "import os\n",
    "import re\n",
    "import random\n",
    "import math\n",
    "import numpy as np\n",
    "import pandas as pd\n",
    "from matplotlib.pyplot import plt\n",
    "import tensorflow as tf\n",
    "\n",
    "from sklearn.model_selection import train_test_split\n",
    "from nltk.translate.bleu_score import sentence_bleu\n",
    "from nltk.translate.bleu_score import SmoothingFunction\n",
    "from tqdm import tqdm\n",
    "import gensim\n",
    "\n",
    "from utils import build_corpus, lexical_sub\n",
    "from models import Transformer, generate_masks\n",
    "from loss import loss_function, LearningRateScheduler"
   ]
  },
  {
   "cell_type": "code",
   "execution_count": 2,
   "id": "a5d1e3a9",
   "metadata": {},
   "outputs": [
    {
     "name": "stdout",
     "output_type": "stream",
     "text": [
      "✅ GPU 활성화됨: [PhysicalDevice(name='/physical_device:GPU:0', device_type='GPU')]\n"
     ]
    },
    {
     "name": "stderr",
     "output_type": "stream",
     "text": [
      "WARNING: All log messages before absl::InitializeLog() is called are written to STDERR\n",
      "I0000 00:00:1741791341.942147   17810 cuda_executor.cc:1015] successful NUMA node read from SysFS had negative value (-1), but there must be at least one NUMA node, so returning NUMA node zero. See more at https://github.com/torvalds/linux/blob/v6.0/Documentation/ABI/testing/sysfs-bus-pci#L344-L355\n",
      "I0000 00:00:1741791341.970191   17810 cuda_executor.cc:1015] successful NUMA node read from SysFS had negative value (-1), but there must be at least one NUMA node, so returning NUMA node zero. See more at https://github.com/torvalds/linux/blob/v6.0/Documentation/ABI/testing/sysfs-bus-pci#L344-L355\n",
      "I0000 00:00:1741791341.971880   17810 cuda_executor.cc:1015] successful NUMA node read from SysFS had negative value (-1), but there must be at least one NUMA node, so returning NUMA node zero. See more at https://github.com/torvalds/linux/blob/v6.0/Documentation/ABI/testing/sysfs-bus-pci#L344-L355\n"
     ]
    }
   ],
   "source": [
    "# GPU가 사용 가능한 경우, 기본 디바이스를 GPU로 설정\n",
    "gpus = tf.config.list_physical_devices('GPU')\n",
    "if gpus:\n",
    "    try:\n",
    "        tf.config.set_visible_devices(gpus[0], 'GPU')  # 첫 번째 GPU만 사용\n",
    "        tf.config.experimental.set_memory_growth(gpus[0], True)  # 필요할 때만 GPU 메모리 사용\n",
    "    except RuntimeError as e:\n",
    "        print(e)\n",
    "\n",
    "print(\"✅ GPU 활성화됨:\", tf.config.list_physical_devices('GPU'))"
   ]
  },
  {
   "cell_type": "code",
   "execution_count": 3,
   "id": "3e3b8c62",
   "metadata": {},
   "outputs": [
    {
     "data": {
      "text/html": [
       "<div>\n",
       "<style scoped>\n",
       "    .dataframe tbody tr th:only-of-type {\n",
       "        vertical-align: middle;\n",
       "    }\n",
       "\n",
       "    .dataframe tbody tr th {\n",
       "        vertical-align: top;\n",
       "    }\n",
       "\n",
       "    .dataframe thead th {\n",
       "        text-align: right;\n",
       "    }\n",
       "</style>\n",
       "<table border=\"1\" class=\"dataframe\">\n",
       "  <thead>\n",
       "    <tr style=\"text-align: right;\">\n",
       "      <th></th>\n",
       "      <th>Q</th>\n",
       "      <th>A</th>\n",
       "      <th>label</th>\n",
       "    </tr>\n",
       "  </thead>\n",
       "  <tbody>\n",
       "    <tr>\n",
       "      <th>0</th>\n",
       "      <td>12시 땡!</td>\n",
       "      <td>하루가 또 가네요.</td>\n",
       "      <td>0</td>\n",
       "    </tr>\n",
       "    <tr>\n",
       "      <th>1</th>\n",
       "      <td>1지망 학교 떨어졌어</td>\n",
       "      <td>위로해 드립니다.</td>\n",
       "      <td>0</td>\n",
       "    </tr>\n",
       "    <tr>\n",
       "      <th>2</th>\n",
       "      <td>3박4일 놀러가고 싶다</td>\n",
       "      <td>여행은 언제나 좋죠.</td>\n",
       "      <td>0</td>\n",
       "    </tr>\n",
       "    <tr>\n",
       "      <th>3</th>\n",
       "      <td>3박4일 정도 놀러가고 싶다</td>\n",
       "      <td>여행은 언제나 좋죠.</td>\n",
       "      <td>0</td>\n",
       "    </tr>\n",
       "    <tr>\n",
       "      <th>4</th>\n",
       "      <td>PPL 심하네</td>\n",
       "      <td>눈살이 찌푸려지죠.</td>\n",
       "      <td>0</td>\n",
       "    </tr>\n",
       "  </tbody>\n",
       "</table>\n",
       "</div>"
      ],
      "text/plain": [
       "                 Q            A  label\n",
       "0           12시 땡!   하루가 또 가네요.      0\n",
       "1      1지망 학교 떨어졌어    위로해 드립니다.      0\n",
       "2     3박4일 놀러가고 싶다  여행은 언제나 좋죠.      0\n",
       "3  3박4일 정도 놀러가고 싶다  여행은 언제나 좋죠.      0\n",
       "4          PPL 심하네   눈살이 찌푸려지죠.      0"
      ]
     },
     "execution_count": 3,
     "metadata": {},
     "output_type": "execute_result"
    }
   ],
   "source": [
    "# load data\n",
    "# file_pth = os.environ.get(\"HOME\") + '/aiffel/transformer_chatbot/data/ChatbotData.csv'\n",
    "file_pth = os.environ.get(\"HOME\") + '/Desktop/Quest06/data/ChatbotData.csv'\n",
    "df = pd.read_csv(file_pth)\n",
    "\n",
    "df.head()"
   ]
  },
  {
   "cell_type": "code",
   "execution_count": 4,
   "id": "73110666",
   "metadata": {},
   "outputs": [],
   "source": [
    "df = df.drop(columns=[\"label\"]) # 'label' 열 제거\n",
    "df = df.drop_duplicates() # 중복 데이터 제거"
   ]
  },
  {
   "cell_type": "code",
   "execution_count": 5,
   "id": "fc04e492",
   "metadata": {},
   "outputs": [
    {
     "name": "stdout",
     "output_type": "stream",
     "text": [
      "the number of samples:  11750\n"
     ]
    }
   ],
   "source": [
    "print('the number of samples: ', len(df))"
   ]
  },
  {
   "cell_type": "markdown",
   "id": "ac59cbd5",
   "metadata": {},
   "source": [
    "#### 데이터 전처리 & 토큰화"
   ]
  },
  {
   "cell_type": "markdown",
   "id": "8a62202f",
   "metadata": {},
   "source": [
    "- 토큰화는 전달받은 토크나이즈 함수를 사용합니다. 이번엔 mecab.morphs 함수를 전달하시면 됩니다.  \n",
    "- 토큰의 개수가 일정 길이 이상인 문장은 데이터에서 제외합니다."
   ]
  },
  {
   "cell_type": "code",
   "execution_count": 6,
   "id": "9267b3e8",
   "metadata": {},
   "outputs": [
    {
     "data": {
      "text/html": [
       "<div>\n",
       "<style scoped>\n",
       "    .dataframe tbody tr th:only-of-type {\n",
       "        vertical-align: middle;\n",
       "    }\n",
       "\n",
       "    .dataframe tbody tr th {\n",
       "        vertical-align: top;\n",
       "    }\n",
       "\n",
       "    .dataframe thead th {\n",
       "        text-align: right;\n",
       "    }\n",
       "</style>\n",
       "<table border=\"1\" class=\"dataframe\">\n",
       "  <thead>\n",
       "    <tr style=\"text-align: right;\">\n",
       "      <th></th>\n",
       "      <th>Q</th>\n",
       "      <th>A</th>\n",
       "    </tr>\n",
       "  </thead>\n",
       "  <tbody>\n",
       "    <tr>\n",
       "      <th>0</th>\n",
       "      <td>짜증난다!!</td>\n",
       "      <td>심호흡해보세요.</td>\n",
       "    </tr>\n",
       "    <tr>\n",
       "      <th>1</th>\n",
       "      <td>어젯밤 집 앞에서 잠깐 만났어.</td>\n",
       "      <td>마음이 복잡하겠어요.</td>\n",
       "    </tr>\n",
       "    <tr>\n",
       "      <th>2</th>\n",
       "      <td>내 이상형이 아닌데 그 남자를 왜 이렇게 좋아할까.</td>\n",
       "      <td>이상형은 이상형일 뿐이니까요.</td>\n",
       "    </tr>\n",
       "    <tr>\n",
       "      <th>3</th>\n",
       "      <td>음악 들으면서 잊으려고</td>\n",
       "      <td>음악이 도움이 되길 바랍니다.</td>\n",
       "    </tr>\n",
       "    <tr>\n",
       "      <th>4</th>\n",
       "      <td>시험 보지 말까?</td>\n",
       "      <td>응시는 해야죠.</td>\n",
       "    </tr>\n",
       "  </tbody>\n",
       "</table>\n",
       "</div>"
      ],
      "text/plain": [
       "                              Q                 A\n",
       "0                        짜증난다!!          심호흡해보세요.\n",
       "1             어젯밤 집 앞에서 잠깐 만났어.       마음이 복잡하겠어요.\n",
       "2  내 이상형이 아닌데 그 남자를 왜 이렇게 좋아할까.  이상형은 이상형일 뿐이니까요.\n",
       "3                  음악 들으면서 잊으려고  음악이 도움이 되길 바랍니다.\n",
       "4                     시험 보지 말까?          응시는 해야죠."
      ]
     },
     "execution_count": 6,
     "metadata": {},
     "output_type": "execute_result"
    }
   ],
   "source": [
    "df = df.sample(frac=1).reset_index(drop=True) # train / test split 전에 무작위 shuffle\n",
    "df.head()"
   ]
  },
  {
   "cell_type": "code",
   "execution_count": 7,
   "id": "d6295b41",
   "metadata": {},
   "outputs": [],
   "source": [
    "# train / test split\n",
    "test_len = len(df) // 10\n",
    "\n",
    "que_corpus_train = df[\"Q\"][:-test_len]\n",
    "que_corpus_test = df[\"Q\"][-test_len:]\n",
    "\n",
    "ans_corpus_train = df[\"A\"][:-test_len]\n",
    "ans_corpus_test = df[\"A\"][-test_len:]"
   ]
  },
  {
   "cell_type": "code",
   "execution_count": 8,
   "id": "82ea387c",
   "metadata": {},
   "outputs": [
    {
     "name": "stdout",
     "output_type": "stream",
     "text": [
      "10575\n",
      "10575\n",
      "1175\n",
      "1175\n"
     ]
    }
   ],
   "source": [
    "que_corpus_train = build_corpus(que_corpus_train)\n",
    "que_corpus_test = build_corpus(que_corpus_test, is_train=False) # test data에는 전처리만 진행\n",
    "\n",
    "ans_corpus_train = build_corpus(ans_corpus_train)\n",
    "ans_corpus_test = build_corpus(ans_corpus_test, is_train=False)\n",
    "\n",
    "print(len(que_corpus_train))\n",
    "print(len(ans_corpus_train))\n",
    "print(len(que_corpus_test))\n",
    "print(len(ans_corpus_test))"
   ]
  },
  {
   "cell_type": "markdown",
   "id": "16a57cc5",
   "metadata": {},
   "source": [
    "#### Augmentation"
   ]
  },
  {
   "cell_type": "markdown",
   "id": "aafaa6d2",
   "metadata": {},
   "source": [
    "Augmentation된 que_corpus 와 원본 ans_corpus 가 병렬을 이루도록, 이후엔 반대로 원본 que_corpus 와 Augmentation된 ans_corpus 가 병렬을 이루도록 하여 전체 데이터가 원래의 3배가량으로 늘어나도록 합니다."
   ]
  },
  {
   "cell_type": "code",
   "execution_count": 9,
   "id": "3c2f0345",
   "metadata": {},
   "outputs": [],
   "source": [
    "model = gensim.models.Word2Vec.load(os.environ.get(\"HOME\") + '/Desktop/Quest06/data/word2vec_ko.model')"
   ]
  },
  {
   "cell_type": "code",
   "execution_count": 10,
   "id": "6f4fdddf",
   "metadata": {},
   "outputs": [
    {
     "data": {
      "text/plain": [
       "[('사죄', 0.7787620425224304),\n",
       " ('항의', 0.6764886379241943),\n",
       " ('해명', 0.6568262577056885),\n",
       " ('고소', 0.6460005640983582),\n",
       " ('선처', 0.6412018537521362),\n",
       " ('감사', 0.6356635093688965),\n",
       " ('죄송', 0.6350489258766174),\n",
       " ('조롱', 0.6300912499427795),\n",
       " ('질타', 0.6276609301567078),\n",
       " ('협박', 0.6233218908309937)]"
      ]
     },
     "execution_count": 10,
     "metadata": {},
     "output_type": "execute_result"
    }
   ],
   "source": [
    "model.wv.most_similar(\"사과\")"
   ]
  },
  {
   "cell_type": "code",
   "execution_count": 12,
   "id": "ad94a85e",
   "metadata": {},
   "outputs": [
    {
     "name": "stdout",
     "output_type": "stream",
     "text": [
      "너무   격 렬   하   게   아 무치   것   도   앞   하   는데   싶   다   .\n"
     ]
    }
   ],
   "source": [
    "src = '더 격렬 하 게 아무 것 도 안 하 고 싶 다 .'\n",
    "\n",
    "print(\" \".join(lexical_sub(src, model.wv, ratio=0.3)))"
   ]
  },
  {
   "cell_type": "code",
   "execution_count": 13,
   "id": "162a43e1",
   "metadata": {},
   "outputs": [],
   "source": [
    "new_que_corpus_train = []\n",
    "\n",
    "for old_src in que_corpus_train:\n",
    "    new_src = lexical_sub(old_src, model.wv, ratio=0.3)\n",
    "    new_que_corpus_train.append(new_src)"
   ]
  },
  {
   "cell_type": "code",
   "execution_count": null,
   "id": "7987abd5",
   "metadata": {},
   "outputs": [
    {
     "name": "stdout",
     "output_type": "stream",
     "text": [
      "['짜증 난다 !\"> !', '문득 방 앞 의 잠깐 만났 어서 \"', '내 만 형 이 아닌데 그 남자 를 과연 이렇게 좋 아서 할까 .', '음악 들으면서 잊 으려고', '시험 보 지 말 까 ?', '마음 이 방식 는 건가 같 아', '택배 이 안 와', '천사 같 은 남자 친구 가 떠나갔 어서 마음 은 굉장히 아픕니다 .', '전 여친 남자 생겨났 나 봐', '사랑 했 다']\n",
      "['짜증 난다 ! !', '어젯밤 집 앞 에서 잠깐 만났 어 .', '내 이상 형 이 아닌데 그 남자 를 왜 이렇게 좋 아 할까 .', '음악 들으면서 잊 으려고', '시험 보 지 말 까 ?', '마음 이 식 은 거 같 아', '택배 가 안 와', '천사 같 은 여자 친구 가 떠나갔 어 마음 이 너무 아픕니다 .', '전 여친 남자 생겼 나 봐', '이별 했 다']\n"
     ]
    }
   ],
   "source": [
    "print([\" \".join(sample) for sample in que_corpus_train[:10]])\n",
    "print([\" \".join(sample) for sample in new_que_corpus_train[:10]])"
   ]
  },
  {
   "cell_type": "code",
   "execution_count": 15,
   "id": "030ab8c1",
   "metadata": {},
   "outputs": [
    {
     "name": "stdout",
     "output_type": "stream",
     "text": [
      "31725\n"
     ]
    }
   ],
   "source": [
    "augmented_que_train = que_corpus_train + new_que_corpus_train + que_corpus_train\n",
    "print(len(augmented_que_train))"
   ]
  },
  {
   "cell_type": "code",
   "execution_count": 16,
   "id": "c915f287",
   "metadata": {},
   "outputs": [],
   "source": [
    "new_ans_corpus_train = []\n",
    "\n",
    "for old_src in ans_corpus_train:\n",
    "    new_src = lexical_sub(old_src, model.wv, ratio=0.3)\n",
    "    new_ans_corpus_train.append(new_src)"
   ]
  },
  {
   "cell_type": "code",
   "execution_count": 17,
   "id": "aa65fa66",
   "metadata": {},
   "outputs": [
    {
     "name": "stdout",
     "output_type": "stream",
     "text": [
      "31725\n"
     ]
    }
   ],
   "source": [
    "augmented_ans_train = ans_corpus_train + ans_corpus_train + new_ans_corpus_train \n",
    "print(len(augmented_ans_train))"
   ]
  },
  {
   "cell_type": "markdown",
   "id": "42901cf2",
   "metadata": {},
   "source": [
    "#### 데이터 벡터화"
   ]
  },
  {
   "cell_type": "code",
   "execution_count": 18,
   "id": "81699d3b",
   "metadata": {},
   "outputs": [],
   "source": [
    "# <start>와 <end> 토큰을 ans_corpus에 추가\n",
    "augmented_ans_train = [['<start>'] + sentence + ['<end>'] for sentence in augmented_ans_train]"
   ]
  },
  {
   "cell_type": "code",
   "execution_count": null,
   "id": "1fc4fb86",
   "metadata": {},
   "outputs": [],
   "source": [
    "# que_corpus와 ans_corpus 결합하여 단어 사전 생성\n",
    "combined_corpus = augmented_que_train + augmented_ans_train\n",
    "\n",
    "tokenizer = tf.keras.preprocessing.text.Tokenizer()\n",
    "tokenizer.fit_on_texts(combined_corpus)\n",
    "\n",
    "# 각 문장을 정수 시퀀스로 변환\n",
    "enc_train = tokenizer.texts_to_sequences(augmented_que_train)\n",
    "dec_train = tokenizer.texts_to_sequences(augmented_ans_train)"
   ]
  },
  {
   "cell_type": "code",
   "execution_count": 23,
   "id": "498d0674",
   "metadata": {},
   "outputs": [
    {
     "name": "stdout",
     "output_type": "stream",
     "text": [
      "(31725, 40)\n",
      "(31725, 40)\n"
     ]
    }
   ],
   "source": [
    "# 패딩 추가\n",
    "max_len = 40\n",
    "\n",
    "enc_train = tf.keras.preprocessing.sequence.pad_sequences(enc_train, \n",
    "                                                          maxlen=max_len,\n",
    "                                                         padding='post')\n",
    "dec_train = tf.keras.preprocessing.sequence.pad_sequences(dec_train, \n",
    "                                                          maxlen=max_len,\n",
    "                                                         padding='post')\n",
    "\n",
    "print(enc_train.shape)\n",
    "print(dec_train.shape)"
   ]
  },
  {
   "cell_type": "code",
   "execution_count": 24,
   "id": "c757ebcc",
   "metadata": {},
   "outputs": [],
   "source": [
    "enc_train, enc_val, dec_train, dec_val = train_test_split(enc_train, dec_train, test_size=0.1)"
   ]
  },
  {
   "cell_type": "code",
   "execution_count": 25,
   "id": "a1716c17",
   "metadata": {},
   "outputs": [
    {
     "name": "stdout",
     "output_type": "stream",
     "text": [
      "(28552, 40) (28552, 40)\n",
      "(3173, 40) (3173, 40)\n"
     ]
    },
    {
     "name": "stderr",
     "output_type": "stream",
     "text": [
      "I0000 00:00:1741791851.925067   17810 cuda_executor.cc:1015] successful NUMA node read from SysFS had negative value (-1), but there must be at least one NUMA node, so returning NUMA node zero. See more at https://github.com/torvalds/linux/blob/v6.0/Documentation/ABI/testing/sysfs-bus-pci#L344-L355\n",
      "I0000 00:00:1741791851.926781   17810 cuda_executor.cc:1015] successful NUMA node read from SysFS had negative value (-1), but there must be at least one NUMA node, so returning NUMA node zero. See more at https://github.com/torvalds/linux/blob/v6.0/Documentation/ABI/testing/sysfs-bus-pci#L344-L355\n",
      "I0000 00:00:1741791851.928348   17810 cuda_executor.cc:1015] successful NUMA node read from SysFS had negative value (-1), but there must be at least one NUMA node, so returning NUMA node zero. See more at https://github.com/torvalds/linux/blob/v6.0/Documentation/ABI/testing/sysfs-bus-pci#L344-L355\n",
      "I0000 00:00:1741791852.024247   17810 cuda_executor.cc:1015] successful NUMA node read from SysFS had negative value (-1), but there must be at least one NUMA node, so returning NUMA node zero. See more at https://github.com/torvalds/linux/blob/v6.0/Documentation/ABI/testing/sysfs-bus-pci#L344-L355\n",
      "I0000 00:00:1741791852.025482   17810 cuda_executor.cc:1015] successful NUMA node read from SysFS had negative value (-1), but there must be at least one NUMA node, so returning NUMA node zero. See more at https://github.com/torvalds/linux/blob/v6.0/Documentation/ABI/testing/sysfs-bus-pci#L344-L355\n",
      "I0000 00:00:1741791852.026666   17810 cuda_executor.cc:1015] successful NUMA node read from SysFS had negative value (-1), but there must be at least one NUMA node, so returning NUMA node zero. See more at https://github.com/torvalds/linux/blob/v6.0/Documentation/ABI/testing/sysfs-bus-pci#L344-L355\n",
      "2025-03-13 00:04:12.027817: I tensorflow/core/common_runtime/gpu/gpu_device.cc:2021] Created device /job:localhost/replica:0/task:0/device:GPU:0 with 10173 MB memory:  -> device: 0, name: NVIDIA GeForce RTX 4070 SUPER, pci bus id: 0000:01:00.0, compute capability: 8.9\n"
     ]
    }
   ],
   "source": [
    "BATCH_SIZE = 256\n",
    "\n",
    "train_data = tf.data.Dataset.from_tensor_slices((enc_train, dec_train)).batch(batch_size=BATCH_SIZE)\n",
    "val_data = tf.data.Dataset.from_tensor_slices((enc_val, dec_val)).batch(batch_size=BATCH_SIZE)\n",
    "\n",
    "print(enc_train.shape, dec_train.shape)\n",
    "print(enc_val.shape, dec_val.shape)"
   ]
  },
  {
   "cell_type": "markdown",
   "id": "138cef12",
   "metadata": {},
   "source": [
    "#### 모델 학습"
   ]
  },
  {
   "cell_type": "code",
   "execution_count": 105,
   "id": "0049695f",
   "metadata": {},
   "outputs": [],
   "source": [
    "D_MODEL = 256\n",
    "VOCAB_SIZE = len(tokenizer.word_index)\n",
    "\n",
    "transformer = Transformer(\n",
    "    n_layers=3,\n",
    "    d_model=D_MODEL,\n",
    "    n_heads=8,\n",
    "    d_ff=1024,\n",
    "    src_vocab_size=VOCAB_SIZE,\n",
    "    tgt_vocab_size=VOCAB_SIZE,\n",
    "    pos_len=max_len,\n",
    "    dropout=0.3,\n",
    "    shared_fc=True,\n",
    "    shared_emb=True)"
   ]
  },
  {
   "cell_type": "code",
   "execution_count": 106,
   "id": "9399619a",
   "metadata": {},
   "outputs": [],
   "source": [
    "learning_rate = LearningRateScheduler(D_MODEL, warmup_steps=4000)\n",
    "\n",
    "optimizer = tf.keras.optimizers.Adam(learning_rate,\n",
    "                                     epsilon=1e-9)"
   ]
  },
  {
   "cell_type": "code",
   "execution_count": 107,
   "id": "04a43ef0",
   "metadata": {},
   "outputs": [],
   "source": [
    "@tf.function()\n",
    "def train_step(src, tgt, model, optimizer):\n",
    "    tgt_in = tgt[:, :-1]  # Decoder의 input : end 토큰 제외\n",
    "    gold = tgt[:, 1:]     # Decoder의 output : start 토큰 제외\n",
    "\n",
    "    enc_mask, dec_enc_mask, dec_mask = generate_masks(src, tgt_in)\n",
    "\n",
    "    with tf.GradientTape() as tape:\n",
    "        predictions, enc_attns, dec_attns, dec_enc_attns = \\\n",
    "        model(src, tgt_in, enc_mask, dec_enc_mask, dec_mask)\n",
    "        loss = loss_function(gold, predictions)\n",
    "\n",
    "    gradients = tape.gradient(loss, model.trainable_variables)    \n",
    "    optimizer.apply_gradients(zip(gradients, model.trainable_variables))\n",
    "\n",
    "    return loss, enc_attns, dec_attns, dec_enc_attns"
   ]
  },
  {
   "cell_type": "code",
   "execution_count": 108,
   "id": "821e3aab",
   "metadata": {},
   "outputs": [],
   "source": [
    "@tf.function()\n",
    "def eval_step(src, tgt, model):\n",
    "    tgt_in = tgt[:, :-1]  # Decoder의 input : end 토큰 제외\n",
    "    gold = tgt[:, 1:]     # Decoder의 output : start 토큰 제외\n",
    "\n",
    "    enc_mask, dec_enc_mask, dec_mask = generate_masks(src, tgt_in)\n",
    "\n",
    "    # 그래디언트를 계산하지 않음\n",
    "    predictions, enc_attns, dec_attns, dec_enc_attns = \\\n",
    "        model(src, tgt_in, enc_mask, dec_enc_mask, dec_mask)\n",
    "\n",
    "    # 손실 계산\n",
    "    loss = loss_function(gold, predictions)\n",
    "\n",
    "    return loss, enc_attns, dec_attns, dec_enc_attns"
   ]
  },
  {
   "cell_type": "code",
   "execution_count": 109,
   "id": "56b8c3cc",
   "metadata": {},
   "outputs": [
    {
     "name": "stderr",
     "output_type": "stream",
     "text": [
      "Epoch 1: 100%|██████████| 112/112 [00:19<00:00,  5.71it/s, Loss 7.7673]\n",
      "Epoch 1 Validation: 100%|██████████| 13/13 [00:00<00:00, 13.67it/s, Val Loss 5.6670]\n"
     ]
    },
    {
     "name": "stdout",
     "output_type": "stream",
     "text": [
      "Epoch 1 - Training Loss: 7.7673, Validation Loss: 5.6670\n"
     ]
    },
    {
     "name": "stderr",
     "output_type": "stream",
     "text": [
      "Epoch 2: 100%|██████████| 112/112 [00:11<00:00, 10.02it/s, Loss 5.1614]\n",
      "Epoch 2 Validation: 100%|██████████| 13/13 [00:00<00:00, 39.10it/s, Val Loss 4.8290]\n"
     ]
    },
    {
     "name": "stdout",
     "output_type": "stream",
     "text": [
      "Epoch 2 - Training Loss: 5.1614, Validation Loss: 4.8290\n"
     ]
    },
    {
     "name": "stderr",
     "output_type": "stream",
     "text": [
      "Epoch 3: 100%|██████████| 112/112 [00:11<00:00, 10.02it/s, Loss 4.5382]\n",
      "Epoch 3 Validation: 100%|██████████| 13/13 [00:00<00:00, 38.83it/s, Val Loss 4.2193]\n"
     ]
    },
    {
     "name": "stdout",
     "output_type": "stream",
     "text": [
      "Epoch 3 - Training Loss: 4.5382, Validation Loss: 4.2193\n"
     ]
    },
    {
     "name": "stderr",
     "output_type": "stream",
     "text": [
      "Epoch 4: 100%|██████████| 112/112 [00:11<00:00, 10.01it/s, Loss 3.8757]\n",
      "Epoch 4 Validation: 100%|██████████| 13/13 [00:00<00:00, 39.05it/s, Val Loss 3.6420]\n"
     ]
    },
    {
     "name": "stdout",
     "output_type": "stream",
     "text": [
      "Epoch 4 - Training Loss: 3.8757, Validation Loss: 3.6420\n"
     ]
    },
    {
     "name": "stderr",
     "output_type": "stream",
     "text": [
      "Epoch 5: 100%|██████████| 112/112 [00:11<00:00, 10.01it/s, Loss 3.3348]\n",
      "Epoch 5 Validation: 100%|██████████| 13/13 [00:00<00:00, 38.97it/s, Val Loss 3.2266]\n"
     ]
    },
    {
     "name": "stdout",
     "output_type": "stream",
     "text": [
      "Epoch 5 - Training Loss: 3.3348, Validation Loss: 3.2266\n"
     ]
    },
    {
     "name": "stderr",
     "output_type": "stream",
     "text": [
      "Epoch 6: 100%|██████████| 112/112 [00:11<00:00, 10.00it/s, Loss 2.8157]\n",
      "Epoch 6 Validation: 100%|██████████| 13/13 [00:00<00:00, 39.07it/s, Val Loss 2.8240]\n"
     ]
    },
    {
     "name": "stdout",
     "output_type": "stream",
     "text": [
      "Epoch 6 - Training Loss: 2.8157, Validation Loss: 2.8240\n"
     ]
    },
    {
     "name": "stderr",
     "output_type": "stream",
     "text": [
      "Epoch 7: 100%|██████████| 112/112 [00:11<00:00, 10.00it/s, Loss 2.2313]\n",
      "Epoch 7 Validation: 100%|██████████| 13/13 [00:00<00:00, 38.91it/s, Val Loss 2.4271]\n"
     ]
    },
    {
     "name": "stdout",
     "output_type": "stream",
     "text": [
      "Epoch 7 - Training Loss: 2.2313, Validation Loss: 2.4271\n"
     ]
    },
    {
     "name": "stderr",
     "output_type": "stream",
     "text": [
      "Epoch 8: 100%|██████████| 112/112 [00:11<00:00, 10.02it/s, Loss 1.6657]\n",
      "Epoch 8 Validation: 100%|██████████| 13/13 [00:00<00:00, 38.98it/s, Val Loss 2.1193]\n"
     ]
    },
    {
     "name": "stdout",
     "output_type": "stream",
     "text": [
      "Epoch 8 - Training Loss: 1.6657, Validation Loss: 2.1193\n"
     ]
    },
    {
     "name": "stderr",
     "output_type": "stream",
     "text": [
      "Epoch 9: 100%|██████████| 112/112 [00:11<00:00, 10.01it/s, Loss 1.2727]\n",
      "Epoch 9 Validation: 100%|██████████| 13/13 [00:00<00:00, 38.97it/s, Val Loss 2.0303]\n"
     ]
    },
    {
     "name": "stdout",
     "output_type": "stream",
     "text": [
      "Epoch 9 - Training Loss: 1.2727, Validation Loss: 2.0303\n"
     ]
    },
    {
     "name": "stderr",
     "output_type": "stream",
     "text": [
      "Epoch 10: 100%|██████████| 112/112 [00:11<00:00, 10.01it/s, Loss 1.0332]\n",
      "Epoch 10 Validation: 100%|██████████| 13/13 [00:00<00:00, 39.00it/s, Val Loss 1.8217]\n"
     ]
    },
    {
     "name": "stdout",
     "output_type": "stream",
     "text": [
      "Epoch 10 - Training Loss: 1.0332, Validation Loss: 1.8217\n"
     ]
    },
    {
     "name": "stderr",
     "output_type": "stream",
     "text": [
      "Epoch 11: 100%|██████████| 112/112 [00:11<00:00, 10.01it/s, Loss 0.8211]\n",
      "Epoch 11 Validation: 100%|██████████| 13/13 [00:00<00:00, 39.16it/s, Val Loss 1.7073]\n"
     ]
    },
    {
     "name": "stdout",
     "output_type": "stream",
     "text": [
      "Epoch 11 - Training Loss: 0.8211, Validation Loss: 1.7073\n"
     ]
    },
    {
     "name": "stderr",
     "output_type": "stream",
     "text": [
      "Epoch 12: 100%|██████████| 112/112 [00:11<00:00, 10.01it/s, Loss 0.6921]\n",
      "Epoch 12 Validation: 100%|██████████| 13/13 [00:00<00:00, 38.94it/s, Val Loss 1.7269]\n"
     ]
    },
    {
     "name": "stdout",
     "output_type": "stream",
     "text": [
      "Epoch 12 - Training Loss: 0.6921, Validation Loss: 1.7269\n"
     ]
    },
    {
     "name": "stderr",
     "output_type": "stream",
     "text": [
      "Epoch 13: 100%|██████████| 112/112 [00:11<00:00, 10.01it/s, Loss 0.6104]\n",
      "Epoch 13 Validation: 100%|██████████| 13/13 [00:00<00:00, 38.85it/s, Val Loss 1.6997]\n"
     ]
    },
    {
     "name": "stdout",
     "output_type": "stream",
     "text": [
      "Epoch 13 - Training Loss: 0.6104, Validation Loss: 1.6997\n"
     ]
    },
    {
     "name": "stderr",
     "output_type": "stream",
     "text": [
      "Epoch 14: 100%|██████████| 112/112 [00:11<00:00, 10.02it/s, Loss 0.5442]\n",
      "Epoch 14 Validation: 100%|██████████| 13/13 [00:00<00:00, 38.98it/s, Val Loss 1.6777]\n"
     ]
    },
    {
     "name": "stdout",
     "output_type": "stream",
     "text": [
      "Epoch 14 - Training Loss: 0.5442, Validation Loss: 1.6777\n"
     ]
    },
    {
     "name": "stderr",
     "output_type": "stream",
     "text": [
      "Epoch 15: 100%|██████████| 112/112 [00:11<00:00, 10.01it/s, Loss 0.4967]\n",
      "Epoch 15 Validation: 100%|██████████| 13/13 [00:00<00:00, 38.85it/s, Val Loss 1.6266]\n"
     ]
    },
    {
     "name": "stdout",
     "output_type": "stream",
     "text": [
      "Epoch 15 - Training Loss: 0.4967, Validation Loss: 1.6266\n"
     ]
    },
    {
     "name": "stderr",
     "output_type": "stream",
     "text": [
      "Epoch 16: 100%|██████████| 112/112 [00:11<00:00, 10.01it/s, Loss 0.4594]\n",
      "Epoch 16 Validation: 100%|██████████| 13/13 [00:00<00:00, 38.98it/s, Val Loss 1.6233]\n"
     ]
    },
    {
     "name": "stdout",
     "output_type": "stream",
     "text": [
      "Epoch 16 - Training Loss: 0.4594, Validation Loss: 1.6233\n"
     ]
    },
    {
     "name": "stderr",
     "output_type": "stream",
     "text": [
      "Epoch 17: 100%|██████████| 112/112 [00:11<00:00, 10.02it/s, Loss 0.4378]\n",
      "Epoch 17 Validation: 100%|██████████| 13/13 [00:00<00:00, 38.91it/s, Val Loss 1.6245]\n"
     ]
    },
    {
     "name": "stdout",
     "output_type": "stream",
     "text": [
      "Epoch 17 - Training Loss: 0.4378, Validation Loss: 1.6245\n"
     ]
    },
    {
     "name": "stderr",
     "output_type": "stream",
     "text": [
      "Epoch 18: 100%|██████████| 112/112 [00:11<00:00, 10.01it/s, Loss 0.4219]\n",
      "Epoch 18 Validation: 100%|██████████| 13/13 [00:00<00:00, 39.10it/s, Val Loss 1.6630]\n"
     ]
    },
    {
     "name": "stdout",
     "output_type": "stream",
     "text": [
      "Epoch 18 - Training Loss: 0.4219, Validation Loss: 1.6630\n"
     ]
    },
    {
     "name": "stderr",
     "output_type": "stream",
     "text": [
      "Epoch 19: 100%|██████████| 112/112 [00:11<00:00, 10.01it/s, Loss 0.4031]\n",
      "Epoch 19 Validation: 100%|██████████| 13/13 [00:00<00:00, 39.02it/s, Val Loss 1.6473]\n"
     ]
    },
    {
     "name": "stdout",
     "output_type": "stream",
     "text": [
      "Epoch 19 - Training Loss: 0.4031, Validation Loss: 1.6473\n"
     ]
    },
    {
     "name": "stderr",
     "output_type": "stream",
     "text": [
      "Epoch 20: 100%|██████████| 112/112 [00:11<00:00, 10.02it/s, Loss 0.3865]\n",
      "Epoch 20 Validation: 100%|██████████| 13/13 [00:00<00:00, 38.96it/s, Val Loss 1.6130]\n"
     ]
    },
    {
     "name": "stdout",
     "output_type": "stream",
     "text": [
      "Epoch 20 - Training Loss: 0.3865, Validation Loss: 1.6130\n"
     ]
    },
    {
     "name": "stderr",
     "output_type": "stream",
     "text": [
      "Epoch 21: 100%|██████████| 112/112 [00:11<00:00, 10.02it/s, Loss 0.3754]\n",
      "Epoch 21 Validation: 100%|██████████| 13/13 [00:00<00:00, 38.88it/s, Val Loss 1.5739]\n"
     ]
    },
    {
     "name": "stdout",
     "output_type": "stream",
     "text": [
      "Epoch 21 - Training Loss: 0.3754, Validation Loss: 1.5739\n"
     ]
    },
    {
     "name": "stderr",
     "output_type": "stream",
     "text": [
      "Epoch 22: 100%|██████████| 112/112 [00:11<00:00, 10.02it/s, Loss 0.3632]\n",
      "Epoch 22 Validation: 100%|██████████| 13/13 [00:00<00:00, 38.97it/s, Val Loss 1.5832]\n"
     ]
    },
    {
     "name": "stdout",
     "output_type": "stream",
     "text": [
      "Epoch 22 - Training Loss: 0.3632, Validation Loss: 1.5832\n"
     ]
    },
    {
     "name": "stderr",
     "output_type": "stream",
     "text": [
      "Epoch 23: 100%|██████████| 112/112 [00:11<00:00, 10.02it/s, Loss 0.3632]\n",
      "Epoch 23 Validation: 100%|██████████| 13/13 [00:00<00:00, 38.90it/s, Val Loss 1.5885]\n"
     ]
    },
    {
     "name": "stdout",
     "output_type": "stream",
     "text": [
      "Epoch 23 - Training Loss: 0.3632, Validation Loss: 1.5885\n"
     ]
    },
    {
     "name": "stderr",
     "output_type": "stream",
     "text": [
      "Epoch 24: 100%|██████████| 112/112 [00:11<00:00, 10.01it/s, Loss 0.3621]\n",
      "Epoch 24 Validation: 100%|██████████| 13/13 [00:00<00:00, 38.88it/s, Val Loss 1.5898]\n"
     ]
    },
    {
     "name": "stdout",
     "output_type": "stream",
     "text": [
      "Epoch 24 - Training Loss: 0.3621, Validation Loss: 1.5898\n"
     ]
    },
    {
     "name": "stderr",
     "output_type": "stream",
     "text": [
      "Epoch 25: 100%|██████████| 112/112 [00:11<00:00, 10.02it/s, Loss 0.3515]\n",
      "Epoch 25 Validation: 100%|██████████| 13/13 [00:00<00:00, 38.84it/s, Val Loss 1.5814]"
     ]
    },
    {
     "name": "stdout",
     "output_type": "stream",
     "text": [
      "Epoch 25 - Training Loss: 0.3515, Validation Loss: 1.5814\n"
     ]
    },
    {
     "name": "stderr",
     "output_type": "stream",
     "text": [
      "\n"
     ]
    }
   ],
   "source": [
    "EPOCHS = 25\n",
    "\n",
    "import matplotlib.pyplot as plt\n",
    "\n",
    "train_losses = []  # 학습 손실을 저장할 리스트\n",
    "eval_losses = []   # 평가 손실을 저장할 리스트\n",
    "\n",
    "for epoch in range(EPOCHS):\n",
    "    total_loss = 0\n",
    "    total_eval_loss = 0  # 평가 손실을 저장할 변수\n",
    "\n",
    "    # 훈련 데이터에 대해 학습\n",
    "    dataset_count = tf.data.experimental.cardinality(train_data).numpy()\n",
    "    tqdm_bar = tqdm(enumerate(train_data), total=dataset_count)\n",
    "    \n",
    "    for batch, (enc_inputs, dec_inputs) in tqdm_bar:\n",
    "        batch_loss, enc_attns, dec_attns, dec_enc_attns = \\\n",
    "            train_step(enc_inputs, dec_inputs, transformer, optimizer)\n",
    "\n",
    "        total_loss += batch_loss\n",
    "\n",
    "        tqdm_bar.set_description_str(f'Epoch {epoch + 1}')\n",
    "        tqdm_bar.set_postfix_str(f'Loss {total_loss.numpy() / (batch + 1):.4f}')\n",
    "    \n",
    "    train_losses.append(total_loss.numpy() / (batch + 1))  # 학습 손실 기록\n",
    "    \n",
    "    # 평가 단계\n",
    "    eval_dataset_count = tf.data.experimental.cardinality(val_data).numpy()\n",
    "    eval_tqdm_bar = tqdm(enumerate(val_data), total=eval_dataset_count)\n",
    "\n",
    "    for batch, (enc_inputs, dec_inputs) in eval_tqdm_bar:\n",
    "        batch_loss, enc_attns, dec_attns, dec_enc_attns = \\\n",
    "            eval_step(enc_inputs, dec_inputs, transformer)\n",
    "\n",
    "        total_eval_loss += batch_loss\n",
    "\n",
    "        eval_tqdm_bar.set_description_str(f'Epoch {epoch + 1} Validation')\n",
    "        eval_tqdm_bar.set_postfix_str(f'Val Loss {total_eval_loss.numpy() / (batch + 1):.4f}')\n",
    "\n",
    "    eval_losses.append(total_eval_loss.numpy() / (batch + 1))  # 평가 손실 기록\n",
    "\n",
    "    print(f\"Epoch {epoch + 1} - Training Loss: {train_losses[-1]:.4f}, Validation Loss: {eval_losses[-1]:.4f}\")\n"
   ]
  },
  {
   "cell_type": "code",
   "execution_count": 114,
   "id": "29b98dba",
   "metadata": {},
   "outputs": [
    {
     "data": {
      "image/png": "[encoded data removed]",
      "text/plain": [
       "<Figure size 640x480 with 1 Axes>"
      ]
     },
     "metadata": {},
     "output_type": "display_data"
    }
   ],
   "source": [
    "# training / validation loss 시각화\n",
    "plt.plot(range(1, EPOCHS + 1), train_losses, label='Training Loss')\n",
    "plt.plot(range(1, EPOCHS + 1), eval_losses, label='Validation Loss')\n",
    "\n",
    "plt.xlabel('Epochs')\n",
    "plt.ylabel('Loss')\n",
    "plt.title('Training and Validation Loss')\n",
    "plt.legend()\n",
    "\n",
    "plt.show()"
   ]
  },
  {
   "cell_type": "markdown",
   "id": "f0edc803",
   "metadata": {},
   "source": [
    "#### 답변 생성하기"
   ]
  },
  {
   "cell_type": "code",
   "execution_count": 115,
   "id": "a9c6847a",
   "metadata": {},
   "outputs": [],
   "source": [
    "BOS_ID = 2\n",
    "EOS_ID = 3\n",
    "\n",
    "def translate(tokens, model, tokenizer):\n",
    "    # 입력 문장을 패딩\n",
    "    padded_tokens = tf.keras.preprocessing.sequence.pad_sequences([tokens],\n",
    "                                                                  maxlen=max_len,\n",
    "                                                                  padding='post')\n",
    "\n",
    "    ids = []\n",
    "    output = tf.expand_dims([BOS_ID], 0)  # 시작 토큰 추가\n",
    "\n",
    "    for i in range(max_len):\n",
    "        enc_padding_mask, combined_mask, dec_padding_mask = \\\n",
    "            generate_masks(padded_tokens, output)\n",
    "\n",
    "        predictions, _, _, _ = model(padded_tokens, \n",
    "                                     output,\n",
    "                                     enc_padding_mask,\n",
    "                                     combined_mask,\n",
    "                                     dec_padding_mask)\n",
    "\n",
    "        predicted_id = tf.argmax(tf.math.softmax(predictions, axis=-1)[0, -1]).numpy().item()\n",
    "\n",
    "        if predicted_id == EOS_ID:  # 종료 토큰이면 중단\n",
    "            return tokenizer.sequences_to_texts([ids])[0]\n",
    "\n",
    "        ids.append(predicted_id)\n",
    "        output = tf.concat([output, tf.expand_dims([predicted_id], 0)], axis=-1)\n",
    "\n",
    "    return tokenizer.sequences_to_texts([ids])[0]"
   ]
  },
  {
   "cell_type": "code",
   "execution_count": 116,
   "id": "32355c82",
   "metadata": {},
   "outputs": [],
   "source": [
    "def generate_answers(sample_questions, model, tokenizer):\n",
    "    responses = []\n",
    "    \n",
    "    for question in sample_questions:\n",
    "        # 입력 문장을 정수 인덱스 시퀀스로 변환\n",
    "        tokens = tokenizer.texts_to_sequences([question])[0]\n",
    "\n",
    "        # 번역(답변 생성)\n",
    "        response = translate(tokens, model, tokenizer)\n",
    "\n",
    "        # 결과 저장\n",
    "        responses.append(response)\n",
    "    \n",
    "    return responses"
   ]
  },
  {
   "cell_type": "code",
   "execution_count": 118,
   "id": "5e238189",
   "metadata": {},
   "outputs": [
    {
     "name": "stdout",
     "output_type": "stream",
     "text": [
      "질문: 지루하다, 놀러가고 싶어.\n",
      "답변: 네\n",
      "\n",
      "질문: 간만에 여자친구랑 데이트 하기로 했어.\n",
      "답변: 힘 이 크 죠 .\n",
      "\n",
      "질문: 집에 있는다는 소리야.\n",
      "답변: 네\n",
      "\n",
      "질문: 오늘 일찍 일어났더니 피곤하다.\n",
      "답변: 오늘 어려서 주무세요 \"\n",
      "\n",
      "질문: 썸을 오래 탔는데 사귀어도 괜찮은 사람일까?\n",
      "답변: 합격 단기간 에 는 면역 이 중요 노력 하 죠 .\n",
      "\n",
      "질문: 이별에도 준비가 필요한 거겠죠?\n",
      "답변: 네\n",
      "\n",
      "질문: 뒤에서 얘기하면 내가 못 들을 줄 알았나봐?\n",
      "답변: 좀 기다리 고 있 어 가 는 것 같 아요 .\n",
      "\n"
     ]
    }
   ],
   "source": [
    "# 예문\n",
    "sample_questions = [\"지루하다, 놀러가고 싶어.\",\n",
    "                    \"간만에 여자친구랑 데이트 하기로 했어.\",\n",
    "                    \"집에 있는다는 소리야.\",\n",
    "                    \"오늘 일찍 일어났더니 피곤하다.\",\n",
    "                    \"썸을 오래 탔는데 사귀어도 괜찮은 사람일까?\",\n",
    "                    \"이별에도 준비가 필요한 거겠죠?\",\n",
    "                    \"뒤에서 얘기하면 내가 못 들을 줄 알았나봐?\"]\n",
    "\n",
    "answers = generate_answers(sample_questions, transformer, tokenizer)\n",
    "\n",
    "for question, answer in zip(sample_questions, answers):\n",
    "    print(f\"질문: {question}\")\n",
    "    print(f\"답변: {answer}\\n\")"
   ]
  },
  {
   "cell_type": "markdown",
   "id": "9b58a99a",
   "metadata": {},
   "source": [
    "#### BLEU score 평가하기"
   ]
  },
  {
   "cell_type": "code",
   "execution_count": 119,
   "id": "28eaf9dd",
   "metadata": {},
   "outputs": [],
   "source": [
    "def eval_bleu_single(model, src_sentence, tgt_sentence, tokenizer, max_len):\n",
    "    src_tokens = tokenizer.texts_to_sequences([src_sentence])[0]\n",
    "    tgt_tokens = tokenizer.texts_to_sequences([tgt_sentence])[0]\n",
    "\n",
    "    # 길이가 max_len을 초과하면 평가하지 않음\n",
    "    if len(src_tokens) > max_len: \n",
    "        return None\n",
    "    if len(tgt_tokens) > max_len: \n",
    "        return None\n",
    "    \n",
    "    # 모델을 사용하여 번역 생성\n",
    "    candidate = translate(src_tokens, model, tokenizer)\n",
    "\n",
    "    # BLEU score 계산\n",
    "    score = sentence_bleu(tgt_sentence, candidate, smoothing_function=SmoothingFunction().method1)\n",
    "\n",
    "    return score"
   ]
  },
  {
   "cell_type": "code",
   "execution_count": 120,
   "id": "21bcb7aa",
   "metadata": {},
   "outputs": [
    {
     "name": "stdout",
     "output_type": "stream",
     "text": [
      "0.012219667481477889\n"
     ]
    }
   ],
   "source": [
    "score = eval_bleu_single(transformer,\n",
    "                         \"비싼 명품 이제 그만 사야겠어\",\n",
    "                         \"남의 눈을 위한 거라면 필요 없어요.\",\n",
    "                         tokenizer,\n",
    "                         max_len)\n",
    "print(score)"
   ]
  },
  {
   "cell_type": "code",
   "execution_count": 121,
   "id": "2c868b42",
   "metadata": {},
   "outputs": [],
   "source": [
    "def eval_bleu(model, src_sentences, tgt_sentence, tokenizer, verbose=True):\n",
    "    total_score = 0.0\n",
    "    sample_size = len(src_sentences)\n",
    "    \n",
    "    for idx in range(sample_size):\n",
    "        score = eval_bleu_single(model, src_sentences[idx], tgt_sentence[idx], tokenizer, verbose)\n",
    "        if not score: \n",
    "            continue\n",
    "        \n",
    "        total_score += score\n",
    "    \n",
    "    print(\"Num of Sample:\", sample_size)\n",
    "    print(\"Total Score:\", total_score / sample_size)"
   ]
  },
  {
   "cell_type": "code",
   "execution_count": 122,
   "id": "817a155b",
   "metadata": {},
   "outputs": [
    {
     "name": "stdout",
     "output_type": "stream",
     "text": [
      "Num of Sample: 1175\n",
      "Total Score: 0.0019674580706813614\n"
     ]
    }
   ],
   "source": [
    "eval_bleu(transformer, que_corpus_test, ans_corpus_test, tokenizer, verbose=False)"
   ]
  },
  {
   "cell_type": "markdown",
   "id": "d8e0f9c4",
   "metadata": {},
   "source": [
    "#### 회고\n",
    "\n",
    "- 기존 lexical_sub 함수의 문제점?  \n",
    "    - 모든 토큰이 유사어로 바뀌다보니, 원래 문장과 의미도 상당히 다르고 문법적으로도 어색한 문장이 나오면서 원래에 비해 훼손된 문장을 생성하는 경우가 많았다.\n",
    "    - 예를 들면, '사과'의 경우 '사죄'가 가장 유사한 단어이지만, 문맥상 '바나나', '과일' 등으로 대체되는 것이 합리적인 선택인 경우도 있다. \n",
    "    - 따라서 일부 단어만 랜덤하게 바꾸는 방식으로 로직을 변경하였다."
   ]
  },
  {
   "cell_type": "markdown",
   "id": "094863b1",
   "metadata": {},
   "source": [
    "#### 총평\n",
    "\n",
    "- 납득 가능한 답변을 생성하는 경우도 있었지만, 전반적으론 답변 생성의 품질이나 variation이 좋은 편은 아니었다. 그리고 bleu score가 매우 낮게 나왔는데, 이는 앞으로 개선해야 할 부분이다.  "
   ]
  },
  {
   "cell_type": "markdown",
   "id": "bc18dcc3",
   "metadata": {},
   "source": []
  }
 ],
 "metadata": {
  "kernelspec": {
   "display_name": "tfenv",
   "language": "python",
   "name": "python3"
  },
  "language_info": {
   "codemirror_mode": {
    "name": "ipython",
    "version": 3
   },
   "file_extension": ".py",
   "mimetype": "text/x-python",
   "name": "python",
   "nbconvert_exporter": "python",
   "pygments_lexer": "ipython3",
   "version": "3.10.16"
  }
 },
 "nbformat": 4,
 "nbformat_minor": 5
}
