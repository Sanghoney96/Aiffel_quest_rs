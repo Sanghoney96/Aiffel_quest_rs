{
 "cells": [
  {
   "cell_type": "code",
   "execution_count": 1,
   "id": "30e75638",
   "metadata": {},
   "outputs": [
    {
     "data": {
      "text/plain": [
       "'/usr/share/fonts/truetype/nanum/NanumBarunGothic.ttf'"
      ]
     },
     "execution_count": 1,
     "metadata": {},
     "output_type": "execute_result"
    }
   ],
   "source": [
    "import matplotlib as mpl\n",
    "import matplotlib.pyplot as plt\n",
    " \n",
    "%config InlineBackend.figure_format = 'retina'\n",
    "\n",
    "import matplotlib.font_manager as fm\n",
    "fontpath = '/usr/share/fonts/truetype/nanum/NanumBarunGothic.ttf'\n",
    "font = fm.FontProperties(fname=fontpath, size=9)\n",
    "plt.rc('font', family='NanumBarunGothic') \n",
    "mpl.font_manager.findfont(font)"
   ]
  },
  {
   "cell_type": "code",
   "execution_count": 2,
   "id": "9db26dbb",
   "metadata": {},
   "outputs": [
    {
     "name": "stdout",
     "output_type": "stream",
     "text": [
      "Requirement already satisfied: mecab-python3 in /opt/conda/lib/python3.9/site-packages (1.0.10)\n",
      "\u001b[33mWARNING: Running pip as the 'root' user can result in broken permissions and conflicting behaviour with the system package manager. It is recommended to use a virtual environment instead: https://pip.pypa.io/warnings/venv\u001b[0m\n"
     ]
    }
   ],
   "source": [
    "!pip install mecab-python3"
   ]
  },
  {
   "cell_type": "code",
   "execution_count": 3,
   "id": "c55b8bd5",
   "metadata": {},
   "outputs": [],
   "source": [
    "import tensorflow as tf\n",
    "import numpy as np\n",
    "import pandas as pd\n",
    "\n",
    "from sklearn.model_selection import train_test_split\n",
    "\n",
    "import matplotlib.ticker as ticker\n",
    "import matplotlib.pyplot as plt\n",
    "\n",
    "import MeCab\n",
    "\n",
    "import time\n",
    "import re\n",
    "import os\n",
    "import io\n",
    "from tqdm import tqdm\n",
    "import random"
   ]
  },
  {
   "cell_type": "markdown",
   "id": "6940c40f",
   "metadata": {},
   "source": [
    "### 데이터 다운로드"
   ]
  },
  {
   "cell_type": "code",
   "execution_count": 4,
   "id": "6660ab50",
   "metadata": {},
   "outputs": [],
   "source": [
    "path_to_dir = os.getenv('HOME') + \"/aiffel/s2s_translation/data/\"\n",
    "\n",
    "path_to_train_kor = path_to_dir + \"korean-english-park.train.ko\"\n",
    "path_to_train_eng = path_to_dir + \"korean-english-park.train.en\"\n",
    "\n",
    "path_to_test_kor = path_to_dir + \"korean-english-park.test.ko\"\n",
    "path_to_test_eng = path_to_dir + \"korean-english-park.test.en\""
   ]
  },
  {
   "cell_type": "code",
   "execution_count": 5,
   "id": "0f60b7a7",
   "metadata": {},
   "outputs": [],
   "source": [
    "def read_data(path_to_data):\n",
    "    with open(path_to_data, \"r\") as f:\n",
    "        data = f.read().splitlines()\n",
    "    return data"
   ]
  },
  {
   "cell_type": "code",
   "execution_count": 6,
   "id": "8570e8ab",
   "metadata": {},
   "outputs": [],
   "source": [
    "src_train = read_data(path_to_train_kor)\n",
    "tgt_train = read_data(path_to_train_eng)\n",
    "\n",
    "src_test = read_data(path_to_test_kor)\n",
    "tgt_test = read_data(path_to_test_eng)"
   ]
  },
  {
   "cell_type": "code",
   "execution_count": 7,
   "id": "6e2ba0bc",
   "metadata": {},
   "outputs": [
    {
     "name": "stdout",
     "output_type": "stream",
     "text": [
      "94123\n",
      "2000\n"
     ]
    }
   ],
   "source": [
    "print(len(src_train))\n",
    "print(len(src_test))"
   ]
  },
  {
   "cell_type": "code",
   "execution_count": 8,
   "id": "cddee794",
   "metadata": {},
   "outputs": [],
   "source": [
    "# 데이터 중복 제거\n",
    "unique_pairs = set(zip(src_train, tgt_train))\n",
    "corpus_train = list(unique_pairs)"
   ]
  },
  {
   "cell_type": "markdown",
   "id": "d271ff26",
   "metadata": {},
   "source": [
    "### 데이터 전처리"
   ]
  },
  {
   "cell_type": "code",
   "execution_count": 9,
   "id": "70273d7c",
   "metadata": {},
   "outputs": [],
   "source": [
    "def preprocess_eng(sentence):\n",
    "    sentence = sentence.lower().strip()\n",
    "\n",
    "    sentence = re.sub(r\"([?.!,])\", r\" \\1 \", sentence)\n",
    "    sentence = re.sub(r'[\" \"]+', \" \", sentence)\n",
    "    sentence = re.sub(r\"[^a-zA-Z?.!,]+\", \" \", sentence)\n",
    "\n",
    "    sentence = sentence.strip()\n",
    "\n",
    "    sentence = '<start> ' + sentence + ' <end>'\n",
    "    \n",
    "    return sentence"
   ]
  },
  {
   "cell_type": "code",
   "execution_count": 10,
   "id": "baf3d30b",
   "metadata": {},
   "outputs": [],
   "source": [
    "def preprocess_kor(sentence):\n",
    "    sentence = sentence.strip()\n",
    "\n",
    "    # 문장부호 앞뒤로 공백 추가\n",
    "    sentence = re.sub(r\"([?.!,])\", r\" \\1 \", sentence)\n",
    "    \n",
    "    # 연속된 공백을 하나의 공백으로 변환\n",
    "    sentence = re.sub(r\"\\s+\", \" \", sentence)\n",
    "\n",
    "    # 한글, 문장부호(?.!,)만 남기고 나머지는 제거\n",
    "    sentence = re.sub(r\"[^가-힣ㄱ-ㅎㅏ-ㅣ?.!,]+\", \" \", sentence)\n",
    "\n",
    "    sentence = sentence.strip()\n",
    "    \n",
    "    return sentence"
   ]
  },
  {
   "cell_type": "code",
   "execution_count": 11,
   "id": "874c0804",
   "metadata": {},
   "outputs": [
    {
     "name": "stdout",
     "output_type": "stream",
     "text": [
      "Korean: 이 은행의 가장 중요한 임무는 인플레이션 압박을 완화하는 것이다 .\n",
      "English: <start> the bank s primary mission is to combat inflation . <end>\n",
      "8058\n"
     ]
    }
   ],
   "source": [
    "enc_corpus_train = []\n",
    "dec_corpus_train = []\n",
    "\n",
    "for pair in corpus_train:\n",
    "    kor, eng = pair[0], pair[1]\n",
    "    if len(kor) <= 60 and len(eng) <= 60:\n",
    "        enc_corpus_train.append(preprocess_kor(kor))\n",
    "        dec_corpus_train.append(preprocess_eng(eng))\n",
    "\n",
    "print(\"Korean:\", enc_corpus_train[1972])\n",
    "print(\"English:\", dec_corpus_train[1972])\n",
    "\n",
    "print(len(enc_corpus_train))"
   ]
  },
  {
   "cell_type": "code",
   "execution_count": 12,
   "id": "8a711366",
   "metadata": {},
   "outputs": [],
   "source": [
    "def tokenize_eng(corpus):\n",
    "    tokenizer = tf.keras.preprocessing.text.Tokenizer(filters='')\n",
    "    tokenizer.fit_on_texts(corpus)\n",
    "\n",
    "    tensor = tokenizer.texts_to_sequences(corpus)\n",
    "\n",
    "    tensor = tf.keras.preprocessing.sequence.pad_sequences(tensor, padding='post')\n",
    "\n",
    "    return tensor, tokenizer"
   ]
  },
  {
   "cell_type": "code",
   "execution_count": 13,
   "id": "aaf93212",
   "metadata": {},
   "outputs": [],
   "source": [
    "def tokenize_kor(corpus):\n",
    "    mecab = MeCab.Tagger()\n",
    "    \n",
    "    # Tokenizing each sentence\n",
    "    tokenized_corpus = []\n",
    "    for sentence in corpus:\n",
    "        parsed_text = mecab.parse(sentence)  # Parse the sentence\n",
    "        tokens = [line.split(\"\\t\")[0] for line in parsed_text.split(\"\\n\") if line and \"\\t\" in line]  # Extract words\n",
    "        tokenized_corpus.append(tokens)\n",
    "\n",
    "    # Keras Tokenizer to convert tokens to integers\n",
    "    tokenizer = tf.keras.preprocessing.text.Tokenizer(filters='')\n",
    "    tokenizer.fit_on_texts(tokenized_corpus)\n",
    "\n",
    "    tensor = tokenizer.texts_to_sequences(tokenized_corpus)\n",
    "    tensor = tf.keras.preprocessing.sequence.pad_sequences(tensor, padding='post')\n",
    "\n",
    "    return tensor, tokenizer"
   ]
  },
  {
   "cell_type": "code",
   "execution_count": 14,
   "id": "89d1dfc6",
   "metadata": {},
   "outputs": [],
   "source": [
    "# 토큰화하기\n",
    "enc_input, enc_tokenizer = tokenize_kor(enc_corpus_train)\n",
    "dec_input, dec_tokenizer = tokenize_eng(dec_corpus_train)\n",
    "\n",
    "# train_test_split을 활용해서 훈련 데이터와 검증 데이터로 분리하기\n",
    "enc_train, enc_val = train_test_split(enc_input, test_size=0.2)\n",
    "dec_train, dec_val = train_test_split(dec_input, test_size=0.2)"
   ]
  },
  {
   "cell_type": "code",
   "execution_count": 15,
   "id": "d41b6204",
   "metadata": {},
   "outputs": [
    {
     "name": "stdout",
     "output_type": "stream",
     "text": [
      "1612\n"
     ]
    }
   ],
   "source": [
    "print(len(enc_val))"
   ]
  },
  {
   "cell_type": "markdown",
   "id": "7a576bbc",
   "metadata": {},
   "source": [
    "### 모델 설계"
   ]
  },
  {
   "cell_type": "code",
   "execution_count": 16,
   "id": "e75443ec",
   "metadata": {},
   "outputs": [],
   "source": [
    "class BahdanauAttention(tf.keras.layers.Layer):\n",
    "    def __init__(self, hidden_size):\n",
    "        super(BahdanauAttention, self).__init__()\n",
    "        self.w_dec = tf.keras.layers.Dense(hidden_size)\n",
    "        self.w_enc = tf.keras.layers.Dense(hidden_size)\n",
    "        self.w_com = tf.keras.layers.Dense(1)\n",
    "    \n",
    "    def call(self, h_enc, h_dec):\n",
    "        h_enc = self.w_enc(h_enc)   # shape : (batch, length, hidden_size)\n",
    "        h_dec = tf.expand_dims(h_dec, 1)    # shape : (batch, hidden_size) -> (batch, 1, hidden_size)\n",
    "        h_dec = self.w_dec(h_dec)   \n",
    "\n",
    "        score = self.w_com(tf.nn.tanh(h_dec + h_enc))\n",
    "        \n",
    "        attn = tf.nn.softmax(score, axis=1)\n",
    "\n",
    "        context_vec = attn * h_enc\n",
    "        context_vec = tf.reduce_sum(context_vec, axis=1)\n",
    "\n",
    "        return context_vec, attn"
   ]
  },
  {
   "cell_type": "code",
   "execution_count": 17,
   "id": "bf34aac1",
   "metadata": {},
   "outputs": [],
   "source": [
    "class Encoder(tf.keras.Model):\n",
    "    def __init__(self, vocab_size, embedding_dim, enc_units):\n",
    "        super(Encoder, self).__init__()\n",
    "        \n",
    "        self.enc_units = enc_units\n",
    "        self.embedding = tf.keras.layers.Embedding(vocab_size, embedding_dim)\n",
    "        self.gru = tf.keras.layers.GRU(enc_units,\n",
    "                                       return_sequences=True)\n",
    "        \n",
    "    def call(self, x):\n",
    "        out = self.embedding(x)\n",
    "        out = self.gru(out)\n",
    "        \n",
    "        return out"
   ]
  },
  {
   "cell_type": "code",
   "execution_count": 18,
   "id": "49da51b9",
   "metadata": {},
   "outputs": [],
   "source": [
    "class Decoder(tf.keras.Model):\n",
    "    def __init__(self, vocab_size, embedding_dim, dec_units):\n",
    "        super(Decoder, self).__init__()\n",
    "        self.dec_units = dec_units\n",
    "        self.embedding = tf.keras.layers.Embedding(vocab_size, embedding_dim)\n",
    "        self.gru = tf.keras.layers.GRU(dec_units,\n",
    "                                       return_sequences=True,\n",
    "                                       return_state=True)\n",
    "        self.fc = tf.keras.layers.Dense(vocab_size)\n",
    "\n",
    "        self.attention = BahdanauAttention(self.dec_units)\n",
    "\n",
    "    def call(self, x, h_dec, enc_out):\n",
    "        context_vec, attn = self.attention(enc_out, h_dec)\n",
    "\n",
    "        out = self.embedding(x)\n",
    "        out = tf.concat([tf.expand_dims(context_vec, 1), out], axis=-1)\n",
    "        \n",
    "        out, h_dec = self.gru(out)\n",
    "        out = self.fc(out)\n",
    "\n",
    "        return out, h_dec, attn"
   ]
  },
  {
   "cell_type": "code",
   "execution_count": 19,
   "id": "03c98440",
   "metadata": {},
   "outputs": [
    {
     "name": "stdout",
     "output_type": "stream",
     "text": [
      "Encoder Output: (128, 60, 512)\n",
      "Decoder Output: (128, 1, 9309)\n",
      "Decoder Hidden State: (128, 512)\n",
      "Attention: (128, 60, 1)\n"
     ]
    }
   ],
   "source": [
    "BATCH_SIZE = 128\n",
    "SRC_VOCAB_SIZE = len(enc_tokenizer.index_word) + 1\n",
    "TGT_VOCAB_SIZE = len(dec_tokenizer.index_word) + 1\n",
    "\n",
    "units = 512\n",
    "embedding_dim = 512\n",
    "\n",
    "encoder = Encoder(SRC_VOCAB_SIZE, embedding_dim, units)\n",
    "decoder = Decoder(TGT_VOCAB_SIZE, embedding_dim, units)\n",
    "\n",
    "# sample input\n",
    "sequence_len = 60\n",
    "\n",
    "sample_enc = tf.random.uniform((BATCH_SIZE, sequence_len))\n",
    "sample_output = encoder(sample_enc)\n",
    "\n",
    "print ('Encoder Output:', sample_output.shape)\n",
    "\n",
    "sample_state = tf.random.uniform((BATCH_SIZE, units))\n",
    "\n",
    "sample_logits, h_dec, attn = decoder(tf.random.uniform((BATCH_SIZE, 1)),\n",
    "                                     sample_state, sample_output)\n",
    "\n",
    "print ('Decoder Output:', sample_logits.shape)\n",
    "print ('Decoder Hidden State:', h_dec.shape)\n",
    "print ('Attention:', attn.shape)"
   ]
  },
  {
   "cell_type": "markdown",
   "id": "e1874da3",
   "metadata": {},
   "source": [
    "### 학습 & 추론"
   ]
  },
  {
   "cell_type": "code",
   "execution_count": 26,
   "id": "352360a8",
   "metadata": {},
   "outputs": [],
   "source": [
    "optimizer = tf.keras.optimizers.Adam(0.0001)\n",
    "loss_object = tf.keras.losses.SparseCategoricalCrossentropy(from_logits=True, \n",
    "                                                            reduction='none')\n",
    "\n",
    "def loss_function(y_true, y_pred):\n",
    "    mask = tf.math.not_equal(y_true, 0)\n",
    "    loss = loss_object(y_true, y_pred)\n",
    "    \n",
    "    mask = tf.cast(mask, dtype=loss.dtype)\n",
    "    loss *= mask\n",
    "    \n",
    "    return tf.reduce_mean(loss)"
   ]
  },
  {
   "cell_type": "code",
   "execution_count": 27,
   "id": "4b17d014",
   "metadata": {},
   "outputs": [],
   "source": [
    "@tf.function\n",
    "def train_step(src, tgt, encoder, decoder, optimizer, dec_tok):\n",
    "    batch_size = src.shape[0]\n",
    "    loss = 0\n",
    "\n",
    "    with tf.GradientTape() as tape:\n",
    "        enc_out = encoder(src)\n",
    "        h_dec = enc_out[:, -1]\n",
    "        \n",
    "        dec_src = tf.expand_dims([dec_tok.word_index['<start>']] * batch_size, 1)\n",
    "\n",
    "        for t in range(1, tgt.shape[1]):\n",
    "            pred, h_dec, _ = decoder(dec_src, h_dec, enc_out)\n",
    "\n",
    "            loss += loss_function(tgt[:, t], pred)\n",
    "            dec_src = tf.expand_dims(tgt[:, t], 1)\n",
    "        \n",
    "    batch_loss = (loss / int(tgt.shape[1]))\n",
    "\n",
    "    variables = encoder.trainable_variables + decoder.trainable_variables\n",
    "    gradients = tape.gradient(loss, variables)\n",
    "    optimizer.apply_gradients(zip(gradients, variables))\n",
    "    \n",
    "    return batch_loss"
   ]
  },
  {
   "cell_type": "code",
   "execution_count": 28,
   "id": "a7c6d8bc",
   "metadata": {},
   "outputs": [
    {
     "name": "stderr",
     "output_type": "stream",
     "text": [
      "Epoch  1: 100%|██████████| 51/51 [00:41<00:00,  1.24it/s, Loss 2.9631]\n",
      "Test Epoch  1: 100%|██████████| 13/13 [00:12<00:00,  1.04it/s, Test Loss 3.0457]\n",
      "Epoch  2: 100%|██████████| 51/51 [00:06<00:00,  8.31it/s, Loss 2.9166]\n",
      "Test Epoch  2: 100%|██████████| 13/13 [00:00<00:00, 23.02it/s, Test Loss 3.0208]\n",
      "Epoch  3: 100%|██████████| 51/51 [00:06<00:00,  8.28it/s, Loss 2.8459]\n",
      "Test Epoch  3: 100%|██████████| 13/13 [00:00<00:00, 22.93it/s, Test Loss 2.9248]\n",
      "Epoch  4: 100%|██████████| 51/51 [00:06<00:00,  8.21it/s, Loss 2.7554]\n",
      "Test Epoch  4: 100%|██████████| 13/13 [00:00<00:00, 23.11it/s, Test Loss 2.8847]\n",
      "Epoch  5: 100%|██████████| 51/51 [00:06<00:00,  8.16it/s, Loss 2.7016]\n",
      "Test Epoch  5: 100%|██████████| 13/13 [00:00<00:00, 22.84it/s, Test Loss 2.8476]\n",
      "Epoch  6: 100%|██████████| 51/51 [00:06<00:00,  8.11it/s, Loss 2.6616]\n",
      "Test Epoch  6: 100%|██████████| 13/13 [00:00<00:00, 22.73it/s, Test Loss 2.8226]\n",
      "Epoch  7: 100%|██████████| 51/51 [00:06<00:00,  8.08it/s, Loss 2.6286]\n",
      "Test Epoch  7: 100%|██████████| 13/13 [00:00<00:00, 22.78it/s, Test Loss 2.8144]\n",
      "Epoch  8: 100%|██████████| 51/51 [00:06<00:00,  8.05it/s, Loss 2.6009]\n",
      "Test Epoch  8: 100%|██████████| 13/13 [00:00<00:00, 22.63it/s, Test Loss 2.7928]\n",
      "Epoch  9: 100%|██████████| 51/51 [00:06<00:00,  8.06it/s, Loss 2.5795]\n",
      "Test Epoch  9: 100%|██████████| 13/13 [00:00<00:00, 22.76it/s, Test Loss 2.7884]\n",
      "Epoch 10: 100%|██████████| 51/51 [00:06<00:00,  8.08it/s, Loss 2.5604]\n",
      "Test Epoch 10: 100%|██████████| 13/13 [00:00<00:00, 22.73it/s, Test Loss 2.7928]\n"
     ]
    }
   ],
   "source": [
    "# Define eval_step\n",
    "@tf.function\n",
    "def eval_step(src, tgt, encoder, decoder, dec_tok):\n",
    "    bsz = src.shape[0]\n",
    "    loss = 0\n",
    "\n",
    "    enc_out = encoder(src)\n",
    "\n",
    "    h_dec = enc_out[:, -1]\n",
    "    \n",
    "    dec_src = tf.expand_dims([dec_tok.word_index['<start>']] * bsz, 1)\n",
    "\n",
    "    for t in range(1, tgt.shape[1]):\n",
    "        pred, h_dec, _ = decoder(dec_src, h_dec, enc_out)\n",
    "\n",
    "        loss += loss_function(tgt[:, t], pred)\n",
    "        dec_src = tf.expand_dims(tgt[:, t], 1)\n",
    "        \n",
    "    batch_loss = (loss / int(tgt.shape[1]))\n",
    "    \n",
    "    return batch_loss\n",
    "\n",
    "\n",
    "# Training Process with validation\n",
    "\n",
    "EPOCHS = 10\n",
    "\n",
    "for epoch in range(EPOCHS):\n",
    "    total_loss = 0\n",
    "    \n",
    "    idx_list = list(range(0, enc_train.shape[0], BATCH_SIZE))\n",
    "    random.shuffle(idx_list)\n",
    "    t = tqdm(idx_list)\n",
    "\n",
    "    for (batch, idx) in enumerate(t):\n",
    "        batch_loss = train_step(enc_train[idx:idx+BATCH_SIZE],\n",
    "                                dec_train[idx:idx+BATCH_SIZE],\n",
    "                                encoder,\n",
    "                                decoder,\n",
    "                                optimizer,\n",
    "                                dec_tokenizer)\n",
    "    \n",
    "        total_loss += batch_loss\n",
    "        \n",
    "        t.set_description_str('Epoch %2d' % (epoch + 1))\n",
    "        t.set_postfix_str('Loss %.4f' % (total_loss.numpy() / (batch + 1)))\n",
    "    \n",
    "    test_loss = 0\n",
    "    \n",
    "    idx_list = list(range(0, enc_val.shape[0], BATCH_SIZE))\n",
    "    random.shuffle(idx_list)\n",
    "    t = tqdm(idx_list)\n",
    "\n",
    "    for (test_batch, idx) in enumerate(t):\n",
    "        test_batch_loss = eval_step(enc_val[idx:idx+BATCH_SIZE],\n",
    "                                    dec_val[idx:idx+BATCH_SIZE],\n",
    "                                    encoder,\n",
    "                                    decoder,\n",
    "                                    dec_tokenizer)\n",
    "    \n",
    "        test_loss += test_batch_loss\n",
    "\n",
    "        t.set_description_str('Test Epoch %2d' % (epoch + 1))\n",
    "        t.set_postfix_str('Test Loss %.4f' % (test_loss.numpy() / (test_batch + 1)))"
   ]
  },
  {
   "cell_type": "markdown",
   "id": "d23cb4b6",
   "metadata": {},
   "source": [
    "### 번역 결과 확인"
   ]
  },
  {
   "cell_type": "code",
   "execution_count": 29,
   "id": "b580b29e",
   "metadata": {},
   "outputs": [
    {
     "name": "stdout",
     "output_type": "stream",
     "text": [
      "Input: 비록 그 위협은 적지만 , 그 잠재적인 영향력은 가히 파괴적인 것이다\n",
      "Predicted translation: the the the the the the the the the the the the the the the the the the the the \n"
     ]
    },
    {
     "name": "stderr",
     "output_type": "stream",
     "text": [
      "/tmp/ipykernel_96/3434245412.py:53: UserWarning: FixedFormatter should only be used together with FixedLocator\n",
      "  ax.set_xticklabels([''] + sentence, fontdict=fontdict, rotation=90)\n",
      "/tmp/ipykernel_96/3434245412.py:55: UserWarning: FixedFormatter should only be used together with FixedLocator\n",
      "  ax.set_yticklabels([''] + predicted_sentence, fontdict=fontdict)\n"
     ]
    },
    {
     "data": {
      "image/png": "[encoded data removed]",
      "text/plain": [
       "<Figure size 720x720 with 1 Axes>"
      ]
     },
     "metadata": {
      "image/png": {
       "height": 618,
       "width": 341
      },
      "needs_background": "light"
     },
     "output_type": "display_data"
    }
   ],
   "source": [
    "def evaluate(sentence, encoder, decoder):\n",
    "    attention = np.zeros((dec_train.shape[-1], enc_train.shape[-1]))\n",
    "    \n",
    "    sentence = preprocess_kor(sentence)\n",
    "    inputs = enc_tokenizer.texts_to_sequences([sentence.split()])\n",
    "    inputs = tf.keras.preprocessing.sequence.pad_sequences(inputs,\n",
    "                                                           maxlen=enc_train.shape[-1],\n",
    "                                                           padding='post')\n",
    "    \n",
    "    result = ''\n",
    "\n",
    "    enc_out = encoder(inputs)\n",
    "\n",
    "    dec_hidden = enc_out[:, -1]\n",
    "    dec_input = tf.expand_dims([dec_tokenizer.word_index['<start>']], 0)\n",
    "\n",
    "    for t in range(dec_train.shape[-1]):\n",
    "        predictions, dec_hidden, attention_weights = decoder(dec_input,\n",
    "                                                             dec_hidden,\n",
    "                                                             enc_out)\n",
    "\n",
    "        attention_weights = tf.reshape(attention_weights, (-1,))\n",
    "        attention[t] = attention_weights.numpy()\n",
    "\n",
    "        # Ensure to take the argmax for batch_size=1 and handle it correctly for larger batches\n",
    "        predicted_id = tf.argmax(tf.math.softmax(predictions, axis=-1)[0], axis=-1).numpy()  # Shape: (batch_size,)\n",
    "        \n",
    "        # If batch_size=1, just take the first element\n",
    "        if predicted_id.shape[0] == 1:\n",
    "            predicted_id = predicted_id[0]\n",
    "        else:\n",
    "            # Handle the batch case (take first prediction for simplicity)\n",
    "            predicted_id = predicted_id[0]\n",
    "\n",
    "        result += dec_tokenizer.index_word[predicted_id] + ' '\n",
    "\n",
    "        if dec_tokenizer.index_word[predicted_id] == '<end>':\n",
    "            return result, sentence, attention\n",
    "\n",
    "        dec_input = tf.expand_dims([predicted_id], 0)\n",
    "\n",
    "    return result, sentence, attention\n",
    "\n",
    "\n",
    "\n",
    "def plot_attention(attention, sentence, predicted_sentence):\n",
    "    fig = plt.figure(figsize=(10,10))\n",
    "    ax = fig.add_subplot(1, 1, 1)\n",
    "    ax.matshow(attention, cmap='viridis')\n",
    "\n",
    "    fontdict = {'fontsize': 14}\n",
    "\n",
    "    ax.set_xticklabels([''] + sentence, fontdict=fontdict, rotation=90)\n",
    "    \n",
    "    ax.set_yticklabels([''] + predicted_sentence, fontdict=fontdict)\n",
    "\n",
    "    ax.xaxis.set_major_locator(ticker.MultipleLocator(1))\n",
    "    ax.yaxis.set_major_locator(ticker.MultipleLocator(1))\n",
    "\n",
    "    plt.show()\n",
    "\n",
    "\n",
    "def translate(sentence, encoder, decoder):\n",
    "    result, sentence, attention = evaluate(sentence, encoder, decoder)\n",
    "\n",
    "    print('Input: %s' % (sentence))\n",
    "    print('Predicted translation: {}'.format(result))\n",
    "    \n",
    "    attention = attention[:len(result.split()), :len(sentence.split())]\n",
    "    plot_attention(attention, sentence.split(), result.split(' '))\n",
    "\n",
    "\n",
    "translate(\"비록 그 위협은 적지만, 그 잠재적인 영향력은 가히 파괴적인 것이다\", encoder, decoder)"
   ]
  },
  {
   "cell_type": "code",
   "execution_count": null,
   "id": "6ea69788",
   "metadata": {},
   "outputs": [],
   "source": []
  }
 ],
 "metadata": {
  "kernelspec": {
   "display_name": "Python 3 (ipykernel)",
   "language": "python",
   "name": "python3"
  },
  "language_info": {
   "codemirror_mode": {
    "name": "ipython",
    "version": 3
   },
   "file_extension": ".py",
   "mimetype": "text/x-python",
   "name": "python",
   "nbconvert_exporter": "python",
   "pygments_lexer": "ipython3",
   "version": "3.9.7"
  }
 },
 "nbformat": 4,
 "nbformat_minor": 5
}
