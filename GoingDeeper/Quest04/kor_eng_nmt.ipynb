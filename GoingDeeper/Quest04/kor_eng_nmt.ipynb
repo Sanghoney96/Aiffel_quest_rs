{
 "cells": [
  {
   "cell_type": "code",
   "execution_count": 1,
   "id": "2eb00c02",
   "metadata": {},
   "outputs": [
    {
     "data": {
      "text/plain": [
       "'/usr/share/fonts/truetype/nanum/NanumBarunGothic.ttf'"
      ]
     },
     "execution_count": 1,
     "metadata": {},
     "output_type": "execute_result"
    }
   ],
   "source": [
    "import matplotlib as mpl\n",
    "import matplotlib.pyplot as plt\n",
    " \n",
    "%config InlineBackend.figure_format = 'retina'\n",
    "\n",
    "import matplotlib.font_manager as fm\n",
    "fontpath = '/usr/share/fonts/truetype/nanum/NanumBarunGothic.ttf'\n",
    "font = fm.FontProperties(fname=fontpath, size=9)\n",
    "plt.rc('font', family='NanumBarunGothic') \n",
    "mpl.font_manager.findfont(font)"
   ]
  },
  {
   "cell_type": "code",
   "execution_count": 2,
   "id": "dbafc96a",
   "metadata": {},
   "outputs": [
    {
     "name": "stdout",
     "output_type": "stream",
     "text": [
      "Requirement already satisfied: mecab-python3 in /opt/conda/lib/python3.9/site-packages (1.0.10)\n",
      "\u001b[33mWARNING: Running pip as the 'root' user can result in broken permissions and conflicting behaviour with the system package manager. It is recommended to use a virtual environment instead: https://pip.pypa.io/warnings/venv\u001b[0m\n"
     ]
    }
   ],
   "source": [
    "!pip install mecab-python3"
   ]
  },
  {
   "cell_type": "code",
   "execution_count": 3,
   "id": "42a03518",
   "metadata": {},
   "outputs": [],
   "source": [
    "import tensorflow as tf\n",
    "import numpy as np\n",
    "import pandas as pd\n",
    "\n",
    "from sklearn.model_selection import train_test_split\n",
    "\n",
    "import matplotlib.ticker as ticker\n",
    "import matplotlib.pyplot as plt\n",
    "\n",
    "import MeCab\n",
    "\n",
    "import time\n",
    "import re\n",
    "import os\n",
    "import io\n",
    "from tqdm import tqdm\n",
    "import random\n",
    "\n",
    "from utils import *\n",
    "from models import Encoder, Decoder\n",
    "from loss import loss_function"
   ]
  },
  {
   "cell_type": "markdown",
   "id": "59f7bc8c",
   "metadata": {},
   "source": [
    "### 데이터 다운로드"
   ]
  },
  {
   "cell_type": "code",
   "execution_count": 4,
   "id": "f06e4383",
   "metadata": {},
   "outputs": [],
   "source": [
    "path_to_dir = os.getenv('HOME') + \"/aiffel/s2s_translation/data/\"\n",
    "\n",
    "path_to_train_kor = path_to_dir + \"korean-english-park.train.ko\"\n",
    "path_to_train_eng = path_to_dir + \"korean-english-park.train.en\"\n",
    "\n",
    "path_to_test_kor = path_to_dir + \"korean-english-park.test.ko\"\n",
    "path_to_test_eng = path_to_dir + \"korean-english-park.test.en\""
   ]
  },
  {
   "cell_type": "code",
   "execution_count": 5,
   "id": "947700cb",
   "metadata": {},
   "outputs": [],
   "source": [
    "src_train = read_data(path_to_train_kor)\n",
    "tgt_train = read_data(path_to_train_eng)\n",
    "\n",
    "src_test = read_data(path_to_test_kor)\n",
    "tgt_test = read_data(path_to_test_eng)"
   ]
  },
  {
   "cell_type": "code",
   "execution_count": 6,
   "id": "81794c9a",
   "metadata": {},
   "outputs": [
    {
     "name": "stdout",
     "output_type": "stream",
     "text": [
      "94123\n",
      "2000\n"
     ]
    }
   ],
   "source": [
    "print(len(src_train))\n",
    "print(len(src_test))"
   ]
  },
  {
   "cell_type": "code",
   "execution_count": 7,
   "id": "05208200",
   "metadata": {},
   "outputs": [],
   "source": [
    "# 데이터 중복 제거\n",
    "unique_pairs = set(zip(src_train, tgt_train))\n",
    "corpus_train = list(unique_pairs)"
   ]
  },
  {
   "cell_type": "markdown",
   "id": "a26c0abd",
   "metadata": {},
   "source": [
    "### 데이터 전처리"
   ]
  },
  {
   "cell_type": "code",
   "execution_count": 8,
   "id": "807f40c7",
   "metadata": {},
   "outputs": [
    {
     "name": "stdout",
     "output_type": "stream",
     "text": [
      "Korean: 대부분 어릴 때 백일해 예방 접종을 받는다 .\n",
      "English: <start> cnn most people are vaccinated against pertussis as kids . <end>\n",
      "8058\n"
     ]
    }
   ],
   "source": [
    "enc_corpus_train = []\n",
    "dec_corpus_train = []\n",
    "\n",
    "for pair in corpus_train:\n",
    "    kor, eng = pair[0], pair[1]\n",
    "    if len(kor) <= 60 and len(eng) <= 60:\n",
    "        enc_corpus_train.append(preprocess_kor(kor))\n",
    "        dec_corpus_train.append(preprocess_eng(eng))\n",
    "\n",
    "print(\"Korean:\", enc_corpus_train[1972])\n",
    "print(\"English:\", dec_corpus_train[1972])\n",
    "\n",
    "print(len(enc_corpus_train))"
   ]
  },
  {
   "cell_type": "code",
   "execution_count": 9,
   "id": "56034358",
   "metadata": {},
   "outputs": [],
   "source": [
    "# 토큰화하기\n",
    "enc_input, enc_tokenizer = tokenize_kor(enc_corpus_train)\n",
    "dec_input, dec_tokenizer = tokenize_eng(dec_corpus_train)\n",
    "\n",
    "# train_test_split을 활용해서 훈련 데이터와 검증 데이터로 분리하기\n",
    "enc_train, enc_val = train_test_split(enc_input, test_size=0.2)\n",
    "dec_train, dec_val = train_test_split(dec_input, test_size=0.2)"
   ]
  },
  {
   "cell_type": "code",
   "execution_count": 10,
   "id": "db2e20c3",
   "metadata": {},
   "outputs": [
    {
     "name": "stdout",
     "output_type": "stream",
     "text": [
      "1612\n"
     ]
    }
   ],
   "source": [
    "print(len(enc_val))"
   ]
  },
  {
   "cell_type": "markdown",
   "id": "52249f49",
   "metadata": {},
   "source": [
    "### 모델 설계"
   ]
  },
  {
   "cell_type": "code",
   "execution_count": 11,
   "id": "f3b2ed8d",
   "metadata": {},
   "outputs": [
    {
     "name": "stdout",
     "output_type": "stream",
     "text": [
      "Encoder Output: (128, 60, 512)\n",
      "Decoder Output: (128, 1, 9309)\n",
      "Decoder Hidden State: (128, 512)\n",
      "Attention: (128, 60, 1)\n"
     ]
    }
   ],
   "source": [
    "BATCH_SIZE = 128\n",
    "SRC_VOCAB_SIZE = len(enc_tokenizer.index_word) + 1\n",
    "TGT_VOCAB_SIZE = len(dec_tokenizer.index_word) + 1\n",
    "\n",
    "units = 512\n",
    "embedding_dim = 512\n",
    "\n",
    "encoder = Encoder(SRC_VOCAB_SIZE, embedding_dim, units)\n",
    "decoder = Decoder(TGT_VOCAB_SIZE, embedding_dim, units)\n",
    "\n",
    "# sample input\n",
    "sequence_len = 60\n",
    "\n",
    "sample_enc = tf.random.uniform((BATCH_SIZE, sequence_len))\n",
    "sample_output = encoder(sample_enc)\n",
    "\n",
    "print ('Encoder Output:', sample_output.shape)\n",
    "\n",
    "sample_state = tf.random.uniform((BATCH_SIZE, units))\n",
    "\n",
    "sample_logits, h_dec, attn = decoder(tf.random.uniform((BATCH_SIZE, 1)),\n",
    "                                     sample_state, sample_output)\n",
    "\n",
    "print ('Decoder Output:', sample_logits.shape)\n",
    "print ('Decoder Hidden State:', h_dec.shape)\n",
    "print ('Attention:', attn.shape)"
   ]
  },
  {
   "cell_type": "markdown",
   "id": "521bc544",
   "metadata": {},
   "source": [
    "### 학습 & 추론"
   ]
  },
  {
   "cell_type": "code",
   "execution_count": 67,
   "id": "696984f4",
   "metadata": {},
   "outputs": [],
   "source": [
    "optimizer = tf.keras.optimizers.Adam(0.00005)"
   ]
  },
  {
   "cell_type": "code",
   "execution_count": 68,
   "id": "05bb3c87",
   "metadata": {},
   "outputs": [],
   "source": [
    "@tf.function\n",
    "def train_step(src, tgt, encoder, decoder, optimizer, dec_tok):\n",
    "    batch_size = src.shape[0]\n",
    "    loss = 0\n",
    "\n",
    "    with tf.GradientTape() as tape:\n",
    "        enc_out = encoder(src)\n",
    "        h_dec = enc_out[:, -1]\n",
    "        \n",
    "        dec_src = tf.expand_dims([dec_tok.word_index['<start>']] * batch_size, 1)\n",
    "\n",
    "        for t in range(1, tgt.shape[1]):\n",
    "            pred, h_dec, _ = decoder(dec_src, h_dec, enc_out)\n",
    "\n",
    "            loss += loss_function(tgt[:, t], pred)\n",
    "            dec_src = tf.expand_dims(tgt[:, t], 1)\n",
    "        \n",
    "    batch_loss = (loss / int(tgt.shape[1]))\n",
    "\n",
    "    variables = encoder.trainable_variables + decoder.trainable_variables\n",
    "    gradients = tape.gradient(loss, variables)\n",
    "    optimizer.apply_gradients(zip(gradients, variables))\n",
    "    \n",
    "    return batch_loss"
   ]
  },
  {
   "cell_type": "code",
   "execution_count": 69,
   "id": "40b5db0e",
   "metadata": {},
   "outputs": [
    {
     "name": "stderr",
     "output_type": "stream",
     "text": [
      "Epoch  1: 100%|██████████| 51/51 [00:41<00:00,  1.23it/s, Loss 1.8482]\n",
      "Test Epoch  1: 100%|██████████| 13/13 [00:13<00:00,  1.01s/it, Test Loss 2.9193]\n",
      "Epoch  2: 100%|██████████| 51/51 [00:06<00:00,  8.25it/s, Loss 1.8363]\n",
      "Test Epoch  2: 100%|██████████| 13/13 [00:00<00:00, 23.43it/s, Test Loss 2.9270]\n",
      "Epoch  3: 100%|██████████| 51/51 [00:06<00:00,  8.33it/s, Loss 1.8291]\n",
      "Test Epoch  3: 100%|██████████| 13/13 [00:00<00:00, 23.38it/s, Test Loss 2.9290]\n",
      "Epoch  4: 100%|██████████| 51/51 [00:06<00:00,  8.30it/s, Loss 1.8224]\n",
      "Test Epoch  4: 100%|██████████| 13/13 [00:00<00:00, 23.34it/s, Test Loss 2.9398]\n",
      "Epoch  5: 100%|██████████| 51/51 [00:06<00:00,  8.28it/s, Loss 1.8155]\n",
      "Test Epoch  5: 100%|██████████| 13/13 [00:00<00:00, 23.20it/s, Test Loss 2.9426]\n"
     ]
    }
   ],
   "source": [
    "# Define eval_step\n",
    "@tf.function\n",
    "def eval_step(src, tgt, encoder, decoder, dec_tok):\n",
    "    bsz = src.shape[0]\n",
    "    loss = 0\n",
    "\n",
    "    enc_out = encoder(src)\n",
    "\n",
    "    h_dec = enc_out[:, -1]\n",
    "    \n",
    "    dec_src = tf.expand_dims([dec_tok.word_index['<start>']] * bsz, 1)\n",
    "\n",
    "    for t in range(1, tgt.shape[1]):\n",
    "        pred, h_dec, _ = decoder(dec_src, h_dec, enc_out)\n",
    "\n",
    "        loss += loss_function(tgt[:, t], pred)\n",
    "        dec_src = tf.expand_dims(tgt[:, t], 1)\n",
    "        \n",
    "    batch_loss = (loss / int(tgt.shape[1]))\n",
    "    \n",
    "    return batch_loss\n",
    "\n",
    "\n",
    "# Training Process with validation\n",
    "\n",
    "EPOCHS = 5\n",
    "\n",
    "for epoch in range(EPOCHS):\n",
    "    total_loss = 0\n",
    "    \n",
    "    idx_list = list(range(0, enc_train.shape[0], BATCH_SIZE))\n",
    "    random.shuffle(idx_list)\n",
    "    t = tqdm(idx_list)\n",
    "\n",
    "    for (batch, idx) in enumerate(t):\n",
    "        batch_loss = train_step(enc_train[idx:idx+BATCH_SIZE],\n",
    "                                dec_train[idx:idx+BATCH_SIZE],\n",
    "                                encoder,\n",
    "                                decoder,\n",
    "                                optimizer,\n",
    "                                dec_tokenizer)\n",
    "    \n",
    "        total_loss += batch_loss\n",
    "        \n",
    "        t.set_description_str('Epoch %2d' % (epoch + 1))\n",
    "        t.set_postfix_str('Loss %.4f' % (total_loss.numpy() / (batch + 1)))\n",
    "    \n",
    "    test_loss = 0\n",
    "    \n",
    "    idx_list = list(range(0, enc_val.shape[0], BATCH_SIZE))\n",
    "    random.shuffle(idx_list)\n",
    "    t = tqdm(idx_list)\n",
    "\n",
    "    for (test_batch, idx) in enumerate(t):\n",
    "        test_batch_loss = eval_step(enc_val[idx:idx+BATCH_SIZE],\n",
    "                                    dec_val[idx:idx+BATCH_SIZE],\n",
    "                                    encoder,\n",
    "                                    decoder,\n",
    "                                    dec_tokenizer)\n",
    "    \n",
    "        test_loss += test_batch_loss\n",
    "\n",
    "        t.set_description_str('Test Epoch %2d' % (epoch + 1))\n",
    "        t.set_postfix_str('Test Loss %.4f' % (test_loss.numpy() / (test_batch + 1)))"
   ]
  },
  {
   "cell_type": "markdown",
   "id": "e6f34cfe",
   "metadata": {},
   "source": [
    "### 번역 결과 확인"
   ]
  },
  {
   "cell_type": "code",
   "execution_count": 71,
   "id": "d23ce449",
   "metadata": {},
   "outputs": [
    {
     "name": "stdout",
     "output_type": "stream",
     "text": [
      "Input: 몰래 카메라를 피할 수 있도록 이 창문을 특수 처리했다\n",
      "Predicted translation: the ap s a lot of the first . <end> \n"
     ]
    },
    {
     "name": "stderr",
     "output_type": "stream",
     "text": [
      "/tmp/ipykernel_142/65561305.py:46: UserWarning: FixedFormatter should only be used together with FixedLocator\n",
      "  ax.set_xticklabels([''] + sentence, fontdict=fontdict, rotation=90)\n",
      "/tmp/ipykernel_142/65561305.py:48: UserWarning: FixedFormatter should only be used together with FixedLocator\n",
      "  ax.set_yticklabels([''] + predicted_sentence, fontdict=fontdict)\n"
     ]
    },
    {
     "data": {
      "image/png": "[encoded data removed]",
      "text/plain": [
       "<Figure size 720x720 with 1 Axes>"
      ]
     },
     "metadata": {
      "image/png": {
       "height": 618,
       "width": 547
      },
      "needs_background": "light"
     },
     "output_type": "display_data"
    }
   ],
   "source": [
    "def evaluate(sentence, encoder, decoder):\n",
    "    attention = np.zeros((dec_train.shape[-1], enc_train.shape[-1]))\n",
    "    \n",
    "    sentence = preprocess_kor(sentence)\n",
    "    inputs = enc_tokenizer.texts_to_sequences([sentence.split()])\n",
    "    inputs = tf.keras.preprocessing.sequence.pad_sequences(inputs,\n",
    "                                                           maxlen=enc_train.shape[-1],\n",
    "                                                           padding='post')\n",
    "    \n",
    "    result = ''\n",
    "\n",
    "    enc_out = encoder(inputs)\n",
    "\n",
    "    dec_hidden = enc_out[:, -1]\n",
    "    dec_input = tf.expand_dims([dec_tokenizer.word_index['<start>']], 0)\n",
    "\n",
    "    for t in range(dec_train.shape[-1]):\n",
    "        predictions, dec_hidden, attention_weights = decoder(dec_input,\n",
    "                                                             dec_hidden,\n",
    "                                                             enc_out)\n",
    "\n",
    "        attention_weights = tf.reshape(attention_weights, (-1,))\n",
    "        attention[t] = attention_weights.numpy()\n",
    "\n",
    "        # Ensure to take the argmax for batch_size=1 and handle it correctly for larger batches\n",
    "        predicted_id = tf.argmax(tf.math.softmax(predictions, axis=-1)[0], axis=-1).numpy()  # Shape: (batch_size,)\n",
    "        predicted_id = predicted_id[0]\n",
    "\n",
    "        result += dec_tokenizer.index_word[predicted_id] + ' '\n",
    "\n",
    "        if dec_tokenizer.index_word[predicted_id] == '<end>':\n",
    "            return result, sentence, attention\n",
    "\n",
    "        dec_input = tf.expand_dims([predicted_id], 0)\n",
    "\n",
    "    return result, sentence, attention\n",
    "\n",
    "\n",
    "def plot_attention(attention, sentence, predicted_sentence):\n",
    "    fig = plt.figure(figsize=(10,10))\n",
    "    ax = fig.add_subplot(1, 1, 1)\n",
    "    ax.matshow(attention, cmap='viridis')\n",
    "\n",
    "    fontdict = {'fontsize': 14}\n",
    "\n",
    "    ax.set_xticklabels([''] + sentence, fontdict=fontdict, rotation=90)\n",
    "    \n",
    "    ax.set_yticklabels([''] + predicted_sentence, fontdict=fontdict)\n",
    "\n",
    "    ax.xaxis.set_major_locator(ticker.MultipleLocator(1))\n",
    "    ax.yaxis.set_major_locator(ticker.MultipleLocator(1))\n",
    "\n",
    "    plt.show()\n",
    "\n",
    "\n",
    "def translate(sentence, encoder, decoder):\n",
    "    result, sentence, attention = evaluate(sentence, encoder, decoder)\n",
    "\n",
    "    print('Input: %s' % (sentence))\n",
    "    print('Predicted translation: {}'.format(result))\n",
    "    \n",
    "    attention = attention[:len(result.split()), :len(sentence.split())]\n",
    "    plot_attention(attention, sentence.split(), result.split(' '))\n",
    "\n",
    "translate(\"몰래 카메라를 피할 수 있도록 이 창문을 특수 처리했다\", encoder, decoder)"
   ]
  },
  {
   "cell_type": "code",
   "execution_count": null,
   "id": "48bef222",
   "metadata": {},
   "outputs": [],
   "source": []
  }
 ],
 "metadata": {
  "kernelspec": {
   "display_name": "Python 3 (ipykernel)",
   "language": "python",
   "name": "python3"
  },
  "language_info": {
   "codemirror_mode": {
    "name": "ipython",
    "version": 3
   },
   "file_extension": ".py",
   "mimetype": "text/x-python",
   "name": "python",
   "nbconvert_exporter": "python",
   "pygments_lexer": "ipython3",
   "version": "3.9.7"
  }
 },
 "nbformat": 4,
 "nbformat_minor": 5
}
