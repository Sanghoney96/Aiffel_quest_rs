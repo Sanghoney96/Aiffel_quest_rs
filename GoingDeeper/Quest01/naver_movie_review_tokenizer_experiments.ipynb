{
 "cells": [
  {
   "cell_type": "code",
   "execution_count": 28,
   "id": "7c1c33a7",
   "metadata": {},
   "outputs": [],
   "source": [
    "import os\n",
    "\n",
    "import matplotlib.pyplot as plt\n",
    "import tensorflow as tf\n",
    "import numpy as np\n",
    "import pandas as pd\n",
    "import konlpy\n",
    "\n",
    "from konlpy.tag import Mecab\n",
    "\n",
    "from sklearn.model_selection import train_test_split\n",
    "from tensorflow.keras.callbacks import ModelCheckpoint, EarlyStopping\n",
    "\n",
    "\n",
    "%matplotlib inline"
   ]
  },
  {
   "cell_type": "markdown",
   "id": "34468ed5",
   "metadata": {},
   "source": [
    "#### 데이터 분석"
   ]
  },
  {
   "cell_type": "code",
   "execution_count": 130,
   "id": "5204f535",
   "metadata": {},
   "outputs": [
    {
     "name": "stdout",
     "output_type": "stream",
     "text": [
      "150000\n",
      "50000\n"
     ]
    },
    {
     "data": {
      "text/html": [
       "<div>\n",
       "<style scoped>\n",
       "    .dataframe tbody tr th:only-of-type {\n",
       "        vertical-align: middle;\n",
       "    }\n",
       "\n",
       "    .dataframe tbody tr th {\n",
       "        vertical-align: top;\n",
       "    }\n",
       "\n",
       "    .dataframe thead th {\n",
       "        text-align: right;\n",
       "    }\n",
       "</style>\n",
       "<table border=\"1\" class=\"dataframe\">\n",
       "  <thead>\n",
       "    <tr style=\"text-align: right;\">\n",
       "      <th></th>\n",
       "      <th>id</th>\n",
       "      <th>document</th>\n",
       "      <th>label</th>\n",
       "    </tr>\n",
       "  </thead>\n",
       "  <tbody>\n",
       "    <tr>\n",
       "      <th>0</th>\n",
       "      <td>9976970</td>\n",
       "      <td>아 더빙.. 진짜 짜증나네요 목소리</td>\n",
       "      <td>0</td>\n",
       "    </tr>\n",
       "    <tr>\n",
       "      <th>1</th>\n",
       "      <td>3819312</td>\n",
       "      <td>흠...포스터보고 초딩영화줄....오버연기조차 가볍지 않구나</td>\n",
       "      <td>1</td>\n",
       "    </tr>\n",
       "    <tr>\n",
       "      <th>2</th>\n",
       "      <td>10265843</td>\n",
       "      <td>너무재밓었다그래서보는것을추천한다</td>\n",
       "      <td>0</td>\n",
       "    </tr>\n",
       "    <tr>\n",
       "      <th>3</th>\n",
       "      <td>9045019</td>\n",
       "      <td>교도소 이야기구먼 ..솔직히 재미는 없다..평점 조정</td>\n",
       "      <td>0</td>\n",
       "    </tr>\n",
       "    <tr>\n",
       "      <th>4</th>\n",
       "      <td>6483659</td>\n",
       "      <td>사이몬페그의 익살스런 연기가 돋보였던 영화!스파이더맨에서 늙어보이기만 했던 커스틴 ...</td>\n",
       "      <td>1</td>\n",
       "    </tr>\n",
       "  </tbody>\n",
       "</table>\n",
       "</div>"
      ],
      "text/plain": [
       "         id                                           document  label\n",
       "0   9976970                                아 더빙.. 진짜 짜증나네요 목소리      0\n",
       "1   3819312                  흠...포스터보고 초딩영화줄....오버연기조차 가볍지 않구나      1\n",
       "2  10265843                                  너무재밓었다그래서보는것을추천한다      0\n",
       "3   9045019                      교도소 이야기구먼 ..솔직히 재미는 없다..평점 조정      0\n",
       "4   6483659  사이몬페그의 익살스런 연기가 돋보였던 영화!스파이더맨에서 늙어보이기만 했던 커스틴 ...      1"
      ]
     },
     "execution_count": 130,
     "metadata": {},
     "output_type": "execute_result"
    }
   ],
   "source": [
    "path_to_train = os.getenv('HOME')+'/aiffel/sp_tokenizer/data/ratings_train.txt'\n",
    "path_to_test = os.getenv('HOME')+'/aiffel/sp_tokenizer/data/ratings_test.txt'\n",
    "\n",
    "train_data = pd.read_table(path_to_train)\n",
    "test_data = pd.read_table(path_to_test)\n",
    "\n",
    "print(len(train_data))\n",
    "print(len(test_data))\n",
    "\n",
    "train_data.head()"
   ]
  },
  {
   "cell_type": "code",
   "execution_count": 131,
   "id": "6f34a4d4",
   "metadata": {},
   "outputs": [],
   "source": [
    "# NaN 값을 제거하고, 모든 데이터를 문자열로 변환\n",
    "train_data = train_data.dropna()  # NaN 값 제거\n",
    "train_data['document'] = train_data['document'].astype(str)\n",
    "\n",
    "test_data = test_data.dropna()  # NaN 값 제거\n",
    "test_data['document'] = test_data['document'].astype(str)"
   ]
  },
  {
   "cell_type": "code",
   "execution_count": 132,
   "id": "aa70dc2a",
   "metadata": {},
   "outputs": [
    {
     "name": "stdout",
     "output_type": "stream",
     "text": [
      "문장의 최단 길이: 1\n",
      "문장의 최장 길이: 146\n",
      "문장의 평균 길이: 35\n"
     ]
    },
    {
     "data": {
      "image/png": "[encoded data removed]",
      "text/plain": [
       "<Figure size 432x288 with 1 Axes>"
      ]
     },
     "metadata": {
      "needs_background": "light"
     },
     "output_type": "display_data"
    }
   ],
   "source": [
    "min_len = 999\n",
    "max_len = 0\n",
    "sum_len = 0\n",
    "\n",
    "for sen in train_data['document']:\n",
    "    length = len(sen)\n",
    "    if min_len > length: \n",
    "        min_len = length\n",
    "    if max_len < length: \n",
    "        max_len = length\n",
    "    sum_len += length\n",
    "\n",
    "print(\"문장의 최단 길이:\", min_len)\n",
    "print(\"문장의 최장 길이:\", max_len)\n",
    "print(\"문장의 평균 길이:\", sum_len // len(train_data['document']))\n",
    "\n",
    "sentence_length = np.zeros((max_len), dtype=int)\n",
    "\n",
    "for sen in train_data['document']:\n",
    "    sentence_length[len(sen)-1] += 1\n",
    "\n",
    "plt.bar(range(max_len), sentence_length, width=1.0)\n",
    "plt.title(\"Sentence Length Distribution\")\n",
    "plt.show()"
   ]
  },
  {
   "cell_type": "code",
   "execution_count": 133,
   "id": "b78bd8bb",
   "metadata": {},
   "outputs": [
    {
     "name": "stdout",
     "output_type": "stream",
     "text": [
      "아\n",
      "잼\n",
      "1\n",
      "4\n",
      "4\n",
      "굿\n",
      "짱\n",
      "휴\n",
      ".\n",
      "1\n",
      "굿\n",
      "음\n",
      "?\n",
      "?\n",
      "ㅎ\n",
      "굿\n",
      "ㅋ\n",
      "굿\n",
      "즐\n",
      "♥\n",
      "굳\n",
      "ㅋ\n",
      "네\n",
      "ㅎ\n",
      "ㅋ\n",
      "굿\n",
      "ㅇ\n",
      "k\n",
      ".\n",
      "굿\n",
      "굿\n",
      "굳\n",
      "ㅠ\n",
      "?\n",
      "1\n",
      "ㅋ\n",
      "굿\n",
      "쒯\n",
      "굿\n",
      "굿\n",
      "굳\n",
      "♬\n",
      "굿\n",
      "토\n",
      "ㅋ\n",
      "ㅋ\n",
      "굿\n",
      "ㅋ\n",
      "굿\n",
      "O\n",
      "똥\n",
      "ㅎ\n",
      ".\n",
      "굿\n",
      "ㅎ\n",
      "짱\n",
      "굳\n",
      "굿\n",
      "굿\n",
      "짱\n",
      "?\n",
      "z\n",
      "굿\n",
      "짱\n",
      "음\n",
      "굳\n",
      "ㅇ\n",
      "헐\n",
      "굳\n",
      "굳\n",
      "굿\n",
      "굿\n",
      "굿\n",
      "삼\n",
      "꽝\n",
      "굿\n",
      "굿\n",
      "굿\n",
      "굿\n",
      "ㅎ\n",
      "굳\n",
      "굿\n",
      "4\n",
      "!\n",
      "?\n",
      "ㅎ\n",
      "1\n",
      "굳\n",
      ".\n",
      "ㅎ\n",
      "풉\n",
      "아\n",
      "굿\n",
      "똥\n",
      "ㅅ\n",
      "왜\n",
      "ㄴ\n",
      "굳\n",
      "쉣\n",
      "봐\n",
      "z\n"
     ]
    }
   ],
   "source": [
    "def check_sentence_with_length(raw, length):\n",
    "    count = 0\n",
    "    \n",
    "    for sen in raw:\n",
    "        if len(sen) == length:\n",
    "            print(sen)\n",
    "            count += 1\n",
    "            if count > 100: return\n",
    "\n",
    "check_sentence_with_length(train_data['document'], 1)"
   ]
  },
  {
   "cell_type": "code",
   "execution_count": 134,
   "id": "27d13349",
   "metadata": {},
   "outputs": [
    {
     "name": "stdout",
     "output_type": "stream",
     "text": [
      "Data Size: 146339\n",
      "문장의 최단 길이: 1\n",
      "문장의 최장 길이: 146\n",
      "문장의 평균 길이: 35\n"
     ]
    },
    {
     "data": {
      "image/png": "[encoded data removed]",
      "text/plain": [
       "<Figure size 432x288 with 1 Axes>"
      ]
     },
     "metadata": {
      "needs_background": "light"
     },
     "output_type": "display_data"
    }
   ],
   "source": [
    "min_len = 999\n",
    "max_len = 0\n",
    "sum_len = 0\n",
    "\n",
    "# train_data['document']와 train_data['label']의 중복 제거\n",
    "cleaned_train = list(set(zip(train_data['document'], train_data['label'])))  # (document, label) 쌍으로 묶어 중복 제거\n",
    "cleaned_documents, cleaned_labels = zip(*cleaned_train)  # 다시 documents와 labels로 분리\n",
    "\n",
    "# 중복 제거된 데이터 크기 출력\n",
    "print(\"Data Size:\", len(cleaned_documents))\n",
    "\n",
    "for sen in cleaned_documents:\n",
    "    length = len(sen)\n",
    "    if min_len > length: \n",
    "        min_len = length\n",
    "    if max_len < length: \n",
    "        max_len = length\n",
    "    sum_len += length\n",
    "\n",
    "# 문장의 최단, 최장, 평균 길이 출력\n",
    "print(\"문장의 최단 길이:\", min_len)\n",
    "print(\"문장의 최장 길이:\", max_len)\n",
    "print(\"문장의 평균 길이:\", sum_len // len(cleaned_documents))\n",
    "\n",
    "# 문장의 길이에 따른 분포 시각화\n",
    "sentence_length = np.zeros((max_len), dtype=int)\n",
    "\n",
    "for sen in cleaned_documents:  # 중복이 제거된 코퍼스 기준\n",
    "    sentence_length[len(sen)-1] += 1\n",
    "\n",
    "plt.bar(range(max_len), sentence_length, width=1.0)\n",
    "plt.title(\"Sentence Length Distribution\")\n",
    "plt.show()"
   ]
  },
  {
   "cell_type": "code",
   "execution_count": 135,
   "id": "8e045c80",
   "metadata": {},
   "outputs": [
    {
     "name": "stdout",
     "output_type": "stream",
     "text": [
      "49997\n"
     ]
    }
   ],
   "source": [
    "cleaned_test = list(test_data['document'])\n",
    "print(len(cleaned_test))"
   ]
  },
  {
   "cell_type": "markdown",
   "id": "2aeeb2a8",
   "metadata": {},
   "source": [
    "#### SentencePiece 사용하기"
   ]
  },
  {
   "cell_type": "code",
   "execution_count": 136,
   "id": "6e1b0f57",
   "metadata": {},
   "outputs": [
    {
     "name": "stdout",
     "output_type": "stream",
     "text": [
      "Requirement already satisfied: sentencepiece in /opt/conda/lib/python3.9/site-packages (0.1.96)\n",
      "\u001b[33mWARNING: Running pip as the 'root' user can result in broken permissions and conflicting behaviour with the system package manager. It is recommended to use a virtual environment instead: https://pip.pypa.io/warnings/venv\u001b[0m\n"
     ]
    }
   ],
   "source": [
    "!pip install sentencepiece"
   ]
  },
  {
   "cell_type": "code",
   "execution_count": 137,
   "id": "a969eb72",
   "metadata": {},
   "outputs": [],
   "source": [
    "import sentencepiece as spm\n",
    "\n",
    "# 리스트를 텍스트 파일로 저장\n",
    "with open(\"data/cleaned_train.txt\", \"w\", encoding=\"utf-8\") as f:\n",
    "    for sentence in cleaned_documents:\n",
    "        f.write(sentence + \"\\n\")  # 문장마다 줄바꿈 추가\n",
    "        \n",
    "vocab_size = 12000\n",
    "\n",
    "# SentencePiece 모델 학습\n",
    "spm.SentencePieceTrainer.train(\n",
    "    input=\"data/cleaned_train.txt\",\n",
    "    model_prefix=\"korean_spm\",\n",
    "    vocab_size=vocab_size,\n",
    "    model_type=\"unigram\"\n",
    ")"
   ]
  },
  {
   "cell_type": "code",
   "execution_count": 138,
   "id": "71031898",
   "metadata": {},
   "outputs": [
    {
     "name": "stdout",
     "output_type": "stream",
     "text": [
      "[4, 8, 19, 230, 3230, 15, 3591, 159, 2629, 54, 38]\n",
      "['▁', '...', '다', '된', '밥', '에', '▁찬', '성', '뿌', '리', '기']\n",
      "...다된밥에 찬성뿌리기\n"
     ]
    }
   ],
   "source": [
    "s = spm.SentencePieceProcessor()\n",
    "s.Load('korean_spm.model')\n",
    "\n",
    "# SentencePiece를 활용한 sentence -> encoding\n",
    "tokensIDs = s.EncodeAsIds(cleaned_documents[0])\n",
    "print(tokensIDs)\n",
    "\n",
    "# SentencePiece를 활용한 sentence -> encoded pieces\n",
    "print(s.SampleEncodeAsPieces(cleaned_documents[0], 1, 0.0))\n",
    "\n",
    "# SentencePiece를 활용한 encoding -> sentence 복원\n",
    "print(s.DecodeIds(tokensIDs))"
   ]
  },
  {
   "cell_type": "code",
   "execution_count": 139,
   "id": "6e9fb929",
   "metadata": {},
   "outputs": [],
   "source": [
    "def sp_tokenize(s, corpus): \n",
    "\n",
    "    tensor = []\n",
    "\n",
    "    for sen in corpus:\n",
    "        tensor.append(s.EncodeAsIds(sen))\n",
    "\n",
    "    with open(\"./korean_spm.vocab\", 'r') as f:\n",
    "        vocab = f.readlines()\n",
    "\n",
    "    word_index = {}\n",
    "    index_word = {}\n",
    "\n",
    "    for idx, line in enumerate(vocab):\n",
    "        word = line.split(\"\\t\")[0]\n",
    "\n",
    "        word_index.update({word:idx})\n",
    "        index_word.update({idx:word})\n",
    "\n",
    "    return tensor, word_index, index_word"
   ]
  },
  {
   "cell_type": "code",
   "execution_count": 140,
   "id": "b6c92a57",
   "metadata": {},
   "outputs": [],
   "source": [
    "X_train = sp_tokenize(s, cleaned_documents)[0]\n",
    "X_test = sp_tokenize(s, cleaned_test)[0]\n",
    "\n",
    "y_train = np.array(cleaned_labels)\n",
    "y_test = np.array(test_data['label'])"
   ]
  },
  {
   "cell_type": "code",
   "execution_count": 141,
   "id": "d45dbcf7",
   "metadata": {},
   "outputs": [
    {
     "name": "stdout",
     "output_type": "stream",
     "text": [
      "문장길이 평균 :  16.053057004319125\n",
      "문장길이 최대 :  132\n",
      "문장길이 표준편차 :  13.80032561091109\n",
      "pad_sequences maxlen :  50\n",
      "전체 문장의 0.953187393040502 %가 maxlen 설정값 이내에 포함됩니다. \n"
     ]
    }
   ],
   "source": [
    "total_data_text = list(X_train) + list(X_test)\n",
    "\n",
    "# 텍스트데이터 문장길이의 리스트를 생성한 후\n",
    "num_tokens = [len(tokens) for tokens in total_data_text]\n",
    "num_tokens = np.array(num_tokens)\n",
    "\n",
    "# 문장길이의 평균값, 최대값, 표준편차를 계산해 본다. \n",
    "print('문장길이 평균 : ', np.mean(num_tokens))\n",
    "print('문장길이 최대 : ', np.max(num_tokens))\n",
    "print('문장길이 표준편차 : ', np.std(num_tokens))\n",
    "\n",
    "# 이상치 제거\n",
    "maxlen = int(np.mean(num_tokens) + 2.5 * np.std(num_tokens))\n",
    "print('pad_sequences maxlen : ', maxlen)\n",
    "print(f'전체 문장의 {np.sum(num_tokens < maxlen) / len(num_tokens)} %가 maxlen 설정값 이내에 포함됩니다. ')"
   ]
  },
  {
   "cell_type": "code",
   "execution_count": 142,
   "id": "5487fd0f",
   "metadata": {},
   "outputs": [
    {
     "name": "stdout",
     "output_type": "stream",
     "text": [
      "(146339, 50)\n",
      "(49997, 50)\n"
     ]
    }
   ],
   "source": [
    "X_train = tf.keras.preprocessing.sequence.pad_sequences(X_train,\n",
    "                                                        value=0,\n",
    "                                                        padding='pre', \n",
    "                                                        maxlen=maxlen)\n",
    "\n",
    "X_test = tf.keras.preprocessing.sequence.pad_sequences(X_test,\n",
    "                                                       value=0,\n",
    "                                                       padding='pre', \n",
    "                                                       maxlen=maxlen)\n",
    "\n",
    "print(X_train.shape)\n",
    "print(X_test.shape)"
   ]
  },
  {
   "cell_type": "markdown",
   "id": "8998a79e",
   "metadata": {},
   "source": [
    "#### 모델 설계 & train-validation set split"
   ]
  },
  {
   "cell_type": "code",
   "execution_count": 143,
   "id": "6ed951d2",
   "metadata": {},
   "outputs": [
    {
     "name": "stdout",
     "output_type": "stream",
     "text": [
      "(117071, 50)\n",
      "(117071,)\n"
     ]
    }
   ],
   "source": [
    "# validation set 분리\n",
    "X_train, X_val, y_train, y_val = train_test_split(X_train, y_train, test_size=0.2)\n",
    "\n",
    "print(X_train.shape)\n",
    "print(y_train.shape)"
   ]
  },
  {
   "cell_type": "code",
   "execution_count": 144,
   "id": "2857ef05",
   "metadata": {},
   "outputs": [
    {
     "name": "stdout",
     "output_type": "stream",
     "text": [
      "Model: \"sequential_7\"\n",
      "_________________________________________________________________\n",
      "Layer (type)                 Output Shape              Param #   \n",
      "=================================================================\n",
      "embedding_7 (Embedding)      (None, 50, 100)           1200000   \n",
      "_________________________________________________________________\n",
      "bidirectional_21 (Bidirectio (None, 50, 112)           53088     \n",
      "_________________________________________________________________\n",
      "bidirectional_22 (Bidirectio (None, 50, 112)           57120     \n",
      "_________________________________________________________________\n",
      "bidirectional_23 (Bidirectio (None, 112)               57120     \n",
      "_________________________________________________________________\n",
      "dense_14 (Dense)             (None, 56)                6328      \n",
      "_________________________________________________________________\n",
      "dense_15 (Dense)             (None, 1)                 57        \n",
      "=================================================================\n",
      "Total params: 1,373,713\n",
      "Trainable params: 1,373,713\n",
      "Non-trainable params: 0\n",
      "_________________________________________________________________\n"
     ]
    }
   ],
   "source": [
    "# 모델 구성\n",
    "# exploration 5에서 찾은 최적의 model configuration으로 실험\n",
    "embed_dim = 100\n",
    "\n",
    "model = tf.keras.Sequential()\n",
    "model.add(tf.keras.layers.Embedding(vocab_size, \n",
    "                                    embed_dim, \n",
    "                                    input_length=maxlen))\n",
    "model.add(tf.keras.layers.Bidirectional(tf.keras.layers.GRU(56, return_sequences=True)))\n",
    "model.add(tf.keras.layers.Bidirectional(tf.keras.layers.GRU(56, return_sequences=True)))\n",
    "model.add(tf.keras.layers.Bidirectional(tf.keras.layers.GRU(56)))\n",
    "model.add(tf.keras.layers.Dense(56, activation='relu'))\n",
    "model.add(tf.keras.layers.Dense(1, activation='sigmoid')) \n",
    "\n",
    "model.summary()"
   ]
  },
  {
   "cell_type": "code",
   "execution_count": 145,
   "id": "c4892def",
   "metadata": {},
   "outputs": [
    {
     "name": "stdout",
     "output_type": "stream",
     "text": [
      "Epoch 1/20\n",
      "229/229 [==============================] - 16s 37ms/step - loss: 0.4182 - accuracy: 0.8047 - val_loss: 0.3485 - val_accuracy: 0.8501\n",
      "\n",
      "Epoch 00001: val_accuracy improved from -inf to 0.85014, saving model to weights.h5\n",
      "Epoch 2/20\n",
      "229/229 [==============================] - 7s 30ms/step - loss: 0.3062 - accuracy: 0.8709 - val_loss: 0.3358 - val_accuracy: 0.8565\n",
      "\n",
      "Epoch 00002: val_accuracy improved from 0.85014 to 0.85646, saving model to weights.h5\n",
      "Epoch 3/20\n",
      "229/229 [==============================] - 7s 30ms/step - loss: 0.2669 - accuracy: 0.8905 - val_loss: 0.3327 - val_accuracy: 0.8546\n",
      "\n",
      "Epoch 00003: val_accuracy did not improve from 0.85646\n",
      "Epoch 4/20\n",
      "229/229 [==============================] - 7s 31ms/step - loss: 0.2289 - accuracy: 0.9086 - val_loss: 0.3519 - val_accuracy: 0.8526\n",
      "\n",
      "Epoch 00004: val_accuracy did not improve from 0.85646\n",
      "Epoch 5/20\n",
      "229/229 [==============================] - 7s 31ms/step - loss: 0.1946 - accuracy: 0.9234 - val_loss: 0.4002 - val_accuracy: 0.8452\n",
      "\n",
      "Epoch 00005: val_accuracy did not improve from 0.85646\n",
      "Restoring model weights from the end of the best epoch.\n",
      "Epoch 00005: early stopping\n"
     ]
    }
   ],
   "source": [
    "checkpoint = ModelCheckpoint(\"weights.h5\", \n",
    "                             monitor='val_accuracy', \n",
    "                             verbose=1, \n",
    "                             save_best_only=True, \n",
    "                             mode='max', \n",
    "                             save_weights_only=True)\n",
    "\n",
    "early_stopping = EarlyStopping(monitor='val_loss', \n",
    "                               patience=2, \n",
    "                               verbose=1, \n",
    "                               restore_best_weights=True)\n",
    "\n",
    "model.compile(optimizer='adam',\n",
    "              loss='binary_crossentropy',\n",
    "              metrics=['accuracy'])\n",
    "\n",
    "history = model.fit(X_train,\n",
    "                    y_train,\n",
    "                    epochs=20,\n",
    "                    batch_size=512,\n",
    "                    validation_data=(X_val, y_val),\n",
    "                    verbose=1,\n",
    "                    callbacks=[checkpoint, early_stopping])"
   ]
  },
  {
   "cell_type": "code",
   "execution_count": 146,
   "id": "f65ff273",
   "metadata": {},
   "outputs": [
    {
     "name": "stdout",
     "output_type": "stream",
     "text": [
      "1563/1563 - 9s - loss: 0.3400 - accuracy: 0.8540\n",
      "[0.3399910628795624, 0.8539912104606628]\n"
     ]
    }
   ],
   "source": [
    "# load weights from 'weights.h5'\n",
    "model.load_weights('weights.h5')\n",
    "\n",
    "results = model.evaluate(X_test, y_test, verbose=2)\n",
    "\n",
    "print(results)"
   ]
  },
  {
   "cell_type": "markdown",
   "id": "93ec8412",
   "metadata": {},
   "source": [
    "#### sentencepiece tokenizer의 vocab_size 변화에 따른 tokenizer 모델의 성능 비교"
   ]
  },
  {
   "cell_type": "markdown",
   "id": "c4ddd38f",
   "metadata": {},
   "source": [
    "1. unigram\n",
    "    - 6000 : 85.30\n",
    "    - 8000 : 85.38\n",
    "    - 10000 : 85.29\n",
    "    - 12000 : 85.40\n",
    "<br><br>\n",
    "2. bpe\n",
    "    - 6000 : 85.04\n",
    "    - 8000 : 85.28\n",
    "    - 10000 : 85.31\n",
    "    - 12000 : 85.34"
   ]
  },
  {
   "cell_type": "code",
   "execution_count": null,
   "id": "b753e42c",
   "metadata": {},
   "outputs": [],
   "source": []
  }
 ],
 "metadata": {
  "kernelspec": {
   "display_name": "Python 3 (ipykernel)",
   "language": "python",
   "name": "python3"
  },
  "language_info": {
   "codemirror_mode": {
    "name": "ipython",
    "version": 3
   },
   "file_extension": ".py",
   "mimetype": "text/x-python",
   "name": "python",
   "nbconvert_exporter": "python",
   "pygments_lexer": "ipython3",
   "version": "3.9.7"
  }
 },
 "nbformat": 4,
 "nbformat_minor": 5
}
