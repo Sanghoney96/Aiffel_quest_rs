{
 "cells": [
  {
   "cell_type": "code",
   "execution_count": 6,
   "id": "c436bd57",
   "metadata": {},
   "outputs": [
    {
     "name": "stderr",
     "output_type": "stream",
     "text": [
      "[nltk_data] Downloading package stopwords to /aiffel/nltk_data...\n",
      "[nltk_data]   Package stopwords is already up-to-date!\n",
      "[nltk_data] Downloading package stopwords to /aiffel/nltk_data...\n",
      "[nltk_data]   Package stopwords is already up-to-date!\n"
     ]
    }
   ],
   "source": [
    "import nltk\n",
    "nltk.download('stopwords')\n",
    "\n",
    "import numpy as np\n",
    "import pandas as pd\n",
    "from sklearn.model_selection import train_test_split\n",
    "import os\n",
    "import re\n",
    "import matplotlib.pyplot as plt\n",
    "from nltk.corpus import stopwords\n",
    "from bs4 import BeautifulSoup \n",
    "\n",
    "from utils import *\n",
    "\n",
    "from tensorflow.keras.preprocessing.text import Tokenizer \n",
    "from tensorflow.keras.preprocessing.sequence import pad_sequences\n",
    "import urllib.request\n",
    "import warnings\n",
    "warnings.filterwarnings(\"ignore\", category=UserWarning, module='bs4')"
   ]
  },
  {
   "cell_type": "code",
   "execution_count": 15,
   "id": "983f5d97",
   "metadata": {},
   "outputs": [
    {
     "name": "stdout",
     "output_type": "stream",
     "text": [
      "전체 샘플수 : 98360\n"
     ]
    },
    {
     "data": {
      "text/html": [
       "<div>\n",
       "<style scoped>\n",
       "    .dataframe tbody tr th:only-of-type {\n",
       "        vertical-align: middle;\n",
       "    }\n",
       "\n",
       "    .dataframe tbody tr th {\n",
       "        vertical-align: top;\n",
       "    }\n",
       "\n",
       "    .dataframe thead th {\n",
       "        text-align: right;\n",
       "    }\n",
       "</style>\n",
       "<table border=\"1\" class=\"dataframe\">\n",
       "  <thead>\n",
       "    <tr style=\"text-align: right;\">\n",
       "      <th></th>\n",
       "      <th>headlines</th>\n",
       "      <th>text</th>\n",
       "    </tr>\n",
       "  </thead>\n",
       "  <tbody>\n",
       "    <tr>\n",
       "      <th>23309</th>\n",
       "      <td>congress complain rs chairman rs chairman</td>\n",
       "      <td>congress party rajya sabha members assam plann...</td>\n",
       "    </tr>\n",
       "    <tr>\n",
       "      <th>84887</th>\n",
       "      <td>video shows two men thrashing mentally challen...</td>\n",
       "      <td>video showing two men thrashing mentally chall...</td>\n",
       "    </tr>\n",
       "    <tr>\n",
       "      <th>42419</th>\n",
       "      <td>astronauts need two thousand seven hundred thr...</td>\n",
       "      <td>american heart association said astronauts nee...</td>\n",
       "    </tr>\n",
       "    <tr>\n",
       "      <th>70605</th>\n",
       "      <td>smart parking platform get parking raises doll...</td>\n",
       "      <td>delhi based smart parking startup get parking ...</td>\n",
       "    </tr>\n",
       "    <tr>\n",
       "      <th>93223</th>\n",
       "      <td>married couple trying conceive discover twins</td>\n",
       "      <td>married couple mississippi us recently discove...</td>\n",
       "    </tr>\n",
       "    <tr>\n",
       "      <th>4930</th>\n",
       "      <td>turkish prez man eradicate isis syria trump</td>\n",
       "      <td>us president donald trump said turkish preside...</td>\n",
       "    </tr>\n",
       "    <tr>\n",
       "      <th>7918</th>\n",
       "      <td>john abraham surprises acid attack survivors l...</td>\n",
       "      <td>john abraham surprised group acid attack survi...</td>\n",
       "    </tr>\n",
       "    <tr>\n",
       "      <th>32316</th>\n",
       "      <td>defending champs mi register seventh consecuti...</td>\n",
       "      <td>defending champions mumbai indians registered ...</td>\n",
       "    </tr>\n",
       "    <tr>\n",
       "      <th>3611</th>\n",
       "      <td>ninety four one hundred twenty nine airports m...</td>\n",
       "      <td>one hundred twenty nine airports owned managed...</td>\n",
       "    </tr>\n",
       "    <tr>\n",
       "      <th>45649</th>\n",
       "      <td>unilever ceo paul polman pay rose fifty one pe...</td>\n",
       "      <td>consumer goods giant unilever ceo paul polman ...</td>\n",
       "    </tr>\n",
       "    <tr>\n",
       "      <th>43737</th>\n",
       "      <td>achieved much recently einstein three years nobel</td>\n",
       "      <td>nine years publishing theory relativity three ...</td>\n",
       "    </tr>\n",
       "    <tr>\n",
       "      <th>43420</th>\n",
       "      <td>obvious indian banks broke rules mallya uk court</td>\n",
       "      <td>uk court said blindingly obvious indian banks ...</td>\n",
       "    </tr>\n",
       "    <tr>\n",
       "      <th>44748</th>\n",
       "      <td>bisexual british boxer gets barbie doll model</td>\n",
       "      <td>bisexual british boxer nicola adams got barbie...</td>\n",
       "    </tr>\n",
       "    <tr>\n",
       "      <th>39991</th>\n",
       "      <td>sushma swaraj plane goes contact fourteen minutes</td>\n",
       "      <td>vvip aircraft carrying external affairs minist...</td>\n",
       "    </tr>\n",
       "    <tr>\n",
       "      <th>82174</th>\n",
       "      <td>george everest mount everest named</td>\n",
       "      <td>sir george everest born july four one thousand...</td>\n",
       "    </tr>\n",
       "    <tr>\n",
       "      <th>93754</th>\n",
       "      <td>jadhav options challenge pak death sentence</td>\n",
       "      <td>ex indian navy officer kulbhushan jadhav sente...</td>\n",
       "    </tr>\n",
       "    <tr>\n",
       "      <th>8738</th>\n",
       "      <td>moscow salon turns nails lipsticks make brushes</td>\n",
       "      <td>nail art salon moscow named nail sunny turned ...</td>\n",
       "    </tr>\n",
       "    <tr>\n",
       "      <th>88718</th>\n",
       "      <td>faulty diesel emissions tests cause thirty eig...</td>\n",
       "      <td>thirty eight thousand premature deaths occurre...</td>\n",
       "    </tr>\n",
       "    <tr>\n",
       "      <th>33815</th>\n",
       "      <td>woman wears golden prosthetic arm wedding day</td>\n",
       "      <td>american woman born rare congenital disorder w...</td>\n",
       "    </tr>\n",
       "    <tr>\n",
       "      <th>28767</th>\n",
       "      <td>apple files patent handwriting recognition tec...</td>\n",
       "      <td>apple filed patent technology recognise users ...</td>\n",
       "    </tr>\n",
       "  </tbody>\n",
       "</table>\n",
       "</div>"
      ],
      "text/plain": [
       "                                               headlines  \\\n",
       "23309          congress complain rs chairman rs chairman   \n",
       "84887  video shows two men thrashing mentally challen...   \n",
       "42419  astronauts need two thousand seven hundred thr...   \n",
       "70605  smart parking platform get parking raises doll...   \n",
       "93223      married couple trying conceive discover twins   \n",
       "4930         turkish prez man eradicate isis syria trump   \n",
       "7918   john abraham surprises acid attack survivors l...   \n",
       "32316  defending champs mi register seventh consecuti...   \n",
       "3611   ninety four one hundred twenty nine airports m...   \n",
       "45649  unilever ceo paul polman pay rose fifty one pe...   \n",
       "43737  achieved much recently einstein three years nobel   \n",
       "43420   obvious indian banks broke rules mallya uk court   \n",
       "44748      bisexual british boxer gets barbie doll model   \n",
       "39991  sushma swaraj plane goes contact fourteen minutes   \n",
       "82174                 george everest mount everest named   \n",
       "93754        jadhav options challenge pak death sentence   \n",
       "8738     moscow salon turns nails lipsticks make brushes   \n",
       "88718  faulty diesel emissions tests cause thirty eig...   \n",
       "33815      woman wears golden prosthetic arm wedding day   \n",
       "28767  apple files patent handwriting recognition tec...   \n",
       "\n",
       "                                                    text  \n",
       "23309  congress party rajya sabha members assam plann...  \n",
       "84887  video showing two men thrashing mentally chall...  \n",
       "42419  american heart association said astronauts nee...  \n",
       "70605  delhi based smart parking startup get parking ...  \n",
       "93223  married couple mississippi us recently discove...  \n",
       "4930   us president donald trump said turkish preside...  \n",
       "7918   john abraham surprised group acid attack survi...  \n",
       "32316  defending champions mumbai indians registered ...  \n",
       "3611   one hundred twenty nine airports owned managed...  \n",
       "45649  consumer goods giant unilever ceo paul polman ...  \n",
       "43737  nine years publishing theory relativity three ...  \n",
       "43420  uk court said blindingly obvious indian banks ...  \n",
       "44748  bisexual british boxer nicola adams got barbie...  \n",
       "39991  vvip aircraft carrying external affairs minist...  \n",
       "82174  sir george everest born july four one thousand...  \n",
       "93754  ex indian navy officer kulbhushan jadhav sente...  \n",
       "8738   nail art salon moscow named nail sunny turned ...  \n",
       "88718  thirty eight thousand premature deaths occurre...  \n",
       "33815  american woman born rare congenital disorder w...  \n",
       "28767  apple filed patent technology recognise users ...  "
      ]
     },
     "execution_count": 15,
     "metadata": {},
     "output_type": "execute_result"
    }
   ],
   "source": [
    "# load preprocessed amazon review dataset from directory\n",
    "data = pd.read_csv(os.getenv(\"HOME\")+\"/aiffel/news_summarization/data/preprocessed_news.csv\", nrows=100000)\n",
    "print('전체 샘플수 :', (len(data)))\n",
    "data.sample(20)"
   ]
  },
  {
   "cell_type": "markdown",
   "id": "4345bc43",
   "metadata": {},
   "source": [
    "### 데이터 전처리"
   ]
  },
  {
   "cell_type": "markdown",
   "id": "409e12d1",
   "metadata": {},
   "source": [
    "##### 1) train / test split"
   ]
  },
  {
   "cell_type": "code",
   "execution_count": 16,
   "id": "6ea1e7f5",
   "metadata": {},
   "outputs": [
    {
     "name": "stdout",
     "output_type": "stream",
     "text": [
      "텍스트의 최소 길이 : 1\n",
      "텍스트의 최대 길이 : 95\n",
      "텍스트의 평균 길이 : 38.582035380235865\n",
      "요약문의 최소 길이 : 1\n",
      "요약문의 최대 길이 : 23\n",
      "요약문의 평균 길이 : 7.899339162261081\n"
     ]
    },
    {
     "data": {
      "image/png": "[encoded data removed]",
      "text/plain": [
       "<Figure size 432x288 with 2 Axes>"
      ]
     },
     "metadata": {
      "needs_background": "light"
     },
     "output_type": "display_data"
    },
    {
     "data": {
      "image/png": "[encoded data removed]",
      "text/plain": [
       "<Figure size 432x288 with 1 Axes>"
      ]
     },
     "metadata": {
      "needs_background": "light"
     },
     "output_type": "display_data"
    },
    {
     "data": {
      "image/png": "[encoded data removed]",
      "text/plain": [
       "<Figure size 432x288 with 1 Axes>"
      ]
     },
     "metadata": {
      "needs_background": "light"
     },
     "output_type": "display_data"
    }
   ],
   "source": [
    "# 샘플의 텍스트/요약문 길이 분포 출력\n",
    "import matplotlib.pyplot as plt\n",
    "\n",
    "text_len = [len(s.split()) for s in data['text']]\n",
    "summary_len = [len(s.split()) for s in data['headlines']]\n",
    "\n",
    "print('텍스트의 최소 길이 : {}'.format(np.min(text_len)))\n",
    "print('텍스트의 최대 길이 : {}'.format(np.max(text_len)))\n",
    "print('텍스트의 평균 길이 : {}'.format(np.mean(text_len)))\n",
    "print('요약문의 최소 길이 : {}'.format(np.min(summary_len)))\n",
    "print('요약문의 최대 길이 : {}'.format(np.max(summary_len)))\n",
    "print('요약문의 평균 길이 : {}'.format(np.mean(summary_len)))\n",
    "\n",
    "plt.subplot(1,2,1)\n",
    "plt.boxplot(text_len)\n",
    "plt.title('text')\n",
    "plt.subplot(1,2,2)\n",
    "plt.boxplot(summary_len)\n",
    "plt.title('headlines')\n",
    "plt.tight_layout()\n",
    "plt.show()\n",
    "\n",
    "plt.title('text')\n",
    "plt.hist(text_len, bins = 40)\n",
    "plt.xlabel('length of samples')\n",
    "plt.ylabel('number of samples')\n",
    "plt.show()\n",
    "\n",
    "plt.title('headlines')\n",
    "plt.hist(summary_len, bins = 40)\n",
    "plt.xlabel('length of samples')\n",
    "plt.ylabel('number of samples')\n",
    "plt.show()"
   ]
  },
  {
   "cell_type": "code",
   "execution_count": 17,
   "id": "fae01795",
   "metadata": {},
   "outputs": [
    {
     "name": "stdout",
     "output_type": "stream",
     "text": [
      "50\n",
      "11\n"
     ]
    }
   ],
   "source": [
    "# mean + 2*std를 텍스트 길이의 상한선으로 설정 -> 손실되는 text 5% 미만\n",
    "text_max_len = int(np.mean(text_len) + 2 * np.std(text_len))\n",
    "print(text_max_len)\n",
    "\n",
    "summary_max_len = int(np.mean(summary_len) + 2 * np.std(summary_len))\n",
    "print(summary_max_len)"
   ]
  },
  {
   "cell_type": "code",
   "execution_count": 18,
   "id": "39637205",
   "metadata": {},
   "outputs": [
    {
     "name": "stdout",
     "output_type": "stream",
     "text": [
      "전체 샘플 중 길이가 50 이하인 샘플의 비율: 0.9583367222448149\n",
      "전체 샘플 중 길이가 11 이하인 샘플의 비율: 0.9613359089060594\n"
     ]
    }
   ],
   "source": [
    "below_threshold_len(text_max_len, data['text'])\n",
    "below_threshold_len(summary_max_len,  data['headlines'])"
   ]
  },
  {
   "cell_type": "code",
   "execution_count": 19,
   "id": "1f58d56c",
   "metadata": {},
   "outputs": [
    {
     "name": "stdout",
     "output_type": "stream",
     "text": [
      "전체 샘플수 : 91643\n"
     ]
    }
   ],
   "source": [
    "data = data[(data[\"text\"].apply(lambda x: len(x.split()) <= text_max_len)) & \n",
    "(data[\"headlines\"].apply(lambda x: len(x.split()) <= summary_max_len))]\n",
    "\n",
    "print('전체 샘플수 :', (len(data)))"
   ]
  },
  {
   "cell_type": "code",
   "execution_count": 20,
   "id": "61bb175e",
   "metadata": {},
   "outputs": [
    {
     "data": {
      "text/html": [
       "<div>\n",
       "<style scoped>\n",
       "    .dataframe tbody tr th:only-of-type {\n",
       "        vertical-align: middle;\n",
       "    }\n",
       "\n",
       "    .dataframe tbody tr th {\n",
       "        vertical-align: top;\n",
       "    }\n",
       "\n",
       "    .dataframe thead th {\n",
       "        text-align: right;\n",
       "    }\n",
       "</style>\n",
       "<table border=\"1\" class=\"dataframe\">\n",
       "  <thead>\n",
       "    <tr style=\"text-align: right;\">\n",
       "      <th></th>\n",
       "      <th>headlines</th>\n",
       "      <th>text</th>\n",
       "      <th>decoder_input</th>\n",
       "      <th>decoder_target</th>\n",
       "    </tr>\n",
       "  </thead>\n",
       "  <tbody>\n",
       "    <tr>\n",
       "      <th>0</th>\n",
       "      <td>upgrad learner switches career ml al ninety pe...</td>\n",
       "      <td>saurav kant alumnus upgrad iit pg program mach...</td>\n",
       "      <td>sostoken upgrad learner switches career ml al ...</td>\n",
       "      <td>upgrad learner switches career ml al ninety pe...</td>\n",
       "    </tr>\n",
       "    <tr>\n",
       "      <th>1</th>\n",
       "      <td>delhi techie wins free food swiggy one year cred</td>\n",
       "      <td>kunal shah credit card bill payment platform c...</td>\n",
       "      <td>sostoken delhi techie wins free food swiggy on...</td>\n",
       "      <td>delhi techie wins free food swiggy one year cr...</td>\n",
       "    </tr>\n",
       "    <tr>\n",
       "      <th>2</th>\n",
       "      <td>new zealand end rohit sharma led india twelve ...</td>\n",
       "      <td>new zealand defeated india eight wickets fourt...</td>\n",
       "      <td>sostoken new zealand end rohit sharma led indi...</td>\n",
       "      <td>new zealand end rohit sharma led india twelve ...</td>\n",
       "    </tr>\n",
       "    <tr>\n",
       "      <th>3</th>\n",
       "      <td>aegon life iterm insurance plan helps customer...</td>\n",
       "      <td>aegon life iterm insurance plan customers enjo...</td>\n",
       "      <td>sostoken aegon life iterm insurance plan helps...</td>\n",
       "      <td>aegon life iterm insurance plan helps customer...</td>\n",
       "    </tr>\n",
       "    <tr>\n",
       "      <th>4</th>\n",
       "      <td>known hirani yrs metoo claims true sonam</td>\n",
       "      <td>speaking sexual harassment allegations rajkuma...</td>\n",
       "      <td>sostoken known hirani yrs metoo claims true sonam</td>\n",
       "      <td>known hirani yrs metoo claims true sonam eostoken</td>\n",
       "    </tr>\n",
       "  </tbody>\n",
       "</table>\n",
       "</div>"
      ],
      "text/plain": [
       "                                           headlines  \\\n",
       "0  upgrad learner switches career ml al ninety pe...   \n",
       "1   delhi techie wins free food swiggy one year cred   \n",
       "2  new zealand end rohit sharma led india twelve ...   \n",
       "3  aegon life iterm insurance plan helps customer...   \n",
       "4           known hirani yrs metoo claims true sonam   \n",
       "\n",
       "                                                text  \\\n",
       "0  saurav kant alumnus upgrad iit pg program mach...   \n",
       "1  kunal shah credit card bill payment platform c...   \n",
       "2  new zealand defeated india eight wickets fourt...   \n",
       "3  aegon life iterm insurance plan customers enjo...   \n",
       "4  speaking sexual harassment allegations rajkuma...   \n",
       "\n",
       "                                       decoder_input  \\\n",
       "0  sostoken upgrad learner switches career ml al ...   \n",
       "1  sostoken delhi techie wins free food swiggy on...   \n",
       "2  sostoken new zealand end rohit sharma led indi...   \n",
       "3  sostoken aegon life iterm insurance plan helps...   \n",
       "4  sostoken known hirani yrs metoo claims true sonam   \n",
       "\n",
       "                                      decoder_target  \n",
       "0  upgrad learner switches career ml al ninety pe...  \n",
       "1  delhi techie wins free food swiggy one year cr...  \n",
       "2  new zealand end rohit sharma led india twelve ...  \n",
       "3  aegon life iterm insurance plan helps customer...  \n",
       "4  known hirani yrs metoo claims true sonam eostoken  "
      ]
     },
     "execution_count": 20,
     "metadata": {},
     "output_type": "execute_result"
    }
   ],
   "source": [
    "# 요약 데이터에는 시작 토큰과 종료 토큰을 추가한다.\n",
    "data['decoder_input'] = data['headlines'].apply(lambda x : 'sostoken '+ x)\n",
    "data['decoder_target'] = data['headlines'].apply(lambda x : x + ' eostoken')\n",
    "data.head()"
   ]
  },
  {
   "cell_type": "code",
   "execution_count": 21,
   "id": "6f910364",
   "metadata": {},
   "outputs": [],
   "source": [
    "# numpy array로 저장\n",
    "encoder_input = np.array(data['text']) \n",
    "decoder_input = np.array(data['decoder_input']) \n",
    "decoder_target = np.array(data['decoder_target']) "
   ]
  },
  {
   "cell_type": "code",
   "execution_count": 22,
   "id": "5b9f9dec",
   "metadata": {},
   "outputs": [],
   "source": [
    "en_x_train, en_x_test, de_x_train, de_x_test, de_y_train, de_y_test = train_test_split(\n",
    "    encoder_input, decoder_input, decoder_target, test_size=0.2)"
   ]
  },
  {
   "cell_type": "code",
   "execution_count": 23,
   "id": "d53822d7",
   "metadata": {},
   "outputs": [
    {
     "name": "stdout",
     "output_type": "stream",
     "text": [
      "훈련 데이터의 개수 : 73314\n",
      "훈련 레이블의 개수 : 73314\n",
      "테스트 데이터의 개수 : 18329\n",
      "테스트 레이블의 개수 : 18329\n"
     ]
    }
   ],
   "source": [
    "print('훈련 데이터의 개수 :', len(en_x_train))\n",
    "print('훈련 레이블의 개수 :', len(de_x_train))\n",
    "print('테스트 데이터의 개수 :', len(en_x_test))\n",
    "print('테스트 레이블의 개수 :', len(de_x_test))"
   ]
  },
  {
   "cell_type": "markdown",
   "id": "09d3b309",
   "metadata": {},
   "source": [
    "##### 2) 정수 인코딩"
   ]
  },
  {
   "cell_type": "code",
   "execution_count": 24,
   "id": "fecdb797",
   "metadata": {},
   "outputs": [],
   "source": [
    "src_tokenizer = Tokenizer()\n",
    "src_tokenizer.fit_on_texts(en_x_train)"
   ]
  },
  {
   "cell_type": "code",
   "execution_count": 25,
   "id": "e7162a48",
   "metadata": {},
   "outputs": [
    {
     "name": "stdout",
     "output_type": "stream",
     "text": [
      "단어 집합(vocabulary)의 크기 : 68269\n",
      "등장 빈도가 8번 이하인 희귀 단어의 수: 49378\n",
      "단어 집합에서 희귀 단어를 제외시킬 경우의 단어 집합의 크기 18891\n",
      "단어 집합에서 희귀 단어의 비율: 72.32858251915218\n",
      "전체 등장 빈도에서 희귀 단어 등장 빈도 비율: 4.146139655670809\n"
     ]
    }
   ],
   "source": [
    "threshold = 9\n",
    "total_cnt = len(src_tokenizer.word_index) # 단어의 수\n",
    "rare_cnt = 0 # 등장 빈도수가 threshold보다 작은 단어의 개수를 카운트\n",
    "total_freq = 0 # 훈련 데이터의 전체 단어 빈도수 총 합\n",
    "rare_freq = 0 # 등장 빈도수가 threshold보다 작은 단어의 등장 빈도수의 총 합\n",
    "\n",
    "# 단어와 빈도수의 쌍(pair)을 key와 value로 받는다.\n",
    "for key, value in src_tokenizer.word_counts.items():\n",
    "    total_freq = total_freq + value\n",
    "\n",
    "    # 단어의 등장 빈도수가 threshold보다 작으면\n",
    "    if(value < threshold):\n",
    "        rare_cnt = rare_cnt + 1\n",
    "        rare_freq = rare_freq + value\n",
    "\n",
    "print('단어 집합(vocabulary)의 크기 :', total_cnt)\n",
    "print('등장 빈도가 %s번 이하인 희귀 단어의 수: %s'%(threshold - 1, rare_cnt))\n",
    "print('단어 집합에서 희귀 단어를 제외시킬 경우의 단어 집합의 크기 %s'%(total_cnt - rare_cnt))\n",
    "print(\"단어 집합에서 희귀 단어의 비율:\", (rare_cnt / total_cnt)*100)\n",
    "print(\"전체 등장 빈도에서 희귀 단어 등장 빈도 비율:\", (rare_freq / total_freq)*100)"
   ]
  },
  {
   "cell_type": "code",
   "execution_count": 26,
   "id": "d4544027",
   "metadata": {},
   "outputs": [],
   "source": [
    "src_vocab = 20000\n",
    "src_tokenizer = Tokenizer(num_words=src_vocab) # 단어 집합의 크기를 20000으로 제한\n",
    "src_tokenizer.fit_on_texts(en_x_train) # 단어 집합 재생성"
   ]
  },
  {
   "cell_type": "code",
   "execution_count": 27,
   "id": "97df2421",
   "metadata": {},
   "outputs": [
    {
     "name": "stdout",
     "output_type": "stream",
     "text": [
      "[[1760, 12164, 10902, 536, 40, 126, 1271, 4130, 34, 174, 1, 1418, 39, 2421, 11171, 12911, 3448, 6, 46, 331, 1271, 174, 1979, 8849, 1751, 2945, 55], [102, 405, 67, 87, 346, 803, 44, 23, 192, 145, 248, 64, 124, 59, 47, 56, 64, 80, 506, 21, 1357, 18892, 1, 397, 12912, 7742, 17865, 44, 67, 7291, 3792, 7742, 1395], [711, 16180, 100, 30, 1079, 268, 8850, 1187, 2862, 11172, 3039, 2035, 602, 746, 10384, 229, 641, 68, 1, 14, 308, 14888, 5391, 3385, 71, 264, 93, 665, 490, 398, 14888, 2074, 2223, 1134, 1020]]\n"
     ]
    }
   ],
   "source": [
    "# 텍스트 시퀀스를 정수 시퀀스로 변환\n",
    "en_x_train_tk = src_tokenizer.texts_to_sequences(en_x_train) \n",
    "en_x_test_tk = src_tokenizer.texts_to_sequences(en_x_test)\n",
    "\n",
    "# 잘 진행되었는지 샘플 출력\n",
    "print(en_x_train_tk[:3])"
   ]
  },
  {
   "cell_type": "code",
   "execution_count": 28,
   "id": "b1433c37",
   "metadata": {},
   "outputs": [],
   "source": [
    "tar_tokenizer = Tokenizer()\n",
    "tar_tokenizer.fit_on_texts(de_x_train)"
   ]
  },
  {
   "cell_type": "code",
   "execution_count": 29,
   "id": "2e0db302",
   "metadata": {},
   "outputs": [
    {
     "name": "stdout",
     "output_type": "stream",
     "text": [
      "단어 집합(vocabulary)의 크기 : 29805\n",
      "등장 빈도가 5번 이하인 희귀 단어의 수: 19683\n",
      "단어 집합에서 희귀 단어를 제외시킬 경우의 단어 집합의 크기 10122\n",
      "단어 집합에서 희귀 단어의 비율: 66.03925515853045\n",
      "전체 등장 빈도에서 희귀 단어 등장 빈도 비율: 5.89452206194916\n"
     ]
    }
   ],
   "source": [
    "threshold = 6\n",
    "total_cnt = len(tar_tokenizer.word_index) # 단어의 수\n",
    "rare_cnt = 0 # 등장 빈도수가 threshold보다 작은 단어의 개수를 카운트\n",
    "total_freq = 0 # 훈련 데이터의 전체 단어 빈도수 총 합\n",
    "rare_freq = 0 # 등장 빈도수가 threshold보다 작은 단어의 등장 빈도수의 총 합\n",
    "\n",
    "# 단어와 빈도수의 쌍(pair)을 key와 value로 받는다.\n",
    "for key, value in tar_tokenizer.word_counts.items():\n",
    "    total_freq = total_freq + value\n",
    "\n",
    "    # 단어의 등장 빈도수가 threshold보다 작으면\n",
    "    if(value < threshold):\n",
    "        rare_cnt = rare_cnt + 1\n",
    "        rare_freq = rare_freq + value\n",
    "\n",
    "print('단어 집합(vocabulary)의 크기 :', total_cnt)\n",
    "print('등장 빈도가 %s번 이하인 희귀 단어의 수: %s'%(threshold - 1, rare_cnt))\n",
    "print('단어 집합에서 희귀 단어를 제외시킬 경우의 단어 집합의 크기 %s'%(total_cnt - rare_cnt))\n",
    "print(\"단어 집합에서 희귀 단어의 비율:\", (rare_cnt / total_cnt)*100)\n",
    "print(\"전체 등장 빈도에서 희귀 단어 등장 빈도 비율:\", (rare_freq / total_freq)*100)"
   ]
  },
  {
   "cell_type": "code",
   "execution_count": 30,
   "id": "a89e32d1",
   "metadata": {},
   "outputs": [
    {
     "name": "stdout",
     "output_type": "stream",
     "text": [
      "decoder input:  [[1, 2873, 1275, 3450, 148, 8533], [1, 7422, 737, 368, 52, 12, 4143, 658, 25, 392], [1, 590, 85, 465, 759], [1, 891, 5590, 106, 190, 258], [1, 91, 1218, 789, 393, 190, 751, 630]]\n",
      "decoder target:  [[2873, 1275, 3450, 148, 8533, 2], [7422, 737, 368, 52, 12, 4143, 658, 25, 392, 2], [590, 85, 465, 759, 2], [891, 5590, 106, 190, 258, 2], [91, 1218, 789, 393, 190, 751, 630, 2]]\n"
     ]
    }
   ],
   "source": [
    "tar_vocab = 10000\n",
    "tar_tokenizer = Tokenizer(num_words=tar_vocab) \n",
    "tar_tokenizer.fit_on_texts(de_x_train)\n",
    "tar_tokenizer.fit_on_texts(de_y_train)\n",
    "\n",
    "# 텍스트 시퀀스를 정수 시퀀스로 변환\n",
    "de_x_train_tk = tar_tokenizer.texts_to_sequences(de_x_train) \n",
    "de_y_train_tk = tar_tokenizer.texts_to_sequences(de_y_train)\n",
    "de_x_test_tk = tar_tokenizer.texts_to_sequences(de_x_test)\n",
    "de_y_test_tk = tar_tokenizer.texts_to_sequences(de_y_test)\n",
    "\n",
    "# 잘 변환되었는지 확인\n",
    "print('decoder input: ', de_x_train_tk[:5])\n",
    "print('decoder target: ', de_y_train_tk[:5])"
   ]
  },
  {
   "cell_type": "code",
   "execution_count": 31,
   "id": "083467fb",
   "metadata": {},
   "outputs": [
    {
     "name": "stdout",
     "output_type": "stream",
     "text": [
      "삭제할 훈련 데이터의 개수 : 2\n",
      "삭제할 테스트 데이터의 개수 : 0\n",
      "훈련 데이터의 개수 : 73314\n",
      "훈련 레이블의 개수 : 73314\n",
      "테스트 데이터의 개수 : 18329\n",
      "테스트 레이블의 개수 : 18329\n"
     ]
    }
   ],
   "source": [
    "drop_train = [index for index, sentence in enumerate(de_x_train_tk) if len(sentence) == 1]\n",
    "drop_test = [index for index, sentence in enumerate(de_x_test_tk) if len(sentence) == 1]\n",
    "\n",
    "print('삭제할 훈련 데이터의 개수 :', len(drop_train))\n",
    "print('삭제할 테스트 데이터의 개수 :', len(drop_test))\n",
    "\n",
    "en_x_train_tk = [sentence for index, sentence in enumerate(en_x_train_tk) if index not in drop_train]\n",
    "de_x_train_tk = [sentence for index, sentence in enumerate(de_x_train_tk) if index not in drop_train]\n",
    "de_y_train_tk = [sentence for index, sentence in enumerate(de_y_train_tk) if index not in drop_train]\n",
    "\n",
    "en_x_test_tk = [sentence for index, sentence in enumerate(en_x_test_tk) if index not in drop_test]\n",
    "de_x_test_tk = [sentence for index, sentence in enumerate(de_x_test_tk) if index not in drop_test]\n",
    "de_y_test_tk = [sentence for index, sentence in enumerate(de_y_test_tk) if index not in drop_test]\n",
    "\n",
    "print('훈련 데이터의 개수 :', len(en_x_train))\n",
    "print('훈련 레이블의 개수 :', len(de_x_train))\n",
    "print('테스트 데이터의 개수 :', len(en_x_test))\n",
    "print('테스트 레이블의 개수 :', len(de_x_test))"
   ]
  },
  {
   "cell_type": "code",
   "execution_count": 32,
   "id": "ecd25931",
   "metadata": {},
   "outputs": [],
   "source": [
    "en_x_train_tk = pad_sequences(en_x_train_tk, maxlen=text_max_len, padding='post')\n",
    "en_x_test_tk = pad_sequences(en_x_test_tk, maxlen=text_max_len, padding='post')\n",
    "de_x_train_tk = pad_sequences(de_x_train_tk, maxlen=summary_max_len, padding='post')\n",
    "de_x_test_tk = pad_sequences(de_x_test_tk, maxlen=summary_max_len, padding='post')\n",
    "de_y_train_tk = pad_sequences(de_y_train_tk, maxlen=summary_max_len, padding='post')\n",
    "de_y_test_tk = pad_sequences(de_y_test_tk, maxlen=summary_max_len, padding='post')"
   ]
  },
  {
   "cell_type": "markdown",
   "id": "1f973f74",
   "metadata": {},
   "source": [
    "### 모델 설계"
   ]
  },
  {
   "cell_type": "code",
   "execution_count": 33,
   "id": "93277d99",
   "metadata": {},
   "outputs": [],
   "source": [
    "from tensorflow.keras.layers import Input, LSTM, Embedding, Dense, Concatenate, TimeDistributed\n",
    "from tensorflow.keras.models import Model\n",
    "from tensorflow.keras.callbacks import EarlyStopping, ModelCheckpoint"
   ]
  },
  {
   "cell_type": "markdown",
   "id": "3ae94753",
   "metadata": {},
   "source": [
    "##### Encoder"
   ]
  },
  {
   "cell_type": "code",
   "execution_count": 34,
   "id": "3ad6cee0",
   "metadata": {},
   "outputs": [],
   "source": [
    "embedding_dim = 256\n",
    "hidden_size = 512\n",
    "\n",
    "# 인코더 input\n",
    "encoder_inputs = Input(shape=(text_max_len,))\n",
    "\n",
    "# 인코더의 임베딩 층\n",
    "enc_emb = Embedding(src_vocab, embedding_dim)(encoder_inputs)\n",
    "\n",
    "# 인코더의 LSTM 1\n",
    "# encoder_lstm1 = LSTM(hidden_size, return_sequences=True, return_state=True ,dropout = 0.4, recurrent_dropout = 0.4)\n",
    "encoder_lstm1 = LSTM(hidden_size, return_sequences=True, return_state=True ,dropout = 0.4)\n",
    "encoder_output1, state_h1, state_c1 = encoder_lstm1(enc_emb)\n",
    "\n",
    "# 인코더의 LSTM 2\n",
    "encoder_lstm2 = LSTM(hidden_size, return_sequences=True, return_state=True ,dropout = 0.4)\n",
    "encoder_output2, state_h2, state_c2 = encoder_lstm2(encoder_output1)\n",
    "\n",
    "# 인코더의 LSTM 3\n",
    "encoder_lstm3 = LSTM(hidden_size, return_sequences=True, return_state=True ,dropout = 0.4)\n",
    "encoder_output3, state_h3, state_c3 = encoder_lstm3(encoder_output2)"
   ]
  },
  {
   "cell_type": "markdown",
   "id": "674a73c2",
   "metadata": {},
   "source": [
    "##### Decoder"
   ]
  },
  {
   "cell_type": "code",
   "execution_count": 35,
   "id": "141aa717",
   "metadata": {},
   "outputs": [],
   "source": [
    "# 디코더 설계\n",
    "decoder_inputs = Input(shape=(None,))\n",
    "\n",
    "# 디코더의 임베딩 층\n",
    "dec_emb_layer = Embedding(tar_vocab, embedding_dim)\n",
    "dec_emb = dec_emb_layer(decoder_inputs)\n",
    "\n",
    "# 디코더의 LSTM\n",
    "# decoder_lstm = LSTM(hidden_size, return_sequences=True, return_state=True, dropout=0.4, recurrent_dropout=0.2)\n",
    "decoder_lstm = LSTM(hidden_size, return_sequences=True, return_state=True, dropout=0.4)\n",
    "decoder_outputs, _, _ = decoder_lstm(dec_emb, initial_state=[state_h3, state_c3])"
   ]
  },
  {
   "cell_type": "code",
   "execution_count": 36,
   "id": "fa3c882a",
   "metadata": {},
   "outputs": [
    {
     "name": "stdout",
     "output_type": "stream",
     "text": [
      "Model: \"model\"\n",
      "__________________________________________________________________________________________________\n",
      "Layer (type)                    Output Shape         Param #     Connected to                     \n",
      "==================================================================================================\n",
      "input_1 (InputLayer)            [(None, 50)]         0                                            \n",
      "__________________________________________________________________________________________________\n",
      "embedding (Embedding)           (None, 50, 256)      5120000     input_1[0][0]                    \n",
      "__________________________________________________________________________________________________\n",
      "lstm (LSTM)                     [(None, 50, 512), (N 1574912     embedding[0][0]                  \n",
      "__________________________________________________________________________________________________\n",
      "input_2 (InputLayer)            [(None, None)]       0                                            \n",
      "__________________________________________________________________________________________________\n",
      "lstm_1 (LSTM)                   [(None, 50, 512), (N 2099200     lstm[0][0]                       \n",
      "__________________________________________________________________________________________________\n",
      "embedding_1 (Embedding)         (None, None, 256)    2560000     input_2[0][0]                    \n",
      "__________________________________________________________________________________________________\n",
      "lstm_2 (LSTM)                   [(None, 50, 512), (N 2099200     lstm_1[0][0]                     \n",
      "__________________________________________________________________________________________________\n",
      "lstm_3 (LSTM)                   [(None, None, 512),  1574912     embedding_1[0][0]                \n",
      "                                                                 lstm_2[0][1]                     \n",
      "                                                                 lstm_2[0][2]                     \n",
      "__________________________________________________________________________________________________\n",
      "dense (Dense)                   (None, None, 10000)  5130000     lstm_3[0][0]                     \n",
      "==================================================================================================\n",
      "Total params: 20,158,224\n",
      "Trainable params: 20,158,224\n",
      "Non-trainable params: 0\n",
      "__________________________________________________________________________________________________\n"
     ]
    }
   ],
   "source": [
    "# 디코더의 출력층\n",
    "decoder_softmax_layer = Dense(tar_vocab, activation='softmax')\n",
    "decoder_softmax_outputs = decoder_softmax_layer(decoder_outputs) \n",
    "\n",
    "# 모델 정의\n",
    "model = Model([encoder_inputs, decoder_inputs], decoder_softmax_outputs)\n",
    "model.summary()"
   ]
  },
  {
   "cell_type": "code",
   "execution_count": 37,
   "id": "323a040a",
   "metadata": {},
   "outputs": [
    {
     "name": "stdout",
     "output_type": "stream",
     "text": [
      "Model: \"model_1\"\n",
      "__________________________________________________________________________________________________\n",
      "Layer (type)                    Output Shape         Param #     Connected to                     \n",
      "==================================================================================================\n",
      "input_1 (InputLayer)            [(None, 50)]         0                                            \n",
      "__________________________________________________________________________________________________\n",
      "embedding (Embedding)           (None, 50, 256)      5120000     input_1[0][0]                    \n",
      "__________________________________________________________________________________________________\n",
      "lstm (LSTM)                     [(None, 50, 512), (N 1574912     embedding[0][0]                  \n",
      "__________________________________________________________________________________________________\n",
      "input_2 (InputLayer)            [(None, None)]       0                                            \n",
      "__________________________________________________________________________________________________\n",
      "lstm_1 (LSTM)                   [(None, 50, 512), (N 2099200     lstm[0][0]                       \n",
      "__________________________________________________________________________________________________\n",
      "embedding_1 (Embedding)         (None, None, 256)    2560000     input_2[0][0]                    \n",
      "__________________________________________________________________________________________________\n",
      "lstm_2 (LSTM)                   [(None, 50, 512), (N 2099200     lstm_1[0][0]                     \n",
      "__________________________________________________________________________________________________\n",
      "lstm_3 (LSTM)                   [(None, None, 512),  1574912     embedding_1[0][0]                \n",
      "                                                                 lstm_2[0][1]                     \n",
      "                                                                 lstm_2[0][2]                     \n",
      "__________________________________________________________________________________________________\n",
      "attention_layer (AdditiveAttent (None, None, 512)    512         lstm_3[0][0]                     \n",
      "                                                                 lstm_2[0][0]                     \n",
      "__________________________________________________________________________________________________\n",
      "concat_layer (Concatenate)      (None, None, 1024)   0           lstm_3[0][0]                     \n",
      "                                                                 attention_layer[0][0]            \n",
      "__________________________________________________________________________________________________\n",
      "dense_1 (Dense)                 (None, None, 10000)  10250000    concat_layer[0][0]               \n",
      "==================================================================================================\n",
      "Total params: 25,278,736\n",
      "Trainable params: 25,278,736\n",
      "Non-trainable params: 0\n",
      "__________________________________________________________________________________________________\n"
     ]
    }
   ],
   "source": [
    "from tensorflow.keras.layers import AdditiveAttention\n",
    "\n",
    "# 어텐션 층(어텐션 함수)\n",
    "attn_layer = AdditiveAttention(name='attention_layer')\n",
    "\n",
    "# 인코더와 디코더의 모든 time step의 hidden state를 어텐션 층에 전달하고 결과를 리턴\n",
    "attn_out = attn_layer([decoder_outputs, encoder_output3])\n",
    "\n",
    "# 어텐션의 결과와 디코더의 hidden state들을 연결\n",
    "decoder_concat_input = Concatenate(axis=-1, name='concat_layer')([decoder_outputs, attn_out])\n",
    "\n",
    "# 디코더의 출력층\n",
    "decoder_softmax_layer = Dense(tar_vocab, activation='softmax')\n",
    "decoder_softmax_outputs = decoder_softmax_layer(decoder_concat_input)\n",
    "\n",
    "# 모델 정의\n",
    "model = Model([encoder_inputs, decoder_inputs], decoder_softmax_outputs)\n",
    "model.summary()"
   ]
  },
  {
   "cell_type": "markdown",
   "id": "6d24163a",
   "metadata": {},
   "source": [
    "### training & test"
   ]
  },
  {
   "cell_type": "markdown",
   "id": "a414114c",
   "metadata": {},
   "source": [
    "##### training"
   ]
  },
  {
   "cell_type": "code",
   "execution_count": 38,
   "id": "e387a1e4",
   "metadata": {},
   "outputs": [
    {
     "name": "stdout",
     "output_type": "stream",
     "text": [
      "Epoch 1/50\n",
      "144/144 [==============================] - 74s 465ms/step - loss: 5.6433 - val_loss: 5.2231\n",
      "Epoch 2/50\n",
      "144/144 [==============================] - 72s 498ms/step - loss: 5.2305 - val_loss: 5.0927\n",
      "Epoch 3/50\n",
      "144/144 [==============================] - 72s 500ms/step - loss: 5.0723 - val_loss: 4.9428\n",
      "Epoch 4/50\n",
      "144/144 [==============================] - 72s 503ms/step - loss: 4.8889 - val_loss: 4.7862\n",
      "Epoch 5/50\n",
      "144/144 [==============================] - 73s 504ms/step - loss: 4.6934 - val_loss: 4.6119\n",
      "Epoch 6/50\n",
      "144/144 [==============================] - 73s 505ms/step - loss: 4.4973 - val_loss: 4.4745\n",
      "Epoch 7/50\n",
      "144/144 [==============================] - 73s 505ms/step - loss: 4.2980 - val_loss: 4.3417\n",
      "Epoch 8/50\n",
      "144/144 [==============================] - 73s 506ms/step - loss: 4.1091 - val_loss: 4.2040\n",
      "Epoch 9/50\n",
      "144/144 [==============================] - 73s 505ms/step - loss: 3.9133 - val_loss: 4.0858\n",
      "Epoch 10/50\n",
      "144/144 [==============================] - 73s 505ms/step - loss: 3.7103 - val_loss: 3.9840\n",
      "Epoch 11/50\n",
      "144/144 [==============================] - 73s 505ms/step - loss: 3.5144 - val_loss: 3.9095\n",
      "Epoch 12/50\n",
      "144/144 [==============================] - 73s 506ms/step - loss: 3.3207 - val_loss: 3.8459\n",
      "Epoch 13/50\n",
      "144/144 [==============================] - 73s 506ms/step - loss: 3.1352 - val_loss: 3.8111\n",
      "Epoch 14/50\n",
      "144/144 [==============================] - 73s 506ms/step - loss: 2.9601 - val_loss: 3.7804\n",
      "Epoch 15/50\n",
      "144/144 [==============================] - 73s 506ms/step - loss: 2.7942 - val_loss: 3.7766\n",
      "Epoch 16/50\n",
      "144/144 [==============================] - 73s 506ms/step - loss: 2.6354 - val_loss: 3.7740\n",
      "Epoch 17/50\n",
      "144/144 [==============================] - 73s 506ms/step - loss: 2.4879 - val_loss: 3.7842\n",
      "Epoch 00017: early stopping\n"
     ]
    }
   ],
   "source": [
    "model.compile(optimizer='adam', loss='sparse_categorical_crossentropy')\n",
    "es = EarlyStopping(monitor='val_loss', patience=1, verbose=1)\n",
    "history = model.fit(x=[en_x_train_tk, de_x_train_tk], y=de_y_train_tk, \\\n",
    "          validation_data=([en_x_test_tk, de_x_test_tk], de_y_test_tk), \\\n",
    "          batch_size=512, callbacks=[es], epochs=50)"
   ]
  },
  {
   "cell_type": "code",
   "execution_count": 39,
   "id": "44364018",
   "metadata": {},
   "outputs": [
    {
     "data": {
      "image/png": "[encoded data removed]",
      "text/plain": [
       "<Figure size 432x288 with 1 Axes>"
      ]
     },
     "metadata": {
      "needs_background": "light"
     },
     "output_type": "display_data"
    }
   ],
   "source": [
    "plt.plot(history.history['loss'], label='train')\n",
    "plt.plot(history.history['val_loss'], label='test')\n",
    "plt.legend()\n",
    "plt.show()"
   ]
  },
  {
   "cell_type": "markdown",
   "id": "4c56d8b9",
   "metadata": {},
   "source": [
    "##### inference"
   ]
  },
  {
   "cell_type": "code",
   "execution_count": 40,
   "id": "5d877955",
   "metadata": {},
   "outputs": [],
   "source": [
    "src_index_to_word = src_tokenizer.index_word # 원문 단어 집합에서 정수 -> 단어\n",
    "tar_word_to_index = tar_tokenizer.word_index # 요약 단어 집합에서 단어 -> 정수\n",
    "tar_index_to_word = tar_tokenizer.index_word # 요약 단어 집합에서 정수 -> 단어"
   ]
  },
  {
   "cell_type": "markdown",
   "id": "a57d49a0",
   "metadata": {},
   "source": [
    "inference model design"
   ]
  },
  {
   "cell_type": "code",
   "execution_count": 41,
   "id": "6c4941ce",
   "metadata": {},
   "outputs": [],
   "source": [
    "# 인코더 설계\n",
    "encoder_model = Model(inputs=encoder_inputs, outputs=[encoder_output3, state_h3, state_c3])\n",
    "\n",
    "# 이전 시점의 상태들을 저장하는 텐서\n",
    "decoder_state_input_h = Input(shape=(hidden_size,))\n",
    "decoder_state_input_c = Input(shape=(hidden_size,))\n",
    "\n",
    "dec_emb2 = dec_emb_layer(decoder_inputs)\n",
    "\n",
    "# 문장의 다음 단어를 예측하기 위해서 초기 상태(initial_state)를 이전 시점의 상태로 사용. 이는 뒤의 함수 decode_sequence()에 구현\n",
    "# 훈련 과정에서와 달리 LSTM의 리턴하는 은닉 상태와 셀 상태인 state_h와 state_c를 버리지 않음.\n",
    "decoder_outputs2, state_h2, state_c2 = decoder_lstm(dec_emb2, initial_state=[decoder_state_input_h, decoder_state_input_c])"
   ]
  },
  {
   "cell_type": "code",
   "execution_count": 42,
   "id": "6ef5981b",
   "metadata": {},
   "outputs": [],
   "source": [
    "# 어텐션 함수\n",
    "decoder_hidden_state_input = Input(shape=(text_max_len, hidden_size))\n",
    "attn_out_inf = attn_layer([decoder_outputs2, decoder_hidden_state_input])\n",
    "decoder_inf_concat = Concatenate(axis=-1, name='concat')([decoder_outputs2, attn_out_inf])\n",
    "\n",
    "# 디코더의 출력층\n",
    "decoder_outputs2 = decoder_softmax_layer(decoder_inf_concat) \n",
    "\n",
    "# 최종 디코더 모델\n",
    "decoder_model = Model(\n",
    "    [decoder_inputs] + [decoder_hidden_state_input,decoder_state_input_h, decoder_state_input_c],\n",
    "    [decoder_outputs2] + [state_h2, state_c2])"
   ]
  },
  {
   "cell_type": "code",
   "execution_count": 43,
   "id": "7803bbd2",
   "metadata": {},
   "outputs": [],
   "source": [
    "def decode_sequence(input_seq):\n",
    "    # 입력으로부터 인코더의 상태를 얻음\n",
    "    e_out, e_h, e_c = encoder_model.predict(input_seq)\n",
    "\n",
    "     # <SOS>에 해당하는 토큰 생성\n",
    "    target_seq = np.zeros((1,1))\n",
    "    target_seq[0, 0] = tar_word_to_index['sostoken']\n",
    "\n",
    "    stop_condition = False\n",
    "    decoded_sentence = ''\n",
    "    while not stop_condition: # stop_condition이 True가 될 때까지 루프 반복\n",
    "\n",
    "        output_tokens, h, c = decoder_model.predict([target_seq] + [e_out, e_h, e_c])\n",
    "        sampled_token_index = np.argmax(output_tokens[0, -1, :])\n",
    "        sampled_token = tar_index_to_word[sampled_token_index]\n",
    "\n",
    "        if (sampled_token!='eostoken'):\n",
    "            decoded_sentence += ' '+sampled_token\n",
    "\n",
    "        #  <eos>에 도달하거나 최대 길이를 넘으면 중단.\n",
    "        if (sampled_token == 'eostoken'  or len(decoded_sentence.split()) >= (summary_max_len-1)):\n",
    "            stop_condition = True\n",
    "\n",
    "        # 길이가 1인 타겟 시퀀스를 업데이트\n",
    "        target_seq = np.zeros((1,1))\n",
    "        target_seq[0, 0] = sampled_token_index\n",
    "\n",
    "        # 상태를 업데이트 합니다.\n",
    "        e_h, e_c = h, c\n",
    "\n",
    "    return decoded_sentence"
   ]
  },
  {
   "cell_type": "code",
   "execution_count": 44,
   "id": "14325109",
   "metadata": {},
   "outputs": [
    {
     "name": "stdout",
     "output_type": "stream",
     "text": [
      "원문 : world health organisation warned nearly two hundred crore people worldwide currently use water contaminated faeces un agency said dramatic improvements needed ensuring global access clean water sanitation contaminated drinking water estimated cause five lakh deaths year maria head public health department said \n",
      "실제 요약 : two hundred crore people drinking contaminated water \n",
      "예측 요약 :  indians get one hundred percents citizens leave india report\n",
      "\n",
      "\n",
      "원문 : sachin tendulkar friday shared twitter handwritten letter one fans kerala fan compared tendulkar batting poem written cricket bat thank much letter fans like inspired keep better better tendulkar captioned post \n",
      "실제 요약 : tendulkar shares handwritten letter fan twitter \n",
      "예측 요약 :  sachin tendulkar attends pace cricket\n",
      "\n",
      "\n",
      "원문 : railways officials said received good morning good evening messages complaints whatsapp helpline numbers launched helpline numbers passengers lodge complaints lack cleanliness stations official said also received hindi poems friendship day wishes forward messages devotional messages \n",
      "실제 요약 : got good morning texts complaints helpline railways \n",
      "예측 요약 :  govt orders use whatsapp messages\n",
      "\n",
      "\n",
      "원문 : pakistani american father son duo sentenced eighteen months prison us exporting products illegally pakistan military muhammad ismail son khan exporting products shipped pakistan behalf atomic energy space agencies among others pleaded guilty international money laundering march \n",
      "실제 요약 : pak american men jailed illegal export pak military \n",
      "예측 요약 :  pak origin man freed wife son murders nephew\n",
      "\n",
      "\n",
      "원문 : black american radio host accused white privilege cnn analyst martin debate said candidate experience matters skin colour eligibility job another conversation white privilege things privilege people colour martin said disagreement \n",
      "실제 요약 : black radio host accused white privilege debate \n",
      "예측 요약 :  cnn anchor calls white house\n",
      "\n",
      "\n",
      "원문 : facebook announced removed thirty two pages accounts engaged coordinated behaviour designed influence us elections facebook also said identified seventeen suspect profiles facebook seven instagram accounts company added early stages investigation yet know behind pages \n",
      "실제 요약 : fb removes thirty two pages accounts trying influence us polls \n",
      "예측 요약 :  facebook rolls tools pages photos us\n",
      "\n",
      "\n",
      "원문 : actress maisie williams portrays arya stark series game thrones shared picture social media shoes blood captioned goodbye arya goodbye game thrones wrote joy adventures come maisie finished shooting ireland show final season \n",
      "실제 요약 : goodbye game thrones pic shoes blood \n",
      "예측 요약 :  actress responds troll priyanka\n",
      "\n",
      "\n",
      "원문 : nasa revealed launch james space telescope postponed march two thousand twenty one october two thousand eighteen raising developmental cost dollars eight billion dollars eight point eight billion twenty nine month delay blamed human errors including use wrong clean propulsion faulty wiring improperly installed cover \n",
      "실제 요약 : nasa lose dollars eight hundred million launch delay wrong \n",
      "예측 요약 :  nasa shares images twenty four percents year\n",
      "\n",
      "\n",
      "원문 : google reportedly developing pixel watch launched company first ever smartwatch later year another report claimed tech giant developing three pixel branded codenamed google recently rebranded android wear wear os qualcomm designing new snapdragon also released later year \n",
      "실제 요약 : google may launch onest ever smartwatch year reports \n",
      "예측 요약 :  google pixel two xl bug allows users report\n",
      "\n",
      "\n",
      "원문 : bombay high court stayed amendment noise pollution rules central government saying violates fundamental right citizens live peace interim order means continuation silence zones existed earlier court added state contended bringing back silence zones would lead law order problems \n",
      "실제 요약 : bombay hc stays centre amendment silent zones \n",
      "예측 요약 :  hc upholds life term two thousand twenty two\n",
      "\n",
      "\n",
      "원문 : first time many years infosys co founders including narayana murthy kept away company annual general meeting held saturday idea turn company spokesperson stated surprising see murthy used sit front investor stated \n",
      "실제 요약 : infosys co founders skip firm annual general meeting \n",
      "예측 요약 :  anand mahindra says infosys ceo\n",
      "\n",
      "\n",
      "원문 : actress sonam kapoor wore saree black white first look seventyth cannes film festival paired saree ivory blouse minimal accessories including pair earrings rings watch swiss luxury watch manufacturer actress styled hair look \n",
      "실제 요약 : sonam kapoor wears sari onest look cannes \n",
      "예측 요약 :  sonam kapoor wears cannes film festival cannes\n",
      "\n",
      "\n",
      "원문 : indian railway catering tourism corporation plans earn much eighteen lakh one year solely ad revenue generated high speed tejas express irctc allow ads streamed movies train display screens earlier ad free also charge passengers thirty pair earphones \n",
      "실제 요약 : movies tejas ads railways earn eighteen lakh yr \n",
      "예측 요약 :  railways launches new collection\n",
      "\n",
      "\n",
      "원문 : suspected agent pakistan intelligence agency isi arrested bulandshahr district uttar pradesh suspected isi agent identified secret documents prohibited papers maps prohibited areas among things also recovered suspect uttar pradesh police \n",
      "실제 요약 : suspected isi agent arrested secret docs recovered \n",
      "예측 요약 :  pakistani journalist held hostage pakistan\n",
      "\n",
      "\n",
      "원문 : several women taking instagram post pictures floral involves drawing floral patterns using coloured liquid trend designs black colourful patterns designs also include using green coloured lower make look like grass \n",
      "실제 요약 : women share pictures instagram \n",
      "예측 요약 :  women resembling body found\n",
      "\n",
      "\n",
      "원문 : oyo rooms raising dollars one billion existing investors softbank sequoia capital among investors reportedly valuation dollars five billion dollars six hundred million funds would poured china oyo began operations ten months ago oyo launched five years ago nineteen year old college dropout ritesh agarwal single hotel gurugram \n",
      "실제 요약 : oyo raises dollars one billion reported valuation dollars five billion \n",
      "예측 요약 :  us crypto exchange dollars five point five billion funding\n",
      "\n",
      "\n",
      "원문 : actor nawazuddin siddiqui saturday revealed sister diagnosed advanced stage breast cancer eighteen years old power courage made stand odds said siddiqui turns twenty five today still fighting actor added \n",
      "실제 요약 : sister diagnosed breast cancer eighteen nawazuddin \n",
      "예측 요약 :  faced treatment sonali daughter\n",
      "\n",
      "\n",
      "원문 : fans singer justin bieber tuesday urged cancel upcoming british tour july following suicide bombing ariana grande recent concert manchester people across social media asked appearance axed safety fans terror attack ariana grande concert monday night killed twenty two \n",
      "실제 요약 : fans urge justin cancel tour following uk terror attack \n",
      "예측 요약 :  bieber mistakes manchester blast trial\n",
      "\n",
      "\n",
      "원문 : spain rafael nadal presented atp world one award sunday became oldest player finish year end world number one atp rankings history thirty one year old fourth time finishing year world number one finishing number two nadal rival roger federer said nadal better throughout year \n",
      "실제 요약 : nadal oldest player finish year end one history \n",
      "예측 요약 :  nadal wins one thousand nine hundred fiftys nadal\n",
      "\n",
      "\n",
      "원문 : anurag kashyap announced production house phantom films founded vikramaditya motwane madhu vikas bahl dissolved phantom glorious dream dreams come end best succeeded failed tweeted know sure come stronger added \n",
      "실제 요약 : anurag kashyap partners dissolve production house films \n",
      "예측 요약 :  cannot sell mercedes benz actor\n",
      "\n",
      "\n",
      "원문 : supreme court granted interim relief delhi university law student allowed write fourth semester exams missed classes due pregnancy apex court issued notice du allowing attend classes next semester notably delhi high court refused grant attendance relaxation may \n",
      "실제 요약 : sc allows student missed exam pregnancy attend classes \n",
      "예측 요약 :  sc allows student file fir sc order\n",
      "\n",
      "\n",
      "원문 : nearly seven hundred jawans central armed police forces committed suicide last six years exceeding number personnel martyred action union home ministry revealed ministry cited lack stability domestic reasons ministry also revealed approximately nine thousand personnel opt voluntary retirement every year \n",
      "실제 요약 : seven hundred jawans armed forces committed suicide last six yrs \n"
     ]
    },
    {
     "name": "stdout",
     "output_type": "stream",
     "text": [
      "예측 요약 :  jandk govt identifies tenl compensation jawans martyred areas\n",
      "\n",
      "\n",
      "원문 : ajay devgn starrer golmaal become actor highest grossing film earnings one hundred forty three point thirty three crore surpassed lifetime earnings devgn two thousand fourteen film returns earned one hundred forty point sixty two crore golmaal also second highest hindi grosser two thousand seventeen hindi version baahubali conclusion \n",
      "실제 요약 : golmaal becomes ajay devgn highest grossing film \n",
      "예측 요약 :  dangal becomes first film earn one hundred crore club\n",
      "\n",
      "\n",
      "원문 : us international community going run scared north korea us ambassador nikki haley said reclusive state refused roll back nuclear ballistic missile programme north korea reportedly said launch thousand fold revenge us imposing punitive sanctions nuclear programme un \n",
      "실제 요약 : going run scared north korea us \n",
      "예측 요약 :  us korea conduct korea talks\n",
      "\n",
      "\n",
      "원문 : indian premier league side rajasthan royals begun go green initiative side help plant one million saplings across state rajasthan initiative undertaken association government rajasthan among organisations campaign also spread awareness regarding rainwater harvesting waste management \n",
      "실제 요약 : rajasthan royals plant one million saplings rajasthan \n",
      "예측 요약 :  hyperloop one hundred fifty five crore cattle risk\n",
      "\n",
      "\n",
      "원문 : unidentified man killed two lions punjab zoo situated near chandigarh sunday man appeared twentys scaled nearly thirty foot wall enter safari lions released mentally unstable influence man first spotted said \n",
      "실제 요약 : man killed two lions thirty foot wall punjab zoo \n",
      "예측 요약 :  man killed speeding train rams bike\n",
      "\n",
      "\n",
      "원문 : un general assembly debate afghanistan india criticised un failure sanction new taliban leaders counsellor india permanent mission un gambhir said taliban supported afghanistan neighbourhood veiled reference pakistan peace afghanistan tied peace entire world added \n",
      "실제 요약 : india criticises un failure sanction taliban militants \n",
      "예측 요약 :  pakistan pakistan pakistan\n",
      "\n",
      "\n",
      "원문 : passengers onboard thiruvananthapuram bengaluru indigo flight saturday panicked cabin crew detected smell smoke minor laptop placed handbag airline said passengers relocated adjacent seats smoke discharged fire extinguisher injuries reported incident plane landed safely bengaluru \n",
      "실제 요약 : spark smoke laptop bag cause alert indigo flight \n",
      "예측 요약 :  flight makes emergency landing passengers\n",
      "\n",
      "\n",
      "원문 : japan based scientists found mice suffered bone loss infected malaria young mice bones also grew slower normal result animals thigh bones ten percents shorter counterparts researchers said suggested treats curbing bone deteriorating mechanism \n",
      "실제 요약 : malaria found mice skeleton study \n",
      "예측 요약 :  scientists discover new hair\n",
      "\n",
      "\n",
      "원문 : centre wednesday approved projects construct national highways meghalaya mizoram cost six thousand seven hundred twenty one crore work four hundred three kilometre project begin financial year two thousand seventeen eighteen improve infrastructure meghalaya mizoram enhance connectivity inter state roads international borders read official statement \n",
      "실제 요약 : govt approves four hundred three km national highways meghalaya mizoram \n",
      "예측 요약 :  govt approves one hundred crore relief fund flood relief\n",
      "\n",
      "\n",
      "원문 : national conference president farooq abdullah wednesday said tourism life doubt stone nothing tourism risk starvation throw stones added remarks came pm narendra modi urged youth kashmir choose tourism terrorism \n",
      "실제 요약 : stone nothing tourism farooq abdullah \n",
      "예측 요약 :  cannot take back back india rajnath singh\n",
      "\n",
      "\n",
      "원문 : tribute late three time pm atal bihari vajpayee congress president rahul gandhi said today india lost great son former pm atal bihari vajpayee ji loved respected millions condolences family miss added bharat ratna awardee passed away hospitalised nine weeks \n",
      "실제 요약 : today india lost great son rahul pays tribute vajpayee \n",
      "예측 요약 :  pm modi shares poem tribute vajpayee demise\n",
      "\n",
      "\n",
      "원문 : uber admitted found one documents google spinoff waymo alleges stolen former employee computer however uber emphasised document found uber computers employee personal device waymo claims employee downloaded several confidential documents june two thousand sixteen one month resigning joining uber \n",
      "실제 요약 : uber admits found one waymo document employee device \n",
      "예측 요약 :  uber rival lyft drivers leads dollars two million\n",
      "\n",
      "\n",
      "원문 : actor shahid kapoor thirty seventh birthday february twenty five tweeted want sincerely thank wishes today day remember wrote remember brilliance magic brought lives love wishes must today may rest peace \n",
      "실제 요약 : today remember sridevi shahid thirty seventh birthday \n",
      "예측 요약 :  fortunate gift hate speech janhvi\n",
      "\n",
      "\n",
      "원문 : ten km wide asteroid hit earth sixty six million years ago triggered extinction dinosaurs set chain land undersea volcanic eruptions claims new study eruptions present day pacific indian ocean floors ejected high amounts molten rock underwater could cover entire us hundred feet deep said researchers \n",
      "실제 요약 : dinosaur killing asteroid forced lava study \n",
      "예측 요약 :  oldest known earth discovered earth\n",
      "\n",
      "\n",
      "원문 : ahead assembly elections gujarat pm narendra modi friday asked mps state start creating better connect voters pick five constituencies campaigning gujarat scheduled go polls november year bjp aiming one hundred fifty one hundred eighty two assembly seats gujarat said parliamentary affairs minister ananth kumar \n",
      "실제 요약 : pick campaigning pm modi gujarat mps \n",
      "예측 요약 :  chhattisgarh cm slams pm modi parliament\n",
      "\n",
      "\n",
      "원문 : questioning rss chief mohan bhagwat remarks building ram mandir ayodhya aimim president asaduddin owaisi monday asked chief justice india comes ahead commencement final hearing ayodhya dispute supreme court december five earlier apex court recommended court settlement dispute \n",
      "실제 요약 : rss head mohan bhagwat india chief justice asks owaisi \n",
      "예측 요약 :  owaisi urges owaisi ayodhya dispute\n",
      "\n",
      "\n",
      "원문 : american baseball team pirates installed led screen home stadium allows fans play virtual reality games intervals video showed fan playing super mario eleven foot high one hundred thirty six foot long screen recent match screen converts match progress also games \n",
      "실제 요약 : fans play super baseball stadium vr \n",
      "예측 요약 :  japan player wins two thousand km race\n",
      "\n",
      "\n",
      "원문 : ias officer pradeep transferred seventy one times career spanning thirty four years retired wednesday without received salary past six months last posting haryana land use board two thousand eight filed rti application found department exist \n",
      "실제 요약 : ias officer transferred seventy one times retires without six month pay \n",
      "예측 요약 :  assam village get first ever\n",
      "\n",
      "\n",
      "원문 : us senator ron warned facebook could broken company take steps protect users privacy number proposals ideas unless zuckerberg finds way gonna law hands said senator also said would support law \n",
      "실제 요약 : us senator warns break facebook privacy issues \n",
      "예측 요약 :  people responsible facebook ceo\n",
      "\n",
      "\n",
      "원문 : us lender wells fargo ordered security forcibly remove investor shareholder meeting allegedly made physical approach directors thirty five minutes meeting declared order man demanded board explain employees opened twenty lakh fake accounts denying allegations shareholder said dragging \n",
      "실제 요약 : bank forcibly removes investor meet physical threat \n",
      "예측 요약 :  wells fargo ceo serves crypto wallet\n",
      "\n",
      "\n",
      "원문 : congress president rahul gandhi monday tweeted protest killing tigress avni blamed deaths least thirteen people maharashtra greatness nation judged way animals treated avni rahul said twitter also attributed quote used mahatma gandhi \n",
      "실제 요약 : rahul gandhi tweets protest killing tigress avni \n",
      "예측 요약 :  rahul gandhi shares video rahul gandhi\n",
      "\n",
      "\n",
      "원문 : american reality television personality kim kardashian revealed high ecstasy first wedding two thousand made two thousand three sex tape featuring boyfriend ray ecstasy got married made sex tape said kim added everything bad happened high \n",
      "실제 요약 : got married ecstasy onest time made sex tape twond time kim \n",
      "예측 요약 :  kim kardashian sued suv suv\n",
      "\n",
      "\n",
      "원문 : west bengal assembly passed resolution change state name bangla proposal go home ministry approval name state changed ministry gives green signal centre earlier rejected proposal name change bengal english bangla bengali \n",
      "실제 요약 : west bengal passes resolution change name state \n"
     ]
    },
    {
     "name": "stdout",
     "output_type": "stream",
     "text": [
      "예측 요약 :  wb governor calls nrc nrc\n",
      "\n",
      "\n",
      "원문 : talking recent concerns rising pollution delhi ncr west bengal cm mamata banerjee suggested capital political pollution causing much air pollution pointing sri lankan cricketers wear masks playing test match feroz shah kotla banerjee said political pollution weather pollution delhi represents \n",
      "실제 요약 : delhi political pollution causing air pollution mamata \n",
      "예측 요약 :  mamata banerjee meets bengal cm mamata banerjee\n",
      "\n",
      "\n",
      "원문 : vancouver captain chris gayle pulled one handed catch right hand almost dropped catch left hand global ttwenty canada final sunday west indies hodge edged fawad ahmed delivery towards slips gayle completed catch cannot commentator screamed \n",
      "실제 요약 : gayle almost drops catch left hand takes right \n",
      "예측 요약 :  stokes scores four sixes one hundredth catch\n",
      "\n",
      "\n",
      "원문 : us president donald trump said greatest assets mental stability like really smart comes book claimed several aides considered unfit office went successful businessman president united states think would qualify genius added \n",
      "실제 요약 : greatest asset like really smart trump \n",
      "예측 요약 :  trump slams media new media\n",
      "\n",
      "\n",
      "원문 : video nine year old kashmiri champion hugging home minister rajnath singh taking selfie gone viral islam world championship two thousand sixteen felicitated along sportspersons jandk sports conclave former jandk cm omar abdullah later tweeted sweet kid wishing success \n",
      "실제 요약 : kashmiri champ hugs rajnath singh takes selfie \n",
      "예측 요약 :  video shows pm modi video shows man kin\n",
      "\n",
      "\n",
      "원문 : north korea said way country would abandon nuclear weapons cannot trust us addressing un saturday north korea foreign minister ri yong ho accused us creating achieving progress denuclearisation korean peninsula adding continued sanctions two countries \n",
      "실제 요약 : way give nukes without trust us north korea \n",
      "예측 요약 :  korea talks us korea talks\n",
      "\n",
      "\n",
      "원문 : doctors pune hospital successfully conducted india first womb transplant thursday transferring woman uterus twenty one year old daughter unable conceive child procedure carried nine hours using technique twelve doctor team said womb acceptance functionality recipient would assessed fifteen days \n",
      "실제 요약 : india first transplant successfully pune \n",
      "예측 요약 :  uk woman undergoes surgery deliver birth\n",
      "\n",
      "\n"
     ]
    }
   ],
   "source": [
    "for i in range(50):\n",
    "    print(\"원문 :\", seq2text(en_x_test_tk[i], src_index_to_word))\n",
    "    print(\"실제 요약 :\", seq2summary(de_x_test_tk[i], tar_word_to_index, tar_index_to_word))\n",
    "    print(\"예측 요약 :\", decode_sequence(en_x_test_tk[i].reshape(1, text_max_len)))\n",
    "    print(\"\\n\")"
   ]
  },
  {
   "cell_type": "markdown",
   "id": "591930d0",
   "metadata": {},
   "source": [
    "### 추출적 요약 결과와 비교해보기(with 매트릭스 시놉시스 데이터셋)"
   ]
  },
  {
   "cell_type": "code",
   "execution_count": 45,
   "id": "e4eafd34",
   "metadata": {},
   "outputs": [],
   "source": [
    "import requests\n",
    "from summa.summarizer import summarize"
   ]
  },
  {
   "cell_type": "code",
   "execution_count": 46,
   "id": "1967e2ce",
   "metadata": {},
   "outputs": [
    {
     "name": "stdout",
     "output_type": "stream",
     "text": [
      "The screen is filled with green, cascading code which gives way to the title, The Matrix.\r\n",
      "\r\n",
      "A phone rings and text appears on the screen: \"Call trans opt: received. 2-19-98 13:24:18 REC: Log>\" As a conversation takes place between Trinity (Carrie-Anne Moss) and Cypher (Joe Pantoliano), two free humans, a table of random green numbers are being scanned and individual numbers selected, creating a series of digits not unlike an ordinary phone number, as if a code is being deciphered or a call is being traced.\r\n",
      "\r\n",
      "Trinity discusses some unknown person. Cypher taunts Trinity, suggesting she enjoys watching him. Trinity counters that \"Morpheus (Laurence Fishburne) says he may be 'the One',\" just as the sound of a number being selected alerts Trinity that someone may be tracing their call. She ends the call.\r\n",
      "\r\n",
      "Armed policemen move down a darkened, decrepit hallway in the Heart O' the City Hotel, their flashlight beam bouncing just ahead of them. They come to room 303, kick down the door and find a woman dressed in black, facing away from them. It's Trinity. She brings her hands up from the laptop she's working on at their command.\r\n",
      "\r\n",
      "Outside the hotel a car drives up and three agents appear in neatly pressed black suits. They are Agent Smith (Hugo Weaving), Agent Brown (Paul Goddard), and Agent Jones (Robert Taylor). Agent Smith and the presiding police lieutenant argue. Agent Smith admonishes the policeman that they were given specific orders to contact the agents first, for their\n"
     ]
    }
   ],
   "source": [
    "text = requests.get('http://rare-technologies.com/the_matrix_synopsis.txt').text\n",
    "print(text[:1500])"
   ]
  },
  {
   "cell_type": "code",
   "execution_count": 47,
   "id": "435b9826",
   "metadata": {},
   "outputs": [
    {
     "name": "stdout",
     "output_type": "stream",
     "text": [
      "Summary: Morpheus, Trinity, Neo, Apoc, Switch, Mouse and Cypher are jacked into the Matrix.\n",
      "Trinity brings the helicopter down to the floor that Morpheus is on and Neo opens fire on the three Agents.\n"
     ]
    }
   ],
   "source": [
    "# 전체 문장의 0.5%만 요약문으로 추출\n",
    "print('Summary:', summarize(text, ratio=0.005))"
   ]
  },
  {
   "cell_type": "code",
   "execution_count": 48,
   "id": "4e5bffaa",
   "metadata": {},
   "outputs": [
    {
     "name": "stdout",
     "output_type": "stream",
     "text": [
      "Trinity takes Neo to Morpheus.\n",
      "Morpheus, Trinity, Neo, Apoc, Switch, Mouse and Cypher are jacked into the Matrix.\n",
      "Trinity brings the helicopter down to the floor that Morpheus is on and Neo opens fire on the three Agents.\n"
     ]
    }
   ],
   "source": [
    "# 요약문에 포함된 단어 수를 50개로 제한\n",
    "print(summarize(text, words=50))"
   ]
  },
  {
   "cell_type": "markdown",
   "id": "80c84bee",
   "metadata": {},
   "source": [
    "- **추출적 요약**: 원본 문장에서 중요한 문장을 직접 가져오기 때문에 문장 내부적으로 문법의 오류가 없다. 하지만 핵심 개념이 중복될 수 있으며, 중요한 단어가 포함되지만 문맥이 부자연스러울 수도 있다.\n",
    "- **추상적 요약**: 새로운 문장을 생성하여 더 압축적인 요약이 가능하며, 문맥이 상대적으로 매끄럽다. 하지만 문법적으로 부자연스럽거나, 원본 문장에서 사용된 특정한 핵심 단어가 포함되지 않을 가능성이 있다."
   ]
  },
  {
   "cell_type": "markdown",
   "id": "8762968b",
   "metadata": {},
   "source": [
    "### Done"
   ]
  },
  {
   "cell_type": "markdown",
   "id": "8f8fb90e",
   "metadata": {},
   "source": [
    "1. 데이터 전처리 함수\n",
    "- 수치 데이터와 일부 특수기호도 중요한 정보인데 이것도 없애야 할까?\n",
    "    - $ → ‘dollar’, % → ‘percent’, & → ‘and’로 변경하는 로직 추가\n",
    "    - num2words 라이브러리로 숫자를 문자로 변경 (ex : 2000 → two thousands)\n",
    "    - 숫자 사이에 콤마나 점이 있는 경우에 대응\n",
    "        - 1.5를 one point five로 읽도록 수정\n",
    "        - 1,000을 one zero로 읽는 문제 해결\n",
    "- `sentence = re.sub(\"[m]{2,}\", \"mm\", sentence)` → 다른 알파벳도 3개 이상 반복되면 2개로 바꾸는 로직 추가\n",
    "- 'iso-8859-1’ 인코딩에 글씨 깨짐이 발생하는 경우가 있어 ‘utf-8’로 변경"
   ]
  },
  {
   "cell_type": "markdown",
   "id": "c6e3d739",
   "metadata": {},
   "source": [
    "### To-do"
   ]
  },
  {
   "cell_type": "markdown",
   "id": "2cc03b30",
   "metadata": {},
   "source": [
    "1. 하이퍼파라미터 튜닝 with keras tuner\n",
    "    - embedding_dim\n",
    "    - hidden_size\n",
    "    - dropout\n",
    "    - layer 개수\n",
    "    - learning rate  \n",
    "<br/><br/>\n",
    "2. 어텐션 메커니즘\n",
    "    - Luong attention 분석\n",
    "    - Bahdanau 모델 구현 & 성능 비교"
   ]
  },
  {
   "cell_type": "code",
   "execution_count": null,
   "id": "9902d3c0",
   "metadata": {},
   "outputs": [],
   "source": []
  }
 ],
 "metadata": {
  "kernelspec": {
   "display_name": "Python 3 (ipykernel)",
   "language": "python",
   "name": "python3"
  },
  "language_info": {
   "codemirror_mode": {
    "name": "ipython",
    "version": 3
   },
   "file_extension": ".py",
   "mimetype": "text/x-python",
   "name": "python",
   "nbconvert_exporter": "python",
   "pygments_lexer": "ipython3",
   "version": "3.9.7"
  }
 },
 "nbformat": 4,
 "nbformat_minor": 5
}
