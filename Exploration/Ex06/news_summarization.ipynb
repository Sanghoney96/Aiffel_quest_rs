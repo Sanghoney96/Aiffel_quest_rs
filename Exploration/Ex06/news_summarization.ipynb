{
 "cells": [
  {
   "cell_type": "code",
   "execution_count": 1,
   "id": "c58ad16e",
   "metadata": {},
   "outputs": [
    {
     "name": "stderr",
     "output_type": "stream",
     "text": [
      "[nltk_data] Downloading package stopwords to /aiffel/nltk_data...\n",
      "[nltk_data]   Package stopwords is already up-to-date!\n"
     ]
    }
   ],
   "source": [
    "import nltk\n",
    "nltk.download('stopwords')\n",
    "\n",
    "import numpy as np\n",
    "import pandas as pd\n",
    "from sklearn.model_selection import train_test_split\n",
    "import os\n",
    "import re\n",
    "import matplotlib.pyplot as plt\n",
    "from nltk.corpus import stopwords\n",
    "from bs4 import BeautifulSoup \n",
    "\n",
    "from tensorflow.keras.preprocessing.text import Tokenizer \n",
    "from tensorflow.keras.preprocessing.sequence import pad_sequences\n",
    "import urllib.request\n",
    "import warnings\n",
    "warnings.filterwarnings(\"ignore\", category=UserWarning, module='bs4')"
   ]
  },
  {
   "cell_type": "code",
   "execution_count": 11,
   "id": "7f5ddb1b",
   "metadata": {},
   "outputs": [
    {
     "name": "stdout",
     "output_type": "stream",
     "text": [
      "전체 샘플수 : 98360\n"
     ]
    },
    {
     "data": {
      "text/html": [
       "<div>\n",
       "<style scoped>\n",
       "    .dataframe tbody tr th:only-of-type {\n",
       "        vertical-align: middle;\n",
       "    }\n",
       "\n",
       "    .dataframe tbody tr th {\n",
       "        vertical-align: top;\n",
       "    }\n",
       "\n",
       "    .dataframe thead th {\n",
       "        text-align: right;\n",
       "    }\n",
       "</style>\n",
       "<table border=\"1\" class=\"dataframe\">\n",
       "  <thead>\n",
       "    <tr style=\"text-align: right;\">\n",
       "      <th></th>\n",
       "      <th>headlines</th>\n",
       "      <th>text</th>\n",
       "    </tr>\n",
       "  </thead>\n",
       "  <tbody>\n",
       "    <tr>\n",
       "      <th>61165</th>\n",
       "      <td>jandk chenab rail bridge stand quakes blasts r...</td>\n",
       "      <td>world highest bridge currently construction ch...</td>\n",
       "    </tr>\n",
       "    <tr>\n",
       "      <th>74884</th>\n",
       "      <td>tejashwi sits midnight dharna district admin</td>\n",
       "      <td>rjd leader tejashwi yadav sat midnight dharna ...</td>\n",
       "    </tr>\n",
       "    <tr>\n",
       "      <th>1994</th>\n",
       "      <td>kerala government conduct sabarimala shameful ...</td>\n",
       "      <td>hitting cpi led kerala government pm narendra ...</td>\n",
       "    </tr>\n",
       "    <tr>\n",
       "      <th>31610</th>\n",
       "      <td>doctor treats soldiers free says pay fee border</td>\n",
       "      <td>doctor ajay chaudhary son veteran army man tre...</td>\n",
       "    </tr>\n",
       "    <tr>\n",
       "      <th>28382</th>\n",
       "      <td>rohit hits ninety seven india beat ireland win...</td>\n",
       "      <td>rohit sharma slammed ninety seven runs sixty o...</td>\n",
       "    </tr>\n",
       "    <tr>\n",
       "      <th>21024</th>\n",
       "      <td>omar abdullah donate one month salary kerala f...</td>\n",
       "      <td>former jammu kashmir chief minister omar abdul...</td>\n",
       "    </tr>\n",
       "    <tr>\n",
       "      <th>85974</th>\n",
       "      <td>sixteen year old bengaluru girl get planet named</td>\n",
       "      <td>minor planet milky way galaxy would named sixt...</td>\n",
       "    </tr>\n",
       "    <tr>\n",
       "      <th>72965</th>\n",
       "      <td>rotis condoms recovered dera sacha sauda headq...</td>\n",
       "      <td>haryana police recovered bundles rotis condoms...</td>\n",
       "    </tr>\n",
       "    <tr>\n",
       "      <th>44266</th>\n",
       "      <td>woman kills mom opposing relation female teacher</td>\n",
       "      <td>eighteen year old woman allegedly killed mothe...</td>\n",
       "    </tr>\n",
       "    <tr>\n",
       "      <th>89225</th>\n",
       "      <td>topic redundant madhuri rumoured ex boyfriend ...</td>\n",
       "      <td>actress madhuri dixit said topic rumoured ex b...</td>\n",
       "    </tr>\n",
       "    <tr>\n",
       "      <th>27371</th>\n",
       "      <td>taka cm wife kin accused defaulting property tax</td>\n",
       "      <td>karnataka cm hd kumaraswamy wife five family m...</td>\n",
       "    </tr>\n",
       "    <tr>\n",
       "      <th>74161</th>\n",
       "      <td>congress demands prabhu resignation train dera...</td>\n",
       "      <td>congress monday demanded railway minister sure...</td>\n",
       "    </tr>\n",
       "    <tr>\n",
       "      <th>70374</th>\n",
       "      <td>ericsson india files insolvency case rcom</td>\n",
       "      <td>ericsson india filed insolvency case anil amba...</td>\n",
       "    </tr>\n",
       "    <tr>\n",
       "      <th>56020</th>\n",
       "      <td>amazon may invest digital lending platform cap...</td>\n",
       "      <td>commerce major amazon indian arm planning inve...</td>\n",
       "    </tr>\n",
       "    <tr>\n",
       "      <th>76708</th>\n",
       "      <td>isis luring women false sense empowerment report</td>\n",
       "      <td>islamic state luring foreign women recruits fa...</td>\n",
       "    </tr>\n",
       "    <tr>\n",
       "      <th>60017</th>\n",
       "      <td>every indian must given cell phone mohandas pai</td>\n",
       "      <td>talking productivity people former infosys cfo...</td>\n",
       "    </tr>\n",
       "    <tr>\n",
       "      <th>73832</th>\n",
       "      <td>kim jong un starting respect us donald trump</td>\n",
       "      <td>amid ongoing tensions us north korea latter nu...</td>\n",
       "    </tr>\n",
       "    <tr>\n",
       "      <th>97248</th>\n",
       "      <td>indian sisters run spa babies australia</td>\n",
       "      <td>indian sisters kavita kumar anita yap run spa ...</td>\n",
       "    </tr>\n",
       "    <tr>\n",
       "      <th>57135</th>\n",
       "      <td>pm modi taking india towards low carbon emissi...</td>\n",
       "      <td>prime minister narendra modi committed moving ...</td>\n",
       "    </tr>\n",
       "    <tr>\n",
       "      <th>496</th>\n",
       "      <td>priyanka gandhi bipolar disorder beats people ...</td>\n",
       "      <td>talking priyanka gandhi vadra entering active ...</td>\n",
       "    </tr>\n",
       "  </tbody>\n",
       "</table>\n",
       "</div>"
      ],
      "text/plain": [
       "                                               headlines  \\\n",
       "61165  jandk chenab rail bridge stand quakes blasts r...   \n",
       "74884       tejashwi sits midnight dharna district admin   \n",
       "1994   kerala government conduct sabarimala shameful ...   \n",
       "31610    doctor treats soldiers free says pay fee border   \n",
       "28382  rohit hits ninety seven india beat ireland win...   \n",
       "21024  omar abdullah donate one month salary kerala f...   \n",
       "85974   sixteen year old bengaluru girl get planet named   \n",
       "72965  rotis condoms recovered dera sacha sauda headq...   \n",
       "44266   woman kills mom opposing relation female teacher   \n",
       "89225  topic redundant madhuri rumoured ex boyfriend ...   \n",
       "27371   taka cm wife kin accused defaulting property tax   \n",
       "74161  congress demands prabhu resignation train dera...   \n",
       "70374          ericsson india files insolvency case rcom   \n",
       "56020  amazon may invest digital lending platform cap...   \n",
       "76708   isis luring women false sense empowerment report   \n",
       "60017    every indian must given cell phone mohandas pai   \n",
       "73832       kim jong un starting respect us donald trump   \n",
       "97248            indian sisters run spa babies australia   \n",
       "57135  pm modi taking india towards low carbon emissi...   \n",
       "496    priyanka gandhi bipolar disorder beats people ...   \n",
       "\n",
       "                                                    text  \n",
       "61165  world highest bridge currently construction ch...  \n",
       "74884  rjd leader tejashwi yadav sat midnight dharna ...  \n",
       "1994   hitting cpi led kerala government pm narendra ...  \n",
       "31610  doctor ajay chaudhary son veteran army man tre...  \n",
       "28382  rohit sharma slammed ninety seven runs sixty o...  \n",
       "21024  former jammu kashmir chief minister omar abdul...  \n",
       "85974  minor planet milky way galaxy would named sixt...  \n",
       "72965  haryana police recovered bundles rotis condoms...  \n",
       "44266  eighteen year old woman allegedly killed mothe...  \n",
       "89225  actress madhuri dixit said topic rumoured ex b...  \n",
       "27371  karnataka cm hd kumaraswamy wife five family m...  \n",
       "74161  congress monday demanded railway minister sure...  \n",
       "70374  ericsson india filed insolvency case anil amba...  \n",
       "56020  commerce major amazon indian arm planning inve...  \n",
       "76708  islamic state luring foreign women recruits fa...  \n",
       "60017  talking productivity people former infosys cfo...  \n",
       "73832  amid ongoing tensions us north korea latter nu...  \n",
       "97248  indian sisters kavita kumar anita yap run spa ...  \n",
       "57135  prime minister narendra modi committed moving ...  \n",
       "496    talking priyanka gandhi vadra entering active ...  "
      ]
     },
     "execution_count": 11,
     "metadata": {},
     "output_type": "execute_result"
    }
   ],
   "source": [
    "# load preprocessed amazon review dataset from directory\n",
    "data = pd.read_csv(os.getenv(\"HOME\")+\"/aiffel/news_summarization/data/preprocessed_news.csv\", nrows=100000)\n",
    "print('전체 샘플수 :', (len(data)))\n",
    "data.sample(20)"
   ]
  },
  {
   "cell_type": "markdown",
   "id": "465eb35c",
   "metadata": {},
   "source": [
    "### 데이터 전처리"
   ]
  },
  {
   "cell_type": "markdown",
   "id": "08a55b8e",
   "metadata": {},
   "source": [
    "##### 1) train / test split"
   ]
  },
  {
   "cell_type": "code",
   "execution_count": 12,
   "id": "ea1bc676",
   "metadata": {},
   "outputs": [
    {
     "name": "stdout",
     "output_type": "stream",
     "text": [
      "텍스트의 최소 길이 : 1\n",
      "텍스트의 최대 길이 : 95\n",
      "텍스트의 평균 길이 : 38.582035380235865\n",
      "요약문의 최소 길이 : 1\n",
      "요약문의 최대 길이 : 23\n",
      "요약문의 평균 길이 : 7.899339162261081\n"
     ]
    },
    {
     "data": {
      "image/png": "[encoded data removed]",
      "text/plain": [
       "<Figure size 432x288 with 2 Axes>"
      ]
     },
     "metadata": {
      "needs_background": "light"
     },
     "output_type": "display_data"
    },
    {
     "data": {
      "image/png": "[encoded data removed]",
      "text/plain": [
       "<Figure size 432x288 with 1 Axes>"
      ]
     },
     "metadata": {
      "needs_background": "light"
     },
     "output_type": "display_data"
    },
    {
     "data": {
      "image/png": "[encoded data removed]",
      "text/plain": [
       "<Figure size 432x288 with 1 Axes>"
      ]
     },
     "metadata": {
      "needs_background": "light"
     },
     "output_type": "display_data"
    }
   ],
   "source": [
    "# 샘플의 텍스트/요약문 길이 분포 출력\n",
    "import matplotlib.pyplot as plt\n",
    "\n",
    "text_len = [len(s.split()) for s in data['text']]\n",
    "summary_len = [len(s.split()) for s in data['headlines']]\n",
    "\n",
    "print('텍스트의 최소 길이 : {}'.format(np.min(text_len)))\n",
    "print('텍스트의 최대 길이 : {}'.format(np.max(text_len)))\n",
    "print('텍스트의 평균 길이 : {}'.format(np.mean(text_len)))\n",
    "print('요약문의 최소 길이 : {}'.format(np.min(summary_len)))\n",
    "print('요약문의 최대 길이 : {}'.format(np.max(summary_len)))\n",
    "print('요약문의 평균 길이 : {}'.format(np.mean(summary_len)))\n",
    "\n",
    "plt.subplot(1,2,1)\n",
    "plt.boxplot(text_len)\n",
    "plt.title('text')\n",
    "plt.subplot(1,2,2)\n",
    "plt.boxplot(summary_len)\n",
    "plt.title('headlines')\n",
    "plt.tight_layout()\n",
    "plt.show()\n",
    "\n",
    "plt.title('text')\n",
    "plt.hist(text_len, bins = 40)\n",
    "plt.xlabel('length of samples')\n",
    "plt.ylabel('number of samples')\n",
    "plt.show()\n",
    "\n",
    "plt.title('headlines')\n",
    "plt.hist(summary_len, bins = 40)\n",
    "plt.xlabel('length of samples')\n",
    "plt.ylabel('number of samples')\n",
    "plt.show()"
   ]
  },
  {
   "cell_type": "code",
   "execution_count": 13,
   "id": "a2a484fa",
   "metadata": {},
   "outputs": [
    {
     "name": "stdout",
     "output_type": "stream",
     "text": [
      "50\n",
      "11\n"
     ]
    }
   ],
   "source": [
    "# mean + 2*std를 텍스트 길이의 상한선으로 설정 -> 손실되는 text 5% 미만\n",
    "text_max_len = int(np.mean(text_len) + 2 * np.std(text_len))\n",
    "print(text_max_len)\n",
    "\n",
    "summary_max_len = int(np.mean(summary_len) + 2 * np.std(summary_len))\n",
    "print(summary_max_len)"
   ]
  },
  {
   "cell_type": "code",
   "execution_count": 14,
   "id": "f401779a",
   "metadata": {},
   "outputs": [],
   "source": [
    "def below_threshold_len(max_len, nested_list):\n",
    "  cnt = 0\n",
    "  for s in nested_list:\n",
    "    if(len(s.split()) <= max_len):\n",
    "        cnt = cnt + 1\n",
    "  print('전체 샘플 중 길이가 %s 이하인 샘플의 비율: %s'%(max_len, (cnt / len(nested_list))))"
   ]
  },
  {
   "cell_type": "code",
   "execution_count": 15,
   "id": "6424ed94",
   "metadata": {},
   "outputs": [
    {
     "name": "stdout",
     "output_type": "stream",
     "text": [
      "전체 샘플 중 길이가 50 이하인 샘플의 비율: 0.9583367222448149\n",
      "전체 샘플 중 길이가 11 이하인 샘플의 비율: 0.9613359089060594\n"
     ]
    }
   ],
   "source": [
    "below_threshold_len(text_max_len, data['text'])\n",
    "below_threshold_len(summary_max_len,  data['headlines'])"
   ]
  },
  {
   "cell_type": "code",
   "execution_count": 16,
   "id": "1ed5a155",
   "metadata": {},
   "outputs": [
    {
     "name": "stdout",
     "output_type": "stream",
     "text": [
      "전체 샘플수 : 91643\n"
     ]
    }
   ],
   "source": [
    "data = data[(data[\"text\"].apply(lambda x: len(x.split()) <= text_max_len)) & \n",
    "(data[\"headlines\"].apply(lambda x: len(x.split()) <= summary_max_len))]\n",
    "\n",
    "print('전체 샘플수 :', (len(data)))"
   ]
  },
  {
   "cell_type": "code",
   "execution_count": 17,
   "id": "c00e034c",
   "metadata": {},
   "outputs": [
    {
     "data": {
      "text/html": [
       "<div>\n",
       "<style scoped>\n",
       "    .dataframe tbody tr th:only-of-type {\n",
       "        vertical-align: middle;\n",
       "    }\n",
       "\n",
       "    .dataframe tbody tr th {\n",
       "        vertical-align: top;\n",
       "    }\n",
       "\n",
       "    .dataframe thead th {\n",
       "        text-align: right;\n",
       "    }\n",
       "</style>\n",
       "<table border=\"1\" class=\"dataframe\">\n",
       "  <thead>\n",
       "    <tr style=\"text-align: right;\">\n",
       "      <th></th>\n",
       "      <th>headlines</th>\n",
       "      <th>text</th>\n",
       "      <th>decoder_input</th>\n",
       "      <th>decoder_target</th>\n",
       "    </tr>\n",
       "  </thead>\n",
       "  <tbody>\n",
       "    <tr>\n",
       "      <th>0</th>\n",
       "      <td>upgrad learner switches career ml al ninety pe...</td>\n",
       "      <td>saurav kant alumnus upgrad iit pg program mach...</td>\n",
       "      <td>sostoken upgrad learner switches career ml al ...</td>\n",
       "      <td>upgrad learner switches career ml al ninety pe...</td>\n",
       "    </tr>\n",
       "    <tr>\n",
       "      <th>1</th>\n",
       "      <td>delhi techie wins free food swiggy one year cred</td>\n",
       "      <td>kunal shah credit card bill payment platform c...</td>\n",
       "      <td>sostoken delhi techie wins free food swiggy on...</td>\n",
       "      <td>delhi techie wins free food swiggy one year cr...</td>\n",
       "    </tr>\n",
       "    <tr>\n",
       "      <th>2</th>\n",
       "      <td>new zealand end rohit sharma led india twelve ...</td>\n",
       "      <td>new zealand defeated india eight wickets fourt...</td>\n",
       "      <td>sostoken new zealand end rohit sharma led indi...</td>\n",
       "      <td>new zealand end rohit sharma led india twelve ...</td>\n",
       "    </tr>\n",
       "    <tr>\n",
       "      <th>3</th>\n",
       "      <td>aegon life iterm insurance plan helps customer...</td>\n",
       "      <td>aegon life iterm insurance plan customers enjo...</td>\n",
       "      <td>sostoken aegon life iterm insurance plan helps...</td>\n",
       "      <td>aegon life iterm insurance plan helps customer...</td>\n",
       "    </tr>\n",
       "    <tr>\n",
       "      <th>4</th>\n",
       "      <td>known hirani yrs metoo claims true sonam</td>\n",
       "      <td>speaking sexual harassment allegations rajkuma...</td>\n",
       "      <td>sostoken known hirani yrs metoo claims true sonam</td>\n",
       "      <td>known hirani yrs metoo claims true sonam eostoken</td>\n",
       "    </tr>\n",
       "  </tbody>\n",
       "</table>\n",
       "</div>"
      ],
      "text/plain": [
       "                                           headlines  \\\n",
       "0  upgrad learner switches career ml al ninety pe...   \n",
       "1   delhi techie wins free food swiggy one year cred   \n",
       "2  new zealand end rohit sharma led india twelve ...   \n",
       "3  aegon life iterm insurance plan helps customer...   \n",
       "4           known hirani yrs metoo claims true sonam   \n",
       "\n",
       "                                                text  \\\n",
       "0  saurav kant alumnus upgrad iit pg program mach...   \n",
       "1  kunal shah credit card bill payment platform c...   \n",
       "2  new zealand defeated india eight wickets fourt...   \n",
       "3  aegon life iterm insurance plan customers enjo...   \n",
       "4  speaking sexual harassment allegations rajkuma...   \n",
       "\n",
       "                                       decoder_input  \\\n",
       "0  sostoken upgrad learner switches career ml al ...   \n",
       "1  sostoken delhi techie wins free food swiggy on...   \n",
       "2  sostoken new zealand end rohit sharma led indi...   \n",
       "3  sostoken aegon life iterm insurance plan helps...   \n",
       "4  sostoken known hirani yrs metoo claims true sonam   \n",
       "\n",
       "                                      decoder_target  \n",
       "0  upgrad learner switches career ml al ninety pe...  \n",
       "1  delhi techie wins free food swiggy one year cr...  \n",
       "2  new zealand end rohit sharma led india twelve ...  \n",
       "3  aegon life iterm insurance plan helps customer...  \n",
       "4  known hirani yrs metoo claims true sonam eostoken  "
      ]
     },
     "execution_count": 17,
     "metadata": {},
     "output_type": "execute_result"
    }
   ],
   "source": [
    "# 요약 데이터에는 시작 토큰과 종료 토큰을 추가한다.\n",
    "data['decoder_input'] = data['headlines'].apply(lambda x : 'sostoken '+ x)\n",
    "data['decoder_target'] = data['headlines'].apply(lambda x : x + ' eostoken')\n",
    "data.head()"
   ]
  },
  {
   "cell_type": "code",
   "execution_count": 18,
   "id": "01bd05b8",
   "metadata": {},
   "outputs": [],
   "source": [
    "# numpy array로 저장\n",
    "encoder_input = np.array(data['text']) \n",
    "decoder_input = np.array(data['decoder_input']) \n",
    "decoder_target = np.array(data['decoder_target']) "
   ]
  },
  {
   "cell_type": "code",
   "execution_count": 19,
   "id": "dad54de8",
   "metadata": {},
   "outputs": [],
   "source": [
    "en_x_train, en_x_test, de_x_train, de_x_test, de_y_train, de_y_test = train_test_split(\n",
    "    encoder_input, decoder_input, decoder_target, test_size=0.2)"
   ]
  },
  {
   "cell_type": "code",
   "execution_count": 20,
   "id": "fd574674",
   "metadata": {},
   "outputs": [
    {
     "name": "stdout",
     "output_type": "stream",
     "text": [
      "훈련 데이터의 개수 : 73314\n",
      "훈련 레이블의 개수 : 73314\n",
      "테스트 데이터의 개수 : 18329\n",
      "테스트 레이블의 개수 : 18329\n"
     ]
    }
   ],
   "source": [
    "print('훈련 데이터의 개수 :', len(en_x_train))\n",
    "print('훈련 레이블의 개수 :', len(de_x_train))\n",
    "print('테스트 데이터의 개수 :', len(en_x_test))\n",
    "print('테스트 레이블의 개수 :', len(de_x_test))"
   ]
  },
  {
   "cell_type": "markdown",
   "id": "363e70d1",
   "metadata": {},
   "source": [
    "##### 2) 정수 인코딩"
   ]
  },
  {
   "cell_type": "code",
   "execution_count": 21,
   "id": "f3f24b81",
   "metadata": {},
   "outputs": [],
   "source": [
    "src_tokenizer = Tokenizer()\n",
    "src_tokenizer.fit_on_texts(en_x_train)"
   ]
  },
  {
   "cell_type": "code",
   "execution_count": 22,
   "id": "316674fe",
   "metadata": {},
   "outputs": [
    {
     "name": "stdout",
     "output_type": "stream",
     "text": [
      "단어 집합(vocabulary)의 크기 : 68349\n",
      "등장 빈도가 8번 이하인 희귀 단어의 수: 49484\n",
      "단어 집합에서 희귀 단어를 제외시킬 경우의 단어 집합의 크기 18865\n",
      "단어 집합에서 희귀 단어의 비율: 72.39901095846318\n",
      "전체 등장 빈도에서 희귀 단어 등장 빈도 비율: 4.153898375743118\n"
     ]
    }
   ],
   "source": [
    "threshold = 9\n",
    "total_cnt = len(src_tokenizer.word_index) # 단어의 수\n",
    "rare_cnt = 0 # 등장 빈도수가 threshold보다 작은 단어의 개수를 카운트\n",
    "total_freq = 0 # 훈련 데이터의 전체 단어 빈도수 총 합\n",
    "rare_freq = 0 # 등장 빈도수가 threshold보다 작은 단어의 등장 빈도수의 총 합\n",
    "\n",
    "# 단어와 빈도수의 쌍(pair)을 key와 value로 받는다.\n",
    "for key, value in src_tokenizer.word_counts.items():\n",
    "    total_freq = total_freq + value\n",
    "\n",
    "    # 단어의 등장 빈도수가 threshold보다 작으면\n",
    "    if(value < threshold):\n",
    "        rare_cnt = rare_cnt + 1\n",
    "        rare_freq = rare_freq + value\n",
    "\n",
    "print('단어 집합(vocabulary)의 크기 :', total_cnt)\n",
    "print('등장 빈도가 %s번 이하인 희귀 단어의 수: %s'%(threshold - 1, rare_cnt))\n",
    "print('단어 집합에서 희귀 단어를 제외시킬 경우의 단어 집합의 크기 %s'%(total_cnt - rare_cnt))\n",
    "print(\"단어 집합에서 희귀 단어의 비율:\", (rare_cnt / total_cnt)*100)\n",
    "print(\"전체 등장 빈도에서 희귀 단어 등장 빈도 비율:\", (rare_freq / total_freq)*100)"
   ]
  },
  {
   "cell_type": "code",
   "execution_count": 23,
   "id": "e092309b",
   "metadata": {},
   "outputs": [],
   "source": [
    "src_vocab = 20000\n",
    "src_tokenizer = Tokenizer(num_words=src_vocab) # 단어 집합의 크기를 20000으로 제한\n",
    "src_tokenizer.fit_on_texts(en_x_train) # 단어 집합 재생성"
   ]
  },
  {
   "cell_type": "code",
   "execution_count": 24,
   "id": "9022e923",
   "metadata": {},
   "outputs": [
    {
     "name": "stdout",
     "output_type": "stream",
     "text": [
      "[[146, 4737, 2785, 1694, 550, 345, 2939, 4041, 18866, 5973, 3468, 5661, 3081, 2206, 3769, 9719, 227, 146, 1, 861, 17, 2401, 345, 3082, 6, 233, 394, 3380, 345, 366, 1386, 315, 3065], [459, 63, 1003, 618, 83, 962, 164, 9, 22, 114, 1632, 13822, 12138, 504, 4560, 12882, 9720, 2, 3, 81, 511, 962, 5722, 2621, 15, 10, 962, 1085, 59, 164, 22, 12138, 326, 2004, 1003, 363, 102, 962, 2621, 1166, 34, 259, 114], [592, 2468, 628, 6117, 855, 7, 523, 23, 15490, 149, 6567, 855, 7, 167, 1011, 18867, 15491, 32, 3794, 2031, 1939, 1853, 855, 10145, 328, 4, 3, 48, 177, 67, 602, 10145, 42, 25, 35, 116, 177, 465, 434]]\n"
     ]
    }
   ],
   "source": [
    "# 텍스트 시퀀스를 정수 시퀀스로 변환\n",
    "en_x_train = src_tokenizer.texts_to_sequences(en_x_train) \n",
    "en_x_test = src_tokenizer.texts_to_sequences(en_x_test)\n",
    "\n",
    "# 잘 진행되었는지 샘플 출력\n",
    "print(en_x_train[:3])"
   ]
  },
  {
   "cell_type": "code",
   "execution_count": 25,
   "id": "aaefad04",
   "metadata": {},
   "outputs": [],
   "source": [
    "tar_tokenizer = Tokenizer()\n",
    "tar_tokenizer.fit_on_texts(de_x_train)"
   ]
  },
  {
   "cell_type": "code",
   "execution_count": 26,
   "id": "a2a4da72",
   "metadata": {},
   "outputs": [
    {
     "name": "stdout",
     "output_type": "stream",
     "text": [
      "단어 집합(vocabulary)의 크기 : 29788\n",
      "등장 빈도가 5번 이하인 희귀 단어의 수: 19658\n",
      "단어 집합에서 희귀 단어를 제외시킬 경우의 단어 집합의 크기 10130\n",
      "단어 집합에서 희귀 단어의 비율: 65.9930173224117\n",
      "전체 등장 빈도에서 희귀 단어 등장 빈도 비율: 5.898631439428523\n"
     ]
    }
   ],
   "source": [
    "threshold = 6\n",
    "total_cnt = len(tar_tokenizer.word_index) # 단어의 수\n",
    "rare_cnt = 0 # 등장 빈도수가 threshold보다 작은 단어의 개수를 카운트\n",
    "total_freq = 0 # 훈련 데이터의 전체 단어 빈도수 총 합\n",
    "rare_freq = 0 # 등장 빈도수가 threshold보다 작은 단어의 등장 빈도수의 총 합\n",
    "\n",
    "# 단어와 빈도수의 쌍(pair)을 key와 value로 받는다.\n",
    "for key, value in tar_tokenizer.word_counts.items():\n",
    "    total_freq = total_freq + value\n",
    "\n",
    "    # 단어의 등장 빈도수가 threshold보다 작으면\n",
    "    if(value < threshold):\n",
    "        rare_cnt = rare_cnt + 1\n",
    "        rare_freq = rare_freq + value\n",
    "\n",
    "print('단어 집합(vocabulary)의 크기 :', total_cnt)\n",
    "print('등장 빈도가 %s번 이하인 희귀 단어의 수: %s'%(threshold - 1, rare_cnt))\n",
    "print('단어 집합에서 희귀 단어를 제외시킬 경우의 단어 집합의 크기 %s'%(total_cnt - rare_cnt))\n",
    "print(\"단어 집합에서 희귀 단어의 비율:\", (rare_cnt / total_cnt)*100)\n",
    "print(\"전체 등장 빈도에서 희귀 단어 등장 빈도 비율:\", (rare_freq / total_freq)*100)"
   ]
  },
  {
   "cell_type": "code",
   "execution_count": 27,
   "id": "b6b6aa97",
   "metadata": {},
   "outputs": [
    {
     "name": "stdout",
     "output_type": "stream",
     "text": [
      "decoder input:  [[1, 124, 294, 921, 4137, 4009], [1, 7422, 7423, 1184, 1600, 134, 531, 7424], [1, 2241, 3156, 779, 5, 7, 109, 855, 7927, 536, 26], [1, 18, 470, 84, 3014, 180], [1, 44, 69, 99, 565, 1518, 2045, 43]]\n",
      "decoder target:  [[124, 294, 921, 4137, 4009, 2], [7422, 7423, 1184, 1600, 134, 531, 7424, 2], [2241, 3156, 779, 5, 7, 109, 855, 7927, 536, 26, 2], [18, 470, 84, 3014, 180, 2], [44, 69, 99, 565, 1518, 2045, 43, 2]]\n"
     ]
    }
   ],
   "source": [
    "tar_vocab = 10000\n",
    "tar_tokenizer = Tokenizer(num_words=tar_vocab) \n",
    "tar_tokenizer.fit_on_texts(de_x_train)\n",
    "tar_tokenizer.fit_on_texts(de_y_train)\n",
    "\n",
    "# 텍스트 시퀀스를 정수 시퀀스로 변환\n",
    "de_x_train = tar_tokenizer.texts_to_sequences(de_x_train) \n",
    "de_y_train = tar_tokenizer.texts_to_sequences(de_y_train)\n",
    "de_x_test = tar_tokenizer.texts_to_sequences(de_x_test)\n",
    "de_y_test = tar_tokenizer.texts_to_sequences(de_y_test)\n",
    "\n",
    "# 잘 변환되었는지 확인\n",
    "print('decoder input: ', de_x_train[:5])\n",
    "print('decoder target: ', de_y_train[:5])"
   ]
  },
  {
   "cell_type": "code",
   "execution_count": 28,
   "id": "5058bccc",
   "metadata": {},
   "outputs": [
    {
     "name": "stdout",
     "output_type": "stream",
     "text": [
      "삭제할 훈련 데이터의 개수 : 1\n",
      "삭제할 테스트 데이터의 개수 : 1\n",
      "훈련 데이터의 개수 : 73313\n",
      "훈련 레이블의 개수 : 73313\n",
      "테스트 데이터의 개수 : 18328\n",
      "테스트 레이블의 개수 : 18328\n"
     ]
    }
   ],
   "source": [
    "drop_train = [index for index, sentence in enumerate(de_x_train) if len(sentence) == 1]\n",
    "drop_test = [index for index, sentence in enumerate(de_x_test) if len(sentence) == 1]\n",
    "\n",
    "print('삭제할 훈련 데이터의 개수 :', len(drop_train))\n",
    "print('삭제할 테스트 데이터의 개수 :', len(drop_test))\n",
    "\n",
    "en_x_train = [sentence for index, sentence in enumerate(en_x_train) if index not in drop_train]\n",
    "de_x_train = [sentence for index, sentence in enumerate(de_x_train) if index not in drop_train]\n",
    "de_y_train = [sentence for index, sentence in enumerate(de_y_train) if index not in drop_train]\n",
    "\n",
    "en_x_test = [sentence for index, sentence in enumerate(en_x_test) if index not in drop_test]\n",
    "de_x_test = [sentence for index, sentence in enumerate(de_x_test) if index not in drop_test]\n",
    "de_y_test = [sentence for index, sentence in enumerate(de_y_test) if index not in drop_test]\n",
    "\n",
    "print('훈련 데이터의 개수 :', len(en_x_train))\n",
    "print('훈련 레이블의 개수 :', len(de_x_train))\n",
    "print('테스트 데이터의 개수 :', len(en_x_test))\n",
    "print('테스트 레이블의 개수 :', len(de_x_test))"
   ]
  },
  {
   "cell_type": "code",
   "execution_count": 29,
   "id": "23a4358a",
   "metadata": {},
   "outputs": [],
   "source": [
    "en_x_train = pad_sequences(en_x_train, maxlen=text_max_len, padding='post')\n",
    "en_x_test = pad_sequences(en_x_test, maxlen=text_max_len, padding='post')\n",
    "de_x_train = pad_sequences(de_x_train, maxlen=summary_max_len, padding='post')\n",
    "de_x_test = pad_sequences(de_x_test, maxlen=summary_max_len, padding='post')\n",
    "de_y_train = pad_sequences(de_y_train, maxlen=summary_max_len, padding='post')\n",
    "de_y_test = pad_sequences(de_y_test, maxlen=summary_max_len, padding='post')"
   ]
  },
  {
   "cell_type": "markdown",
   "id": "31129786",
   "metadata": {},
   "source": [
    "### 모델 설계"
   ]
  },
  {
   "cell_type": "code",
   "execution_count": 67,
   "id": "fcdb38a5",
   "metadata": {},
   "outputs": [],
   "source": [
    "from tensorflow.keras.layers import Input, LSTM, Embedding, Dense, Concatenate, TimeDistributed\n",
    "from tensorflow.keras.models import Model\n",
    "from tensorflow.keras.callbacks import EarlyStopping, ModelCheckpoint"
   ]
  },
  {
   "cell_type": "markdown",
   "id": "e2e4582e",
   "metadata": {},
   "source": [
    "##### Encoder"
   ]
  },
  {
   "cell_type": "code",
   "execution_count": 68,
   "id": "b27660d8",
   "metadata": {},
   "outputs": [],
   "source": [
    "embedding_dim = 256\n",
    "hidden_size = 512\n",
    "\n",
    "# 인코더 input\n",
    "encoder_inputs = Input(shape=(text_max_len,))\n",
    "\n",
    "# 인코더의 임베딩 층\n",
    "enc_emb = Embedding(src_vocab, embedding_dim)(encoder_inputs)\n",
    "\n",
    "# 인코더의 LSTM 1\n",
    "# encoder_lstm1 = LSTM(hidden_size, return_sequences=True, return_state=True ,dropout = 0.4, recurrent_dropout = 0.4)\n",
    "encoder_lstm1 = LSTM(hidden_size, return_sequences=True, return_state=True ,dropout = 0.4)\n",
    "encoder_output1, state_h1, state_c1 = encoder_lstm1(enc_emb)\n",
    "\n",
    "# 인코더의 LSTM 2\n",
    "encoder_lstm2 = LSTM(hidden_size, return_sequences=True, return_state=True ,dropout = 0.4)\n",
    "encoder_output2, state_h2, state_c2 = encoder_lstm2(encoder_output1)\n",
    "\n",
    "# 인코더의 LSTM 3\n",
    "encoder_lstm3 = LSTM(hidden_size, return_sequences=True, return_state=True ,dropout = 0.4)\n",
    "encoder_output3, state_h3, state_c3 = encoder_lstm3(encoder_output2)"
   ]
  },
  {
   "cell_type": "markdown",
   "id": "d9e0f0b0",
   "metadata": {},
   "source": [
    "##### Decoder"
   ]
  },
  {
   "cell_type": "code",
   "execution_count": 69,
   "id": "9d7a74e6",
   "metadata": {},
   "outputs": [],
   "source": [
    "# 디코더 설계\n",
    "decoder_inputs = Input(shape=(None,))\n",
    "\n",
    "# 디코더의 임베딩 층\n",
    "dec_emb_layer = Embedding(tar_vocab, embedding_dim)\n",
    "dec_emb = dec_emb_layer(decoder_inputs)\n",
    "\n",
    "# 디코더의 LSTM\n",
    "# decoder_lstm = LSTM(hidden_size, return_sequences=True, return_state=True, dropout=0.4, recurrent_dropout=0.2)\n",
    "decoder_lstm = LSTM(hidden_size, return_sequences=True, return_state=True, dropout=0.4)\n",
    "decoder_outputs, _, _ = decoder_lstm(dec_emb, initial_state=[state_h3, state_c3])"
   ]
  },
  {
   "cell_type": "code",
   "execution_count": 70,
   "id": "736da377",
   "metadata": {},
   "outputs": [
    {
     "name": "stdout",
     "output_type": "stream",
     "text": [
      "Model: \"model_8\"\n",
      "__________________________________________________________________________________________________\n",
      "Layer (type)                    Output Shape         Param #     Connected to                     \n",
      "==================================================================================================\n",
      "input_11 (InputLayer)           [(None, 50)]         0                                            \n",
      "__________________________________________________________________________________________________\n",
      "embedding_4 (Embedding)         (None, 50, 256)      5120000     input_11[0][0]                   \n",
      "__________________________________________________________________________________________________\n",
      "lstm_8 (LSTM)                   [(None, 50, 512), (N 1574912     embedding_4[0][0]                \n",
      "__________________________________________________________________________________________________\n",
      "input_12 (InputLayer)           [(None, None)]       0                                            \n",
      "__________________________________________________________________________________________________\n",
      "lstm_9 (LSTM)                   [(None, 50, 512), (N 2099200     lstm_8[0][0]                     \n",
      "__________________________________________________________________________________________________\n",
      "embedding_5 (Embedding)         (None, None, 256)    2560000     input_12[0][0]                   \n",
      "__________________________________________________________________________________________________\n",
      "lstm_10 (LSTM)                  [(None, 50, 512), (N 2099200     lstm_9[0][0]                     \n",
      "__________________________________________________________________________________________________\n",
      "lstm_11 (LSTM)                  [(None, None, 512),  1574912     embedding_5[0][0]                \n",
      "                                                                 lstm_10[0][1]                    \n",
      "                                                                 lstm_10[0][2]                    \n",
      "__________________________________________________________________________________________________\n",
      "dense_4 (Dense)                 (None, None, 10000)  5130000     lstm_11[0][0]                    \n",
      "==================================================================================================\n",
      "Total params: 20,158,224\n",
      "Trainable params: 20,158,224\n",
      "Non-trainable params: 0\n",
      "__________________________________________________________________________________________________\n"
     ]
    }
   ],
   "source": [
    "# 디코더의 출력층\n",
    "decoder_softmax_layer = Dense(tar_vocab, activation='softmax')\n",
    "decoder_softmax_outputs = decoder_softmax_layer(decoder_outputs) \n",
    "\n",
    "# 모델 정의\n",
    "model = Model([encoder_inputs, decoder_inputs], decoder_softmax_outputs)\n",
    "model.summary()"
   ]
  },
  {
   "cell_type": "code",
   "execution_count": 71,
   "id": "253f964f",
   "metadata": {},
   "outputs": [
    {
     "name": "stdout",
     "output_type": "stream",
     "text": [
      "Model: \"model_9\"\n",
      "__________________________________________________________________________________________________\n",
      "Layer (type)                    Output Shape         Param #     Connected to                     \n",
      "==================================================================================================\n",
      "input_11 (InputLayer)           [(None, 50)]         0                                            \n",
      "__________________________________________________________________________________________________\n",
      "embedding_4 (Embedding)         (None, 50, 256)      5120000     input_11[0][0]                   \n",
      "__________________________________________________________________________________________________\n",
      "lstm_8 (LSTM)                   [(None, 50, 512), (N 1574912     embedding_4[0][0]                \n",
      "__________________________________________________________________________________________________\n",
      "input_12 (InputLayer)           [(None, None)]       0                                            \n",
      "__________________________________________________________________________________________________\n",
      "lstm_9 (LSTM)                   [(None, 50, 512), (N 2099200     lstm_8[0][0]                     \n",
      "__________________________________________________________________________________________________\n",
      "embedding_5 (Embedding)         (None, None, 256)    2560000     input_12[0][0]                   \n",
      "__________________________________________________________________________________________________\n",
      "lstm_10 (LSTM)                  [(None, 50, 512), (N 2099200     lstm_9[0][0]                     \n",
      "__________________________________________________________________________________________________\n",
      "lstm_11 (LSTM)                  [(None, None, 512),  1574912     embedding_5[0][0]                \n",
      "                                                                 lstm_10[0][1]                    \n",
      "                                                                 lstm_10[0][2]                    \n",
      "__________________________________________________________________________________________________\n",
      "attention_layer (AdditiveAttent (None, None, 512)    512         lstm_11[0][0]                    \n",
      "                                                                 lstm_10[0][0]                    \n",
      "__________________________________________________________________________________________________\n",
      "concat_layer (Concatenate)      (None, None, 1024)   0           lstm_11[0][0]                    \n",
      "                                                                 attention_layer[0][0]            \n",
      "__________________________________________________________________________________________________\n",
      "dense_5 (Dense)                 (None, None, 10000)  10250000    concat_layer[0][0]               \n",
      "==================================================================================================\n",
      "Total params: 25,278,736\n",
      "Trainable params: 25,278,736\n",
      "Non-trainable params: 0\n",
      "__________________________________________________________________________________________________\n"
     ]
    }
   ],
   "source": [
    "from tensorflow.keras.layers import AdditiveAttention\n",
    "\n",
    "# 어텐션 층(어텐션 함수)\n",
    "attn_layer = AdditiveAttention(name='attention_layer')\n",
    "\n",
    "# 인코더와 디코더의 모든 time step의 hidden state를 어텐션 층에 전달하고 결과를 리턴\n",
    "attn_out = attn_layer([decoder_outputs, encoder_output3])\n",
    "\n",
    "# 어텐션의 결과와 디코더의 hidden state들을 연결\n",
    "decoder_concat_input = Concatenate(axis=-1, name='concat_layer')([decoder_outputs, attn_out])\n",
    "\n",
    "# 디코더의 출력층\n",
    "decoder_softmax_layer = Dense(tar_vocab, activation='softmax')\n",
    "decoder_softmax_outputs = decoder_softmax_layer(decoder_concat_input)\n",
    "\n",
    "# 모델 정의\n",
    "model = Model([encoder_inputs, decoder_inputs], decoder_softmax_outputs)\n",
    "model.summary()"
   ]
  },
  {
   "cell_type": "markdown",
   "id": "f8a3c40e",
   "metadata": {},
   "source": [
    "### training & test"
   ]
  },
  {
   "cell_type": "markdown",
   "id": "196b71a9",
   "metadata": {},
   "source": [
    "##### training"
   ]
  },
  {
   "cell_type": "code",
   "execution_count": 72,
   "id": "a78df45d",
   "metadata": {},
   "outputs": [
    {
     "name": "stdout",
     "output_type": "stream",
     "text": [
      "Epoch 1/50\n",
      "144/144 [==============================] - 76s 495ms/step - loss: 5.6339 - val_loss: 5.2135\n",
      "Epoch 2/50\n",
      "144/144 [==============================] - 71s 492ms/step - loss: 5.2227 - val_loss: 5.0813\n",
      "Epoch 3/50\n",
      "144/144 [==============================] - 71s 495ms/step - loss: 5.0585 - val_loss: 4.9256\n",
      "Epoch 4/50\n",
      "144/144 [==============================] - 71s 496ms/step - loss: 4.8809 - val_loss: 4.8039\n",
      "Epoch 5/50\n",
      "144/144 [==============================] - 72s 498ms/step - loss: 4.6646 - val_loss: 4.5786\n",
      "Epoch 6/50\n",
      "144/144 [==============================] - 72s 498ms/step - loss: 4.4277 - val_loss: 4.4103\n",
      "Epoch 7/50\n",
      "144/144 [==============================] - 72s 498ms/step - loss: 4.2092 - val_loss: 4.2362\n",
      "Epoch 8/50\n",
      "144/144 [==============================] - 72s 498ms/step - loss: 3.9719 - val_loss: 4.0683\n",
      "Epoch 9/50\n",
      "144/144 [==============================] - 72s 499ms/step - loss: 3.7302 - val_loss: 3.9450\n",
      "Epoch 10/50\n",
      "144/144 [==============================] - 72s 499ms/step - loss: 3.5013 - val_loss: 3.8393\n",
      "Epoch 11/50\n",
      "144/144 [==============================] - 72s 499ms/step - loss: 3.2836 - val_loss: 3.7677\n",
      "Epoch 12/50\n",
      "144/144 [==============================] - 72s 499ms/step - loss: 3.0773 - val_loss: 3.7117\n",
      "Epoch 13/50\n",
      "144/144 [==============================] - 72s 498ms/step - loss: 2.8845 - val_loss: 3.6828\n",
      "Epoch 14/50\n",
      "144/144 [==============================] - 72s 498ms/step - loss: 2.7030 - val_loss: 3.6733\n",
      "Epoch 15/50\n",
      "144/144 [==============================] - 72s 498ms/step - loss: 2.5341 - val_loss: 3.6620\n",
      "Epoch 16/50\n",
      "144/144 [==============================] - 72s 498ms/step - loss: 2.3756 - val_loss: 3.6633\n",
      "Epoch 00016: early stopping\n"
     ]
    }
   ],
   "source": [
    "model.compile(optimizer='adam', loss='sparse_categorical_crossentropy')\n",
    "es = EarlyStopping(monitor='val_loss', patience=1, verbose=1)\n",
    "history = model.fit(x=[en_x_train, de_x_train], y=de_y_train, \\\n",
    "          validation_data=([en_x_test, de_x_test], de_y_test), \\\n",
    "          batch_size=512, callbacks=[es], epochs=50)"
   ]
  },
  {
   "cell_type": "code",
   "execution_count": 73,
   "id": "67aca575",
   "metadata": {},
   "outputs": [
    {
     "data": {
      "image/png": "[encoded data removed]",
      "text/plain": [
       "<Figure size 432x288 with 1 Axes>"
      ]
     },
     "metadata": {
      "needs_background": "light"
     },
     "output_type": "display_data"
    }
   ],
   "source": [
    "plt.plot(history.history['loss'], label='train')\n",
    "plt.plot(history.history['val_loss'], label='test')\n",
    "plt.legend()\n",
    "plt.show()"
   ]
  },
  {
   "cell_type": "markdown",
   "id": "744a6d7f",
   "metadata": {},
   "source": [
    "##### inference"
   ]
  },
  {
   "cell_type": "code",
   "execution_count": 74,
   "id": "a6332d45",
   "metadata": {},
   "outputs": [],
   "source": [
    "src_index_to_word = src_tokenizer.index_word # 원문 단어 집합에서 정수 -> 단어\n",
    "tar_word_to_index = tar_tokenizer.word_index # 요약 단어 집합에서 단어 -> 정수\n",
    "tar_index_to_word = tar_tokenizer.index_word # 요약 단어 집합에서 정수 -> 단어"
   ]
  },
  {
   "cell_type": "markdown",
   "id": "b2dda82d",
   "metadata": {},
   "source": [
    "inference model design"
   ]
  },
  {
   "cell_type": "code",
   "execution_count": 75,
   "id": "a918a603",
   "metadata": {},
   "outputs": [],
   "source": [
    "# 인코더 설계\n",
    "encoder_model = Model(inputs=encoder_inputs, outputs=[encoder_output3, state_h3, state_c3])\n",
    "\n",
    "# 이전 시점의 상태들을 저장하는 텐서\n",
    "decoder_state_input_h = Input(shape=(hidden_size,))\n",
    "decoder_state_input_c = Input(shape=(hidden_size,))\n",
    "\n",
    "dec_emb2 = dec_emb_layer(decoder_inputs)\n",
    "\n",
    "# 문장의 다음 단어를 예측하기 위해서 초기 상태(initial_state)를 이전 시점의 상태로 사용. 이는 뒤의 함수 decode_sequence()에 구현\n",
    "# 훈련 과정에서와 달리 LSTM의 리턴하는 은닉 상태와 셀 상태인 state_h와 state_c를 버리지 않음.\n",
    "decoder_outputs2, state_h2, state_c2 = decoder_lstm(dec_emb2, initial_state=[decoder_state_input_h, decoder_state_input_c])"
   ]
  },
  {
   "cell_type": "code",
   "execution_count": 76,
   "id": "4382bf0b",
   "metadata": {},
   "outputs": [],
   "source": [
    "# 어텐션 함수\n",
    "decoder_hidden_state_input = Input(shape=(text_max_len, hidden_size))\n",
    "attn_out_inf = attn_layer([decoder_outputs2, decoder_hidden_state_input])\n",
    "decoder_inf_concat = Concatenate(axis=-1, name='concat')([decoder_outputs2, attn_out_inf])\n",
    "\n",
    "# 디코더의 출력층\n",
    "decoder_outputs2 = decoder_softmax_layer(decoder_inf_concat) \n",
    "\n",
    "# 최종 디코더 모델\n",
    "decoder_model = Model(\n",
    "    [decoder_inputs] + [decoder_hidden_state_input,decoder_state_input_h, decoder_state_input_c],\n",
    "    [decoder_outputs2] + [state_h2, state_c2])"
   ]
  },
  {
   "cell_type": "code",
   "execution_count": 77,
   "id": "293c720d",
   "metadata": {},
   "outputs": [],
   "source": [
    "def decode_sequence(input_seq):\n",
    "    # 입력으로부터 인코더의 상태를 얻음\n",
    "    e_out, e_h, e_c = encoder_model.predict(input_seq)\n",
    "\n",
    "     # <SOS>에 해당하는 토큰 생성\n",
    "    target_seq = np.zeros((1,1))\n",
    "    target_seq[0, 0] = tar_word_to_index['sostoken']\n",
    "\n",
    "    stop_condition = False\n",
    "    decoded_sentence = ''\n",
    "    while not stop_condition: # stop_condition이 True가 될 때까지 루프 반복\n",
    "\n",
    "        output_tokens, h, c = decoder_model.predict([target_seq] + [e_out, e_h, e_c])\n",
    "        sampled_token_index = np.argmax(output_tokens[0, -1, :])\n",
    "        sampled_token = tar_index_to_word[sampled_token_index]\n",
    "\n",
    "        if (sampled_token!='eostoken'):\n",
    "            decoded_sentence += ' '+sampled_token\n",
    "\n",
    "        #  <eos>에 도달하거나 최대 길이를 넘으면 중단.\n",
    "        if (sampled_token == 'eostoken'  or len(decoded_sentence.split()) >= (summary_max_len-1)):\n",
    "            stop_condition = True\n",
    "\n",
    "        # 길이가 1인 타겟 시퀀스를 업데이트\n",
    "        target_seq = np.zeros((1,1))\n",
    "        target_seq[0, 0] = sampled_token_index\n",
    "\n",
    "        # 상태를 업데이트 합니다.\n",
    "        e_h, e_c = h, c\n",
    "\n",
    "    return decoded_sentence"
   ]
  },
  {
   "cell_type": "code",
   "execution_count": 78,
   "id": "f73dd758",
   "metadata": {},
   "outputs": [],
   "source": [
    "# 원문의 정수 시퀀스를 텍스트 시퀀스로 변환\n",
    "def seq2text(input_seq):\n",
    "    temp=''\n",
    "    for i in input_seq:\n",
    "        if (i!=0):\n",
    "            temp = temp + src_index_to_word[i]+' '\n",
    "    return temp\n",
    "\n",
    "# 요약문의 정수 시퀀스를 텍스트 시퀀스로 변환\n",
    "def seq2summary(input_seq):\n",
    "    temp=''\n",
    "    for i in input_seq:\n",
    "        if (i!=0) and i!=tar_word_to_index['sostoken'] and i!=tar_word_to_index['eostoken']:\n",
    "            temp = temp + tar_index_to_word[i]+' '\n",
    "    return temp"
   ]
  },
  {
   "cell_type": "code",
   "execution_count": 79,
   "id": "c8cef09d",
   "metadata": {},
   "outputs": [
    {
     "name": "stdout",
     "output_type": "stream",
     "text": [
      "원문 : chinese bike sharing startup bike shut five months launching ninety percents one thousand two hundred bikes stolen startup reportedly incurred loss ninety five lakh period founder lei said startup bikes went missing failed install gps devices cycles \n",
      "실제 요약 : bike sharing startup shuts five months ninety percents bikes stolen \n",
      "예측 요약 :  china plans expand delivery service startup\n",
      "\n",
      "\n",
      "원문 : twenty eight year old man paid forty seat travelled alone plane greece england person booked seat one hundred sixty eight seater plane show airline crew allowed sit cockpit also played songs public address system used make announcements \n",
      "실제 요약 : man gets one hundred sixty eight plane forty ticket \n",
      "예측 요약 :  man hides gold seat gets hides flight\n",
      "\n",
      "\n",
      "원문 : commerce startup snapdeal reportedly received approval investors like ratan tata temasek blackrock foxconn sale larger rival flipkart however deal still final approval ontario teachers pension plan report said earlier week snapdeal board reportedly accepted flipkart revised takeover bid dollars nine hundred nine hundred fifty million \n",
      "실제 요약 : snapdeal investors ratan tata approve flipkart deal \n",
      "예측 요약 :  flipkart may invest dollars one bn flipkart buyout\n",
      "\n",
      "\n",
      "원문 : fourteen year old dog visits train station england owner almost daily given uniform virgin trains jake called dog owner neil said seems particularly fond virgin trains train operating company recently introduced new uniforms staff \n",
      "실제 요약 : dog hangs around uk station given uniform train firm \n",
      "예측 요약 :  mumbai police station lit stunts\n",
      "\n",
      "\n",
      "원문 : indian dairy cooperative amul sponsor new zealand cricket team upcoming champions trophy england black caps sport amul logo kits warm match india may twenty eight first game wear new jersey amul earlier sponsored netherlands two thousand eleven cricket world cup \n",
      "실제 요약 : amul sponsor new zealand cricket team champions trophy \n",
      "예측 요약 :  paes bhupathi bhupathi winning team owner\n",
      "\n",
      "\n",
      "원문 : actor naseeruddin shah asked comment anupam kher work chairman film television institute india said comment work hardly think twice go deliver lectures every added \n",
      "실제 요약 : ftii chairman kher institute naseeruddin \n",
      "예측 요약 :  never never get heroes irani\n",
      "\n",
      "\n",
      "원문 : rival aiadmk factions announced merger actor kamal haasan said gandhi cap saffron cap kashmir cap clown cap head enough want rise added haasan earlier slammed aiadmk called cm palaniswami resignation alleged corruption last week \n",
      "실제 요약 : clown cap head haasan aiadmk merger \n",
      "예측 요약 :  rajini join pm modi invite bjp\n",
      "\n",
      "\n",
      "원문 : indian army launched operation track least twelve jaish mohammed militants infiltrated kashmir valley nearly ten days ago three accomplices gunned attacked jammu kashmir police complex pulwama august twenty six remaining twelve across three south kashmir districts according reports \n",
      "실제 요약 : army launches hunt twelve mohammed militants \n",
      "예측 요약 :  army major major killed three militants jandk\n",
      "\n",
      "\n",
      "원문 : wednesday acquired job listing platform undisclosed amount marking eleventh startup acquisition date co founders sean vir kashyap quit company following acquisition continue operate separate entity founded two thousand seven sean kashyap raised total dollars ten million \n",
      "실제 요약 : buys job listing startup eleventh acquisition \n",
      "예측 요약 :  snapdeal co founder invests dollars one billion startup\n",
      "\n",
      "\n",
      "원문 : union minister ravi shankar prasad said artificial intelligence used governance improvement dismissing concerns technology may jobs added person date new technology may problem tuned new technology \n",
      "실제 요약 : ai used governance minister \n",
      "예측 요약 :  govt govt create jobs india\n",
      "\n",
      "\n",
      "원문 : man attacked knife airport thursday ysr congress chief ys jagan mohan reddy tweeted everyone worried safety safe reddy received cut arm called attack cowardly added god grace love concern blessings people andhra pradesh protect \n",
      "실제 요약 : safe ysr congress chief mohan knife attack \n",
      "예측 요약 :  man held threatening intolerance ex mp cm son\n",
      "\n",
      "\n",
      "원문 : japanese brand recently showcased jeans dubbed jeans seemingly resemble amazon fashion week tokyo following people tweeted made stupid joke accidentally clicked moments tab discovered jeans jeans cancelled even became thing \n",
      "실제 요약 : japanese brand trolled jeans \n",
      "예측 요약 :  company makes jeans stretch machine\n",
      "\n",
      "\n",
      "원문 : study dismissed possibility travelling one point space another according einstein theory quantum critically unstable said lead author roman collapse gravitational effects force extremely high added \n",
      "실제 요약 : travelling possible study suggests \n",
      "예측 요약 :  pluto quantum study\n",
      "\n",
      "\n",
      "원문 : centre wednesday approved projects construct national highways meghalaya mizoram cost six thousand seven hundred twenty one crore work four hundred three kilometre project begin financial year two thousand seventeen eighteen improve infrastructure meghalaya mizoram enhance connectivity inter state roads international borders read official statement \n",
      "실제 요약 : govt approves four hundred three km national highways meghalaya mizoram \n",
      "예측 요약 :  centre plans eighty five crore withdrawal three days\n",
      "\n",
      "\n",
      "원문 : us president donald trump refused endorse paris climate accord gseven summit saturday saying needed time decide trump previously called global warming hoax tweeted would make decision next week whether back agreement notably trump vowed withdraw agreement presidential campaign \n",
      "실제 요약 : trump delays decision paris climate \n",
      "예측 요약 :  trump calls nato summit nato\n",
      "\n",
      "\n",
      "원문 : video shows puducherry lieutenant governor kiran bedi aiadmk mla arguing stage government function argument reportedly broke criticised bedi puducherry administration speech mike turned however according bedi mike turned mla refused limit speech \n",
      "실제 요약 : puducherry kiran bedi mla argue stage govt function \n",
      "예측 요약 :  ex cm sheila dikshit takes oath mp\n",
      "\n",
      "\n",
      "원문 : nasa scientists using data recently ended twenty year cassini mission found evidence toxic hybrid ice cloud south pole saturn largest moon titan laboratory experiments determined ice cloud similar combination simple organic molecule hydrogen cyanide large ring shaped chemical \n",
      "실제 요약 : scientists find toxic ice saturn moon \n",
      "예측 요약 :  nasa finds saturn saturn rings\n",
      "\n",
      "\n",
      "원문 : father daughter discussing eight hour flight delay amongst kicked frontier airlines flight flight attendant said felt threatened however frontier airlines said pair hurled abuses crew members adding comments exhibited passengers prior departure inappropriate \n",
      "실제 요약 : father daughter kicked flight discussing eight hr delay \n",
      "예측 요약 :  flight attendant forced hijack flight attendant\n",
      "\n",
      "\n",
      "원문 : online travel platform makemytrip ceo deep kalra said time three four online travel companies survive market added two make money asked makemytrip widening losses despite surge revenue kalra said losses conscious part investment \n",
      "실제 요약 : three four online travel firms survive makemytrip ceo \n",
      "예측 요약 :  makemytrip ceo step\n",
      "\n",
      "\n",
      "원문 : addressing lok sabha debate confidence motion government congress president rahul gandhi thanked pm narendra modi bjp rss teaching meaning hinduism lord shiva rahul added hindustani someone love heart even person abuses lies assaults \n",
      "실제 요약 : thank bjp pm modi teaching hinduism rahul \n",
      "예측 요약 :  rahul gandhi calls pm modi amit shah\n",
      "\n",
      "\n",
      "원문 : study claims oneb visa programme economically beneficial us india combined countries rose dollars seventeen point three billion result visa programme researchers said oneb visa allows companies us employ skilled foreign workers thus criticised costing american workers jobs \n",
      "실제 요약 : oneb visa us india study \n",
      "예측 요약 :  microsoft oneb visa extension report\n",
      "\n",
      "\n",
      "원문 : press information bureau youtube channel unblocked thursday minutes international yoga day event led pm narendra modi ended channel blocked five days youtube updating partner agreements message video available country displayed videos posted channel government events \n",
      "실제 요약 : youtube channel pm modi yoga day event \n",
      "예측 요약 :  indian flag skiing accident\n",
      "\n",
      "\n",
      "원문 : french president emmanuel macron filed legal complaint photographer allegedly spotted property along wife brigitte macron macron sued photographer harassment invasion privacy press office said photographer detained police identity check followed macron motorcade twice \n",
      "실제 요약 : french prez sues photographer holiday \n"
     ]
    },
    {
     "name": "stdout",
     "output_type": "stream",
     "text": [
      "예측 요약 :  french prez wife calls kim kardashian\n",
      "\n",
      "\n",
      "원문 : video shows forty year old letting five metre long python wrap around head safety demonstration thailand explaining children snake around snake wants eat people lock quickly colleague heard saying \n",
      "실제 요약 : man lets five metre long python wrap around safety demo \n",
      "예측 요약 :  video man walks getting floor\n",
      "\n",
      "\n",
      "원문 : bengaluru based lifestyle brand reportedly raised dollars thirteen point one million funding round led mumbai based private equity firm gaja capital round also saw participation existing investors matrix partners founded two thousand ten sells designer shirts coffee shot glasses mouse pads posters among others \n",
      "실제 요약 : lifestyle brand raises dollars thirteen million funding \n",
      "예측 요약 :  bengaluru based startup raises dollars one point five million\n",
      "\n",
      "\n",
      "원문 : suresh raina made comeback team india year last month sang bollywood song ye mastani team hotel colombo bcci shared video raina singing song captioned seen field ever seen sing kishore kumar classic presenting singer \n",
      "실제 요약 : suresh raina sings ye team india \n",
      "예측 요약 :  raina sings mere hai hain song\n",
      "\n",
      "\n",
      "원문 : chinese woman crawled police car allegedly pretended sick stop police detaining husband husband taken police station alleged traffic offence got back feet lying vehicle hour request let go declined \n",
      "실제 요약 : wife crawls cop car stop police taking husband \n",
      "예측 요약 :  ola driver stabs woman employee\n",
      "\n",
      "\n",
      "원문 : president ram nath kovind saturday said india facing possible mental health adding technological economic demographic changes transforming nature diseases pointed five thousand less two thousand clinical country \n",
      "실제 요약 : india facing possible mental health prez kovind \n",
      "예측 요약 :  president kovind greets people leave\n",
      "\n",
      "\n",
      "원문 : recreated version song ne kiya kya titled ne kiya upcoming film one hundred two released music composer duo rohan recreated music new version vocals actor amitabh bachchan directed umesh shukla one hundred two scheduled release may four \n",
      "실제 요약 : big sings new version ne kya \n",
      "예측 요약 :  sexy song recreated recreated\n",
      "\n",
      "\n",
      "원문 : home minister rajnath singh sunday said india given strong message world country kill enemies indian soil also territory want maintain good relations neighbour stop mischief minister added \n",
      "실제 요약 : gave strong message india kill enemies rajnath \n",
      "예측 요약 :  rajnath singh calls rajnath singh\n",
      "\n",
      "\n",
      "원문 : afghan cricketers including wicketkeeper mohammad shahzad trolled bangladesh cricket team performing dance completing three zero whitewash thursday earlier afghanistan batting bangladeshi bowler islam performed celebration dismissing shahzad twenty six earlier march bangladeshi team done celebration sri lanka \n",
      "실제 요약 : afghanistan troll desh dance post whitewash \n",
      "예측 요약 :  afghan players shahzad shahzad celebration\n",
      "\n",
      "\n",
      "원문 : mumbai court friday acquitted delhi cm arvind kejriwal seven others allegedly holding political rally without required police permission two thousand fourteen lok sabha polls metropolitan magistrate pk deshpande observed police failed give written statement accused persons refusing permission rally \n",
      "실제 요약 : arvind kejriwal acquitted two thousand fourteen lok sabha poll rally case \n",
      "예측 요약 :  delhi cm kejriwal gets death threats karunanidhi\n",
      "\n",
      "\n",
      "원문 : former australian fast bowler ryan harris penalised cricket australia tweets posted relation brisbane heat alex ross obstructing field dismissal big bash league harris called umpires decision absolutely disgraceful embarrassing twitter handed suspended one point five lakh fine cricket australia \n",
      "실제 요약 : ex aussie pacer harris penalised twitter umpires \n",
      "예측 요약 :  ex aus captain johnson fined one hundred fifty six cr\n",
      "\n",
      "\n",
      "원문 : sharma formerly known bobby darling said husband sharma accused domestic violence unnatural sex recently arrested delhi police added moved application delhi court rejected thankfully stand also pressed charges dowry harassment husband mother brother \n",
      "실제 요약 : bobby husband jailed domestic abuse unnatural sex \n",
      "예측 요약 :  husband wife wife raped husband\n",
      "\n",
      "\n",
      "원문 : referring muzaffarpur shelter home case bihar cm nitish kumar said one negative incident people keep talking called focus positive things added one found guilty case spared case relates alleged rape least thirty four inmates government funded shelter home \n",
      "실제 요약 : bihar home rapes one negative thing focus positive cm \n",
      "예측 요약 :  ashamed muzaffarpur shelter home minister\n",
      "\n",
      "\n",
      "원문 : australian government start issuing fines parents children parents lose one thousand four hundred every two weeks family tax benefits child children medical issues assessed natural immunity exempted new rule \n",
      "실제 요약 : parents kids fined australia \n",
      "예측 요약 :  australia introduces children\n",
      "\n",
      "\n",
      "원문 : police department new york jokingly announced facebook arrested winter season state experienced prolonged weather police also called turn predicted six weeks winter new york experiencing winter strong winds caused power outages \n",
      "실제 요약 : police ny village announce arrest winter \n",
      "예측 요약 :  police police cyber attack cyber attack\n",
      "\n",
      "\n",
      "원문 : us commerce giant amazon added dollars two hundred sixty billion market value last six months equivalent retail giant walmart total market capitalisation world valuable company apple market cap dollars nine hundred seventeen billion ten percents amazon notably apple value fifty percents higher amazon beginning year \n",
      "실제 요약 : amazon added walmart market cap two thousand eighteen \n",
      "예측 요약 :  amazon invests dollars two hundred fifty mn amazon payments arm\n",
      "\n",
      "\n",
      "원문 : following us israel withdrawal unesco iran foreign minister javad zarif suggested countries leave planet earth added us withdrawn several agreements president donald trump including two thousand fifteen iran nuclear deal paris climate accord among others us israel quit unesco accusing organisation bias \n",
      "실제 요약 : unesco us withdraw planet earth iran \n",
      "예측 요약 :  us nuclear deal may lead us defence secy\n",
      "\n",
      "\n",
      "원문 : photo gallery showcases pictures de annual fair held capital spain celebration began cattle fair one thousand eight hundred forty seven features banks river covered decorated tents crowds gather people often dressed traditional attire \n",
      "실제 요약 : pictures spain celebrates de \n",
      "예측 요약 :  ceat introduces world heritage\n",
      "\n",
      "\n",
      "원문 : actress lara dutta used husband tennis player mahesh bhupathi grand slam towels stop rainwater home mumbai putting wimbledon us open open open towels good use tweeted lara along picture mahesh twelve grand slam titles replied years hard work \n",
      "실제 요약 : lara uses bhupathi grand slam block rainwater \n",
      "예측 요약 :  actress wears ramp pregnant fashion week\n",
      "\n",
      "\n",
      "원문 : us authorities discovered secret tunnel leading bedroom mexico abandoned kfc restaurant us state arizona believed used smuggling drugs discovery made last week abandoned building owner ivan pez arrested possessing drugs worth dollars one million \n",
      "실제 요약 : secret tunnel mexico abandoned kfc us discovered \n",
      "예측 요약 :  us restaurant builds floating hotel opens floating sea\n",
      "\n",
      "\n",
      "원문 : national commission women received complaint wherein patidar leader hardik patel accused sexually exploiting girl complaint filed girl team travel gujarat surat meet girl victim said talk scared come forward \n",
      "실제 요약 : patidar leader hardik patel accused sexual \n",
      "예측 요약 :  complaint filed hindu gods women\n",
      "\n",
      "\n",
      "원문 : paris set host auction love locks tourists attach bridges tokens love amount earned sale locks support three charities help support accommodate migrants france two thousand fifteen paris got rid locks bridge collapsed load \n",
      "실제 요약 : paris auction love locks \n",
      "예측 요약 :  uk magazine passes away aged ninety nine\n",
      "\n",
      "\n",
      "원문 : white house sunday said us would see north korea serious willingness talks country said president donald trump remains committed achieving complete denuclearisation korean peninsula statement comes south korea said north korean officials open talks us \n",
      "실제 요약 : see north korea serious talks white house \n",
      "예측 요약 :  us korea may make us north korea\n",
      "\n",
      "\n",
      "원문 : three wagons empty goods train derailed west bengal district sunday reason derailment yet ascertained one reported injured incident notably fifth rail accident piyush goyal appointed railway minister following cabinet reshuffle september three \n",
      "실제 요약 : three goods train derail west bengal \n"
     ]
    },
    {
     "name": "stdout",
     "output_type": "stream",
     "text": [
      "예측 요약 :  train train derails mumbai\n",
      "\n",
      "\n",
      "원문 : suicide bomb attack carried taliban targetting nato convoy killed two us soldiers southern afghan city kandahar wednesday pentagon spokesperson said attack comes twenty nine people killed sixty four others injured explosion tuesday inside minority shi ite muslim mosque western afghanistan \n",
      "실제 요약 : taliban attack nato convoy kills two us soldiers \n",
      "예측 요약 :  taliban attack afghan afghan peace peace\n",
      "\n",
      "\n",
      "원문 : cbse officials denied reports class twelve economics paper leaked hours exam monday urging students parents panic cbse best ensure sanctity examination officials said earlier march fifteen reports alleged paper leaked however cbse later denied \n",
      "실제 요약 : cbse denies reports class twelve economics paper leaked \n",
      "예측 요약 :  cbse class twelve exam paper leak cbse exam\n",
      "\n",
      "\n",
      "원문 : apple supplier china catcher technology factory accused chemical safety overtime violations workers according china labor watch report says catcher workers stand ten hours day handling harmful chemicals without proper gloves apple spokesperson said investigated claims found standards breached \n",
      "실제 요약 : apple supplier workers exposed toxic china \n",
      "예측 요약 :  apple store workers store drivers report\n",
      "\n",
      "\n",
      "원문 : propaganda cell terror group isis released poster holding knife football star cristiano ronaldo days released poster lionel messi crying blood poster ronaldo seen black eye hands tied words see hear poster read \n",
      "실제 요약 : poster shows holding knife black eyed ronaldo \n",
      "예측 요약 :  police sends poster ronaldo dancing barcelona\n",
      "\n",
      "\n",
      "원문 : speaking criticised revealing relationships memoir nawazuddin siddiqui said regrets naming women adding five pages written added trying tell truth questioned know five pages would kill impact entire effort \n",
      "실제 요약 : regret five pages nawazuddin revealing affairs \n",
      "예측 요약 :  metoo movement speaks metoo allegations\n",
      "\n",
      "\n"
     ]
    }
   ],
   "source": [
    "for i in range(100, 151):\n",
    "    print(\"원문 :\", seq2text(en_x_test[i]))\n",
    "    print(\"실제 요약 :\", seq2summary(de_x_test[i]))\n",
    "    print(\"예측 요약 :\", decode_sequence(en_x_test[i].reshape(1, text_max_len)))\n",
    "    print(\"\\n\")"
   ]
  },
  {
   "cell_type": "markdown",
   "id": "990773ca",
   "metadata": {},
   "source": [
    "### 추출적 요약 결과와 비교해보기(with 매트릭스 시놉시스 데이터셋)"
   ]
  },
  {
   "cell_type": "code",
   "execution_count": 80,
   "id": "f043d62b",
   "metadata": {},
   "outputs": [],
   "source": [
    "import requests\n",
    "from summa.summarizer import summarize"
   ]
  },
  {
   "cell_type": "code",
   "execution_count": 81,
   "id": "5e5ab58b",
   "metadata": {},
   "outputs": [
    {
     "name": "stdout",
     "output_type": "stream",
     "text": [
      "The screen is filled with green, cascading code which gives way to the title, The Matrix.\r\n",
      "\r\n",
      "A phone rings and text appears on the screen: \"Call trans opt: received. 2-19-98 13:24:18 REC: Log>\" As a conversation takes place between Trinity (Carrie-Anne Moss) and Cypher (Joe Pantoliano), two free humans, a table of random green numbers are being scanned and individual numbers selected, creating a series of digits not unlike an ordinary phone number, as if a code is being deciphered or a call is being traced.\r\n",
      "\r\n",
      "Trinity discusses some unknown person. Cypher taunts Trinity, suggesting she enjoys watching him. Trinity counters that \"Morpheus (Laurence Fishburne) says he may be 'the One',\" just as the sound of a number being selected alerts Trinity that someone may be tracing their call. She ends the call.\r\n",
      "\r\n",
      "Armed policemen move down a darkened, decrepit hallway in the Heart O' the City Hotel, their flashlight beam bouncing just ahead of them. They come to room 303, kick down the door and find a woman dressed in black, facing away from them. It's Trinity. She brings her hands up from the laptop she's working on at their command.\r\n",
      "\r\n",
      "Outside the hotel a car drives up and three agents appear in neatly pressed black suits. They are Agent Smith (Hugo Weaving), Agent Brown (Paul Goddard), and Agent Jones (Robert Taylor). Agent Smith and the presiding police lieutenant argue. Agent Smith admonishes the policeman that they were given specific orders to contact the agents first, for their\n"
     ]
    }
   ],
   "source": [
    "text = requests.get('http://rare-technologies.com/the_matrix_synopsis.txt').text\n",
    "print(text[:1500])"
   ]
  },
  {
   "cell_type": "code",
   "execution_count": 82,
   "id": "8b2963ca",
   "metadata": {},
   "outputs": [
    {
     "name": "stdout",
     "output_type": "stream",
     "text": [
      "Summary: Morpheus, Trinity, Neo, Apoc, Switch, Mouse and Cypher are jacked into the Matrix.\n",
      "Trinity brings the helicopter down to the floor that Morpheus is on and Neo opens fire on the three Agents.\n"
     ]
    }
   ],
   "source": [
    "# 전체 문장의 0.5%만 요약문으로 추출\n",
    "print('Summary:', summarize(text, ratio=0.005))"
   ]
  },
  {
   "cell_type": "code",
   "execution_count": 83,
   "id": "51eaf412",
   "metadata": {},
   "outputs": [
    {
     "name": "stdout",
     "output_type": "stream",
     "text": [
      "['Morpheus, Trinity, Neo, Apoc, Switch, Mouse and Cypher are jacked into the Matrix.', 'Trinity brings the helicopter down to the floor that Morpheus is on and Neo opens fire on the three Agents.']\n"
     ]
    }
   ],
   "source": [
    "# list 형태로 출력\n",
    "print(summarize(text, ratio=0.005, split=True))"
   ]
  },
  {
   "cell_type": "code",
   "execution_count": 84,
   "id": "a4bcb393",
   "metadata": {},
   "outputs": [
    {
     "name": "stdout",
     "output_type": "stream",
     "text": [
      "Trinity takes Neo to Morpheus.\n",
      "Morpheus, Trinity, Neo, Apoc, Switch, Mouse and Cypher are jacked into the Matrix.\n",
      "Trinity brings the helicopter down to the floor that Morpheus is on and Neo opens fire on the three Agents.\n"
     ]
    }
   ],
   "source": [
    "# 요약문에 포함된 단어 수를 50개로 제한\n",
    "print(summarize(text, words=50))"
   ]
  },
  {
   "cell_type": "markdown",
   "id": "269e46e2",
   "metadata": {},
   "source": [
    "### Done"
   ]
  },
  {
   "cell_type": "markdown",
   "id": "92811a27",
   "metadata": {},
   "source": [
    "1. 데이터 전처리 함수\n",
    "- 수치 데이터와 일부 특수기호도 중요한 정보인데 이것도 없애야 할까?\n",
    "    - $ → ‘dollar’, % → ‘percent’, & → ‘and’로 변경하는 로직 추가\n",
    "    - num2words 라이브러리로 숫자를 문자로 변경 (ex : 2000 → two thousands)\n",
    "    - 숫자 사이에 콤마나 점이 있는 경우에 대응\n",
    "        - 1.5를 one point five로 읽도록 수정\n",
    "        - 1,000을 one zero로 읽는 문제 해결\n",
    "- `sentence = re.sub(\"[m]{2,}\", \"mm\", sentence)` → 다른 알파벳도 3개 이상 반복되면 2개로 바꾸는 로직 추가\n",
    "- 'iso-8859-1’ 인코딩에 글씨 깨짐이 발생하는 경우가 있어 ‘utf-8’로 변경"
   ]
  },
  {
   "cell_type": "markdown",
   "id": "aac5ec99",
   "metadata": {},
   "source": [
    "### To-do"
   ]
  },
  {
   "cell_type": "markdown",
   "id": "fb663959",
   "metadata": {},
   "source": [
    "1. 하이퍼파라미터 튜닝 with keras tuner\n",
    "    - embedding_dim\n",
    "    - hidden_size\n",
    "    - dropout\n",
    "    - layer 개수\n",
    "    - learning rate\n",
    "\n",
    "2. 어텐션 메커니즘\n",
    "    - Luong attention 분석\n",
    "    - Bahdanau 모델 구현 & 성능 비교"
   ]
  }
 ],
 "metadata": {
  "kernelspec": {
   "display_name": "Python 3 (ipykernel)",
   "language": "python",
   "name": "python3"
  },
  "language_info": {
   "codemirror_mode": {
    "name": "ipython",
    "version": 3
   },
   "file_extension": ".py",
   "mimetype": "text/x-python",
   "name": "python",
   "nbconvert_exporter": "python",
   "pygments_lexer": "ipython3",
   "version": "3.9.7"
  }
 },
 "nbformat": 4,
 "nbformat_minor": 5
}
