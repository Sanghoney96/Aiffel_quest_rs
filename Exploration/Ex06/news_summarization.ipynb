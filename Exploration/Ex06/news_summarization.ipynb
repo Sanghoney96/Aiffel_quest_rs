{
 "cells": [
  {
   "cell_type": "code",
   "execution_count": 1,
   "id": "5f8e94c9",
   "metadata": {},
   "outputs": [
    {
     "name": "stdout",
     "output_type": "stream",
     "text": [
      "Collecting num2words\n",
      "  Downloading num2words-0.5.14-py3-none-any.whl (163 kB)\n",
      "     |████████████████████████████████| 163 kB 848 kB/s            \n",
      "\u001b[?25hCollecting keras-tuner\n",
      "  Downloading keras_tuner-1.4.7-py3-none-any.whl (129 kB)\n",
      "     |████████████████████████████████| 129 kB 2.0 MB/s            \n",
      "\u001b[?25hCollecting docopt>=0.6.2\n",
      "  Downloading docopt-0.6.2.tar.gz (25 kB)\n",
      "  Preparing metadata (setup.py) ... \u001b[?25ldone\n",
      "\u001b[?25hCollecting kt-legacy\n",
      "  Downloading kt_legacy-1.0.5-py3-none-any.whl (9.6 kB)\n",
      "Requirement already satisfied: requests in /opt/conda/lib/python3.9/site-packages (from keras-tuner) (2.26.0)\n",
      "Requirement already satisfied: keras in /opt/conda/lib/python3.9/site-packages (from keras-tuner) (2.6.0)\n",
      "Requirement already satisfied: packaging in /opt/conda/lib/python3.9/site-packages (from keras-tuner) (21.3)\n",
      "Requirement already satisfied: pyparsing!=3.0.5,>=2.0.2 in /opt/conda/lib/python3.9/site-packages (from packaging->keras-tuner) (3.0.6)\n",
      "Requirement already satisfied: certifi>=2017.4.17 in /opt/conda/lib/python3.9/site-packages (from requests->keras-tuner) (2021.10.8)\n",
      "Requirement already satisfied: charset-normalizer~=2.0.0 in /opt/conda/lib/python3.9/site-packages (from requests->keras-tuner) (2.0.8)\n",
      "Requirement already satisfied: idna<4,>=2.5 in /opt/conda/lib/python3.9/site-packages (from requests->keras-tuner) (2.10)\n",
      "Requirement already satisfied: urllib3<1.27,>=1.21.1 in /opt/conda/lib/python3.9/site-packages (from requests->keras-tuner) (1.26.7)\n",
      "Building wheels for collected packages: docopt\n",
      "  Building wheel for docopt (setup.py) ... \u001b[?25ldone\n",
      "\u001b[?25h  Created wheel for docopt: filename=docopt-0.6.2-py2.py3-none-any.whl size=13724 sha256=358fd38ec59c19856bd9c703bb81e3574468711978032d6c64ce09cad7eb50fa\n",
      "  Stored in directory: /aiffel/.cache/pip/wheels/70/4a/46/1309fc853b8d395e60bafaf1b6df7845bdd82c95fd59dd8d2b\n",
      "Successfully built docopt\n",
      "Installing collected packages: kt-legacy, docopt, num2words, keras-tuner\n",
      "Successfully installed docopt-0.6.2 keras-tuner-1.4.7 kt-legacy-1.0.5 num2words-0.5.14\n",
      "\u001b[33mWARNING: Running pip as the 'root' user can result in broken permissions and conflicting behaviour with the system package manager. It is recommended to use a virtual environment instead: https://pip.pypa.io/warnings/venv\u001b[0m\n"
     ]
    }
   ],
   "source": [
    "!pip install num2words keras-tuner"
   ]
  },
  {
   "cell_type": "code",
   "execution_count": 2,
   "id": "38346c43",
   "metadata": {},
   "outputs": [
    {
     "name": "stderr",
     "output_type": "stream",
     "text": [
      "[nltk_data] Downloading package stopwords to /aiffel/nltk_data...\n",
      "[nltk_data]   Unzipping corpora/stopwords.zip.\n",
      "[nltk_data] Downloading package stopwords to /aiffel/nltk_data...\n",
      "[nltk_data]   Package stopwords is already up-to-date!\n"
     ]
    }
   ],
   "source": [
    "import nltk\n",
    "nltk.download('stopwords')\n",
    "\n",
    "import numpy as np\n",
    "import pandas as pd\n",
    "from sklearn.model_selection import train_test_split\n",
    "import os\n",
    "import re\n",
    "import matplotlib.pyplot as plt\n",
    "from nltk.corpus import stopwords\n",
    "from bs4 import BeautifulSoup \n",
    "\n",
    "from utils import *\n",
    "\n",
    "from tensorflow.keras.preprocessing.text import Tokenizer \n",
    "from tensorflow.keras.preprocessing.sequence import pad_sequences\n",
    "import urllib.request\n",
    "import warnings\n",
    "warnings.filterwarnings(\"ignore\", category=UserWarning, module='bs4')"
   ]
  },
  {
   "cell_type": "code",
   "execution_count": 3,
   "id": "d9d0abea",
   "metadata": {},
   "outputs": [
    {
     "name": "stdout",
     "output_type": "stream",
     "text": [
      "전체 샘플수 : 98360\n"
     ]
    },
    {
     "data": {
      "text/html": [
       "<div>\n",
       "<style scoped>\n",
       "    .dataframe tbody tr th:only-of-type {\n",
       "        vertical-align: middle;\n",
       "    }\n",
       "\n",
       "    .dataframe tbody tr th {\n",
       "        vertical-align: top;\n",
       "    }\n",
       "\n",
       "    .dataframe thead th {\n",
       "        text-align: right;\n",
       "    }\n",
       "</style>\n",
       "<table border=\"1\" class=\"dataframe\">\n",
       "  <thead>\n",
       "    <tr style=\"text-align: right;\">\n",
       "      <th></th>\n",
       "      <th>headlines</th>\n",
       "      <th>text</th>\n",
       "    </tr>\n",
       "  </thead>\n",
       "  <tbody>\n",
       "    <tr>\n",
       "      <th>23534</th>\n",
       "      <td>indonesia invites kim jong un attend asian games</td>\n",
       "      <td>indonesia invited north korean leader kim jong...</td>\n",
       "    </tr>\n",
       "    <tr>\n",
       "      <th>29078</th>\n",
       "      <td>salman trained first arjuna awardee cricketer</td>\n",
       "      <td>bollywood actor salman khan trained former ind...</td>\n",
       "    </tr>\n",
       "    <tr>\n",
       "      <th>72614</th>\n",
       "      <td>want apology kangana ranaut hrithik row</td>\n",
       "      <td>promotional video aap ki adalat kangana ranaut...</td>\n",
       "    </tr>\n",
       "    <tr>\n",
       "      <th>20021</th>\n",
       "      <td>hackers onest attempt rob cosmos bank ninety f...</td>\n",
       "      <td>first attempt hackers stole ninety four crore ...</td>\n",
       "    </tr>\n",
       "    <tr>\n",
       "      <th>27417</th>\n",
       "      <td>remo refutes rumours fallout salman post race ...</td>\n",
       "      <td>choreographer turned filmmaker remo souza deni...</td>\n",
       "    </tr>\n",
       "    <tr>\n",
       "      <th>32927</th>\n",
       "      <td>kapil sends one hundred cr notice editor deman...</td>\n",
       "      <td>comedian kapil sharma sent legal notice one hu...</td>\n",
       "    </tr>\n",
       "    <tr>\n",
       "      <th>9054</th>\n",
       "      <td>media twists statements address press taka cm</td>\n",
       "      <td>karnataka cm hd kumaraswamy thursday reportedl...</td>\n",
       "    </tr>\n",
       "    <tr>\n",
       "      <th>28102</th>\n",
       "      <td>take marriage films right reasons masaan actress</td>\n",
       "      <td>masaan actress shweta tripathi got married boy...</td>\n",
       "    </tr>\n",
       "    <tr>\n",
       "      <th>7268</th>\n",
       "      <td>selling dhoni ipl one still career highlight a...</td>\n",
       "      <td>auctioneer richard madley replaced hugh edmead...</td>\n",
       "    </tr>\n",
       "    <tr>\n",
       "      <th>16829</th>\n",
       "      <td>fatima look zafira thugs hindostan revealed</td>\n",
       "      <td>fatima sana shaikh look zafira thugs hindostan...</td>\n",
       "    </tr>\n",
       "    <tr>\n",
       "      <th>71187</th>\n",
       "      <td>bombay dyeing shares surged two hundred thirty...</td>\n",
       "      <td>shares textile major bombay dyeing soared near...</td>\n",
       "    </tr>\n",
       "    <tr>\n",
       "      <th>22819</th>\n",
       "      <td>pm modi refuse wear muslim cap shashi tharoor</td>\n",
       "      <td>addressing seminar thiruvananthapuram congress...</td>\n",
       "    </tr>\n",
       "    <tr>\n",
       "      <th>50236</th>\n",
       "      <td>janhvi trying like mother sridevi boney</td>\n",
       "      <td>filmmaker boney kapoor said daughter janhvi ka...</td>\n",
       "    </tr>\n",
       "    <tr>\n",
       "      <th>67228</th>\n",
       "      <td>never got controversy heck ajay devgn</td>\n",
       "      <td>ajay devgn said never got controversy heck aja...</td>\n",
       "    </tr>\n",
       "    <tr>\n",
       "      <th>75734</th>\n",
       "      <td>good intent best beginning new cbfc chief prasoon</td>\n",
       "      <td>screenwriter lyricist prasoon joshi replaced p...</td>\n",
       "    </tr>\n",
       "    <tr>\n",
       "      <th>62314</th>\n",
       "      <td>bombay hc allows woman abort twenty five week ...</td>\n",
       "      <td>bombay high court monday granted permission wo...</td>\n",
       "    </tr>\n",
       "    <tr>\n",
       "      <th>22179</th>\n",
       "      <td>california wildfire smoke reaches new york thr...</td>\n",
       "      <td>smoke california ongoing wildfire classified l...</td>\n",
       "    </tr>\n",
       "    <tr>\n",
       "      <th>50434</th>\n",
       "      <td>indian american woman sues weinstein sexual ha...</td>\n",
       "      <td>producer harvey weinstein sued former indian a...</td>\n",
       "    </tr>\n",
       "    <tr>\n",
       "      <th>72308</th>\n",
       "      <td>women activists demand ban film shows dating c...</td>\n",
       "      <td>members women organisations including ap mahil...</td>\n",
       "    </tr>\n",
       "    <tr>\n",
       "      <th>19502</th>\n",
       "      <td>tata power jv buy seventy five percents stake ...</td>\n",
       "      <td>singapore based resurgent power joint venture ...</td>\n",
       "    </tr>\n",
       "  </tbody>\n",
       "</table>\n",
       "</div>"
      ],
      "text/plain": [
       "                                               headlines  \\\n",
       "23534   indonesia invites kim jong un attend asian games   \n",
       "29078      salman trained first arjuna awardee cricketer   \n",
       "72614            want apology kangana ranaut hrithik row   \n",
       "20021  hackers onest attempt rob cosmos bank ninety f...   \n",
       "27417  remo refutes rumours fallout salman post race ...   \n",
       "32927  kapil sends one hundred cr notice editor deman...   \n",
       "9054       media twists statements address press taka cm   \n",
       "28102   take marriage films right reasons masaan actress   \n",
       "7268   selling dhoni ipl one still career highlight a...   \n",
       "16829        fatima look zafira thugs hindostan revealed   \n",
       "71187  bombay dyeing shares surged two hundred thirty...   \n",
       "22819      pm modi refuse wear muslim cap shashi tharoor   \n",
       "50236            janhvi trying like mother sridevi boney   \n",
       "67228              never got controversy heck ajay devgn   \n",
       "75734  good intent best beginning new cbfc chief prasoon   \n",
       "62314  bombay hc allows woman abort twenty five week ...   \n",
       "22179  california wildfire smoke reaches new york thr...   \n",
       "50434  indian american woman sues weinstein sexual ha...   \n",
       "72308  women activists demand ban film shows dating c...   \n",
       "19502  tata power jv buy seventy five percents stake ...   \n",
       "\n",
       "                                                    text  \n",
       "23534  indonesia invited north korean leader kim jong...  \n",
       "29078  bollywood actor salman khan trained former ind...  \n",
       "72614  promotional video aap ki adalat kangana ranaut...  \n",
       "20021  first attempt hackers stole ninety four crore ...  \n",
       "27417  choreographer turned filmmaker remo souza deni...  \n",
       "32927  comedian kapil sharma sent legal notice one hu...  \n",
       "9054   karnataka cm hd kumaraswamy thursday reportedl...  \n",
       "28102  masaan actress shweta tripathi got married boy...  \n",
       "7268   auctioneer richard madley replaced hugh edmead...  \n",
       "16829  fatima sana shaikh look zafira thugs hindostan...  \n",
       "71187  shares textile major bombay dyeing soared near...  \n",
       "22819  addressing seminar thiruvananthapuram congress...  \n",
       "50236  filmmaker boney kapoor said daughter janhvi ka...  \n",
       "67228  ajay devgn said never got controversy heck aja...  \n",
       "75734  screenwriter lyricist prasoon joshi replaced p...  \n",
       "62314  bombay high court monday granted permission wo...  \n",
       "22179  smoke california ongoing wildfire classified l...  \n",
       "50434  producer harvey weinstein sued former indian a...  \n",
       "72308  members women organisations including ap mahil...  \n",
       "19502  singapore based resurgent power joint venture ...  "
      ]
     },
     "execution_count": 3,
     "metadata": {},
     "output_type": "execute_result"
    }
   ],
   "source": [
    "# load preprocessed amazon review dataset from directory\n",
    "data = pd.read_csv(os.getenv(\"HOME\")+\"/aiffel/news_summarization/data/preprocessed_news.csv\", nrows=100000)\n",
    "print('전체 샘플수 :', (len(data)))\n",
    "data.sample(20)"
   ]
  },
  {
   "cell_type": "markdown",
   "id": "e137ec90",
   "metadata": {},
   "source": [
    "### 데이터 전처리"
   ]
  },
  {
   "cell_type": "markdown",
   "id": "ba5ab34c",
   "metadata": {},
   "source": [
    "##### 1) train / test split"
   ]
  },
  {
   "cell_type": "code",
   "execution_count": 4,
   "id": "cb625964",
   "metadata": {},
   "outputs": [
    {
     "name": "stdout",
     "output_type": "stream",
     "text": [
      "텍스트의 최소 길이 : 1\n",
      "텍스트의 최대 길이 : 95\n",
      "텍스트의 평균 길이 : 38.582035380235865\n",
      "요약문의 최소 길이 : 1\n",
      "요약문의 최대 길이 : 23\n",
      "요약문의 평균 길이 : 7.899339162261081\n"
     ]
    },
    {
     "data": {
      "image/png": "[encoded data removed]",
      "text/plain": [
       "<Figure size 432x288 with 2 Axes>"
      ]
     },
     "metadata": {
      "needs_background": "light"
     },
     "output_type": "display_data"
    },
    {
     "data": {
      "image/png": "[encoded data removed]",
      "text/plain": [
       "<Figure size 432x288 with 1 Axes>"
      ]
     },
     "metadata": {
      "needs_background": "light"
     },
     "output_type": "display_data"
    },
    {
     "data": {
      "image/png": "[encoded data removed]",
      "text/plain": [
       "<Figure size 432x288 with 1 Axes>"
      ]
     },
     "metadata": {
      "needs_background": "light"
     },
     "output_type": "display_data"
    }
   ],
   "source": [
    "# 샘플의 텍스트/요약문 길이 분포 출력\n",
    "import matplotlib.pyplot as plt\n",
    "\n",
    "text_len = [len(s.split()) for s in data['text']]\n",
    "summary_len = [len(s.split()) for s in data['headlines']]\n",
    "\n",
    "print('텍스트의 최소 길이 : {}'.format(np.min(text_len)))\n",
    "print('텍스트의 최대 길이 : {}'.format(np.max(text_len)))\n",
    "print('텍스트의 평균 길이 : {}'.format(np.mean(text_len)))\n",
    "print('요약문의 최소 길이 : {}'.format(np.min(summary_len)))\n",
    "print('요약문의 최대 길이 : {}'.format(np.max(summary_len)))\n",
    "print('요약문의 평균 길이 : {}'.format(np.mean(summary_len)))\n",
    "\n",
    "plt.subplot(1,2,1)\n",
    "plt.boxplot(text_len)\n",
    "plt.title('text')\n",
    "plt.subplot(1,2,2)\n",
    "plt.boxplot(summary_len)\n",
    "plt.title('headlines')\n",
    "plt.tight_layout()\n",
    "plt.show()\n",
    "\n",
    "plt.title('text')\n",
    "plt.hist(text_len, bins = 40)\n",
    "plt.xlabel('length of samples')\n",
    "plt.ylabel('number of samples')\n",
    "plt.show()\n",
    "\n",
    "plt.title('headlines')\n",
    "plt.hist(summary_len, bins = 40)\n",
    "plt.xlabel('length of samples')\n",
    "plt.ylabel('number of samples')\n",
    "plt.show()"
   ]
  },
  {
   "cell_type": "code",
   "execution_count": 5,
   "id": "84313372",
   "metadata": {},
   "outputs": [
    {
     "name": "stdout",
     "output_type": "stream",
     "text": [
      "50\n",
      "11\n"
     ]
    }
   ],
   "source": [
    "# mean + 2*std를 텍스트 길이의 상한선으로 설정 -> 손실되는 text 5% 미만\n",
    "text_max_len = int(np.mean(text_len) + 2 * np.std(text_len))\n",
    "print(text_max_len)\n",
    "\n",
    "summary_max_len = int(np.mean(summary_len) + 2 * np.std(summary_len))\n",
    "print(summary_max_len)"
   ]
  },
  {
   "cell_type": "code",
   "execution_count": 6,
   "id": "f1aa16e8",
   "metadata": {},
   "outputs": [
    {
     "name": "stdout",
     "output_type": "stream",
     "text": [
      "전체 샘플 중 길이가 50 이하인 샘플의 비율: 0.9583367222448149\n",
      "전체 샘플 중 길이가 11 이하인 샘플의 비율: 0.9613359089060594\n"
     ]
    }
   ],
   "source": [
    "below_threshold_len(text_max_len, data['text'])\n",
    "below_threshold_len(summary_max_len,  data['headlines'])"
   ]
  },
  {
   "cell_type": "code",
   "execution_count": 7,
   "id": "dada2a68",
   "metadata": {},
   "outputs": [
    {
     "name": "stdout",
     "output_type": "stream",
     "text": [
      "전체 샘플수 : 91643\n"
     ]
    }
   ],
   "source": [
    "data = data[(data[\"text\"].apply(lambda x: len(x.split()) <= text_max_len)) & \n",
    "(data[\"headlines\"].apply(lambda x: len(x.split()) <= summary_max_len))]\n",
    "\n",
    "print('전체 샘플수 :', (len(data)))"
   ]
  },
  {
   "cell_type": "code",
   "execution_count": 8,
   "id": "44e354eb",
   "metadata": {},
   "outputs": [
    {
     "data": {
      "text/html": [
       "<div>\n",
       "<style scoped>\n",
       "    .dataframe tbody tr th:only-of-type {\n",
       "        vertical-align: middle;\n",
       "    }\n",
       "\n",
       "    .dataframe tbody tr th {\n",
       "        vertical-align: top;\n",
       "    }\n",
       "\n",
       "    .dataframe thead th {\n",
       "        text-align: right;\n",
       "    }\n",
       "</style>\n",
       "<table border=\"1\" class=\"dataframe\">\n",
       "  <thead>\n",
       "    <tr style=\"text-align: right;\">\n",
       "      <th></th>\n",
       "      <th>headlines</th>\n",
       "      <th>text</th>\n",
       "      <th>decoder_input</th>\n",
       "      <th>decoder_target</th>\n",
       "    </tr>\n",
       "  </thead>\n",
       "  <tbody>\n",
       "    <tr>\n",
       "      <th>0</th>\n",
       "      <td>upgrad learner switches career ml al ninety pe...</td>\n",
       "      <td>saurav kant alumnus upgrad iit pg program mach...</td>\n",
       "      <td>sostoken upgrad learner switches career ml al ...</td>\n",
       "      <td>upgrad learner switches career ml al ninety pe...</td>\n",
       "    </tr>\n",
       "    <tr>\n",
       "      <th>1</th>\n",
       "      <td>delhi techie wins free food swiggy one year cred</td>\n",
       "      <td>kunal shah credit card bill payment platform c...</td>\n",
       "      <td>sostoken delhi techie wins free food swiggy on...</td>\n",
       "      <td>delhi techie wins free food swiggy one year cr...</td>\n",
       "    </tr>\n",
       "    <tr>\n",
       "      <th>2</th>\n",
       "      <td>new zealand end rohit sharma led india twelve ...</td>\n",
       "      <td>new zealand defeated india eight wickets fourt...</td>\n",
       "      <td>sostoken new zealand end rohit sharma led indi...</td>\n",
       "      <td>new zealand end rohit sharma led india twelve ...</td>\n",
       "    </tr>\n",
       "    <tr>\n",
       "      <th>3</th>\n",
       "      <td>aegon life iterm insurance plan helps customer...</td>\n",
       "      <td>aegon life iterm insurance plan customers enjo...</td>\n",
       "      <td>sostoken aegon life iterm insurance plan helps...</td>\n",
       "      <td>aegon life iterm insurance plan helps customer...</td>\n",
       "    </tr>\n",
       "    <tr>\n",
       "      <th>4</th>\n",
       "      <td>known hirani yrs metoo claims true sonam</td>\n",
       "      <td>speaking sexual harassment allegations rajkuma...</td>\n",
       "      <td>sostoken known hirani yrs metoo claims true sonam</td>\n",
       "      <td>known hirani yrs metoo claims true sonam eostoken</td>\n",
       "    </tr>\n",
       "  </tbody>\n",
       "</table>\n",
       "</div>"
      ],
      "text/plain": [
       "                                           headlines  \\\n",
       "0  upgrad learner switches career ml al ninety pe...   \n",
       "1   delhi techie wins free food swiggy one year cred   \n",
       "2  new zealand end rohit sharma led india twelve ...   \n",
       "3  aegon life iterm insurance plan helps customer...   \n",
       "4           known hirani yrs metoo claims true sonam   \n",
       "\n",
       "                                                text  \\\n",
       "0  saurav kant alumnus upgrad iit pg program mach...   \n",
       "1  kunal shah credit card bill payment platform c...   \n",
       "2  new zealand defeated india eight wickets fourt...   \n",
       "3  aegon life iterm insurance plan customers enjo...   \n",
       "4  speaking sexual harassment allegations rajkuma...   \n",
       "\n",
       "                                       decoder_input  \\\n",
       "0  sostoken upgrad learner switches career ml al ...   \n",
       "1  sostoken delhi techie wins free food swiggy on...   \n",
       "2  sostoken new zealand end rohit sharma led indi...   \n",
       "3  sostoken aegon life iterm insurance plan helps...   \n",
       "4  sostoken known hirani yrs metoo claims true sonam   \n",
       "\n",
       "                                      decoder_target  \n",
       "0  upgrad learner switches career ml al ninety pe...  \n",
       "1  delhi techie wins free food swiggy one year cr...  \n",
       "2  new zealand end rohit sharma led india twelve ...  \n",
       "3  aegon life iterm insurance plan helps customer...  \n",
       "4  known hirani yrs metoo claims true sonam eostoken  "
      ]
     },
     "execution_count": 8,
     "metadata": {},
     "output_type": "execute_result"
    }
   ],
   "source": [
    "# 요약 데이터에는 시작 토큰과 종료 토큰을 추가한다.\n",
    "data['decoder_input'] = data['headlines'].apply(lambda x : 'sostoken '+ x)\n",
    "data['decoder_target'] = data['headlines'].apply(lambda x : x + ' eostoken')\n",
    "data.head()"
   ]
  },
  {
   "cell_type": "code",
   "execution_count": 9,
   "id": "6bcb0a96",
   "metadata": {},
   "outputs": [],
   "source": [
    "# numpy array로 저장\n",
    "encoder_input = np.array(data['text']) \n",
    "decoder_input = np.array(data['decoder_input']) \n",
    "decoder_target = np.array(data['decoder_target']) "
   ]
  },
  {
   "cell_type": "code",
   "execution_count": 10,
   "id": "d2e5e777",
   "metadata": {},
   "outputs": [],
   "source": [
    "en_x_train, en_x_test, de_x_train, de_x_test, de_y_train, de_y_test = train_test_split(\n",
    "    encoder_input, decoder_input, decoder_target, test_size=0.2)"
   ]
  },
  {
   "cell_type": "code",
   "execution_count": 11,
   "id": "d7759515",
   "metadata": {},
   "outputs": [
    {
     "name": "stdout",
     "output_type": "stream",
     "text": [
      "훈련 데이터의 개수 : 73314\n",
      "훈련 레이블의 개수 : 73314\n",
      "테스트 데이터의 개수 : 18329\n",
      "테스트 레이블의 개수 : 18329\n"
     ]
    }
   ],
   "source": [
    "print('훈련 데이터의 개수 :', len(en_x_train))\n",
    "print('훈련 레이블의 개수 :', len(de_x_train))\n",
    "print('테스트 데이터의 개수 :', len(en_x_test))\n",
    "print('테스트 레이블의 개수 :', len(de_x_test))"
   ]
  },
  {
   "cell_type": "markdown",
   "id": "1412bf7e",
   "metadata": {},
   "source": [
    "##### 2) 정수 인코딩"
   ]
  },
  {
   "cell_type": "code",
   "execution_count": 12,
   "id": "89bb0782",
   "metadata": {},
   "outputs": [],
   "source": [
    "src_tokenizer = Tokenizer()\n",
    "src_tokenizer.fit_on_texts(en_x_train)"
   ]
  },
  {
   "cell_type": "code",
   "execution_count": 13,
   "id": "4049d1ca",
   "metadata": {},
   "outputs": [
    {
     "name": "stdout",
     "output_type": "stream",
     "text": [
      "단어 집합(vocabulary)의 크기 : 68292\n",
      "등장 빈도가 8번 이하인 희귀 단어의 수: 49345\n",
      "단어 집합에서 희귀 단어를 제외시킬 경우의 단어 집합의 크기 18947\n",
      "단어 집합에서 희귀 단어의 비율: 72.25590113043988\n",
      "전체 등장 빈도에서 희귀 단어 등장 빈도 비율: 4.138093264886246\n"
     ]
    }
   ],
   "source": [
    "threshold = 9\n",
    "total_cnt = len(src_tokenizer.word_index) # 단어의 수\n",
    "rare_cnt = 0 # 등장 빈도수가 threshold보다 작은 단어의 개수를 카운트\n",
    "total_freq = 0 # 훈련 데이터의 전체 단어 빈도수 총 합\n",
    "rare_freq = 0 # 등장 빈도수가 threshold보다 작은 단어의 등장 빈도수의 총 합\n",
    "\n",
    "# 단어와 빈도수의 쌍(pair)을 key와 value로 받는다.\n",
    "for key, value in src_tokenizer.word_counts.items():\n",
    "    total_freq = total_freq + value\n",
    "\n",
    "    # 단어의 등장 빈도수가 threshold보다 작으면\n",
    "    if(value < threshold):\n",
    "        rare_cnt = rare_cnt + 1\n",
    "        rare_freq = rare_freq + value\n",
    "\n",
    "print('단어 집합(vocabulary)의 크기 :', total_cnt)\n",
    "print('등장 빈도가 %s번 이하인 희귀 단어의 수: %s'%(threshold - 1, rare_cnt))\n",
    "print('단어 집합에서 희귀 단어를 제외시킬 경우의 단어 집합의 크기 %s'%(total_cnt - rare_cnt))\n",
    "print(\"단어 집합에서 희귀 단어의 비율:\", (rare_cnt / total_cnt)*100)\n",
    "print(\"전체 등장 빈도에서 희귀 단어 등장 빈도 비율:\", (rare_freq / total_freq)*100)"
   ]
  },
  {
   "cell_type": "code",
   "execution_count": 14,
   "id": "331e2eb5",
   "metadata": {},
   "outputs": [],
   "source": [
    "src_vocab = 20000\n",
    "src_tokenizer = Tokenizer(num_words=src_vocab) # 단어 집합의 크기를 20000으로 제한\n",
    "src_tokenizer.fit_on_texts(en_x_train) # 단어 집합 재생성"
   ]
  },
  {
   "cell_type": "code",
   "execution_count": 15,
   "id": "f3e06b79",
   "metadata": {},
   "outputs": [
    {
     "name": "stdout",
     "output_type": "stream",
     "text": [
      "[[1198, 252, 185, 730, 412, 390, 218, 1, 2, 2210, 831, 4386, 713, 4204, 955, 730, 2152, 2152, 6, 157, 1377, 730, 13, 98, 268, 633, 2, 146, 210, 539], [12, 8, 3, 7751, 4428, 182, 375, 1899, 802, 1403, 4680, 183, 72, 14, 593, 27, 25, 3, 7112, 428, 18948, 702, 493, 9, 31, 3, 24, 5, 2, 3, 106, 85, 3, 31, 5, 2, 3, 109, 134, 486, 103, 3, 1665, 2367, 4644, 14], [12163, 817, 2543, 1549, 610, 2, 1935, 175, 1374, 1605, 10, 430, 262, 43, 9, 6123, 3367, 1093, 63, 34, 803, 389, 515, 77, 371, 923, 803, 9532, 8400, 13, 52, 10, 430, 262, 5907, 500, 1908, 49, 223, 1003, 541]]\n"
     ]
    }
   ],
   "source": [
    "# 텍스트 시퀀스를 정수 시퀀스로 변환\n",
    "en_x_train_tk = src_tokenizer.texts_to_sequences(en_x_train) \n",
    "en_x_test_tk = src_tokenizer.texts_to_sequences(en_x_test)\n",
    "\n",
    "# 잘 진행되었는지 샘플 출력\n",
    "print(en_x_train_tk[:3])"
   ]
  },
  {
   "cell_type": "code",
   "execution_count": 16,
   "id": "99bc830c",
   "metadata": {},
   "outputs": [],
   "source": [
    "tar_tokenizer = Tokenizer()\n",
    "tar_tokenizer.fit_on_texts(de_x_train)"
   ]
  },
  {
   "cell_type": "code",
   "execution_count": 17,
   "id": "8c6c2b6e",
   "metadata": {},
   "outputs": [
    {
     "name": "stdout",
     "output_type": "stream",
     "text": [
      "단어 집합(vocabulary)의 크기 : 29729\n",
      "등장 빈도가 5번 이하인 희귀 단어의 수: 19547\n",
      "단어 집합에서 희귀 단어를 제외시킬 경우의 단어 집합의 크기 10182\n",
      "단어 집합에서 희귀 단어의 비율: 65.7506138787043\n",
      "전체 등장 빈도에서 희귀 단어 등장 빈도 비율: 5.870905575533905\n"
     ]
    }
   ],
   "source": [
    "threshold = 6\n",
    "total_cnt = len(tar_tokenizer.word_index) # 단어의 수\n",
    "rare_cnt = 0 # 등장 빈도수가 threshold보다 작은 단어의 개수를 카운트\n",
    "total_freq = 0 # 훈련 데이터의 전체 단어 빈도수 총 합\n",
    "rare_freq = 0 # 등장 빈도수가 threshold보다 작은 단어의 등장 빈도수의 총 합\n",
    "\n",
    "# 단어와 빈도수의 쌍(pair)을 key와 value로 받는다.\n",
    "for key, value in tar_tokenizer.word_counts.items():\n",
    "    total_freq = total_freq + value\n",
    "\n",
    "    # 단어의 등장 빈도수가 threshold보다 작으면\n",
    "    if(value < threshold):\n",
    "        rare_cnt = rare_cnt + 1\n",
    "        rare_freq = rare_freq + value\n",
    "\n",
    "print('단어 집합(vocabulary)의 크기 :', total_cnt)\n",
    "print('등장 빈도가 %s번 이하인 희귀 단어의 수: %s'%(threshold - 1, rare_cnt))\n",
    "print('단어 집합에서 희귀 단어를 제외시킬 경우의 단어 집합의 크기 %s'%(total_cnt - rare_cnt))\n",
    "print(\"단어 집합에서 희귀 단어의 비율:\", (rare_cnt / total_cnt)*100)\n",
    "print(\"전체 등장 빈도에서 희귀 단어 등장 빈도 비율:\", (rare_freq / total_freq)*100)"
   ]
  },
  {
   "cell_type": "code",
   "execution_count": 18,
   "id": "993b77ba",
   "metadata": {},
   "outputs": [
    {
     "name": "stdout",
     "output_type": "stream",
     "text": [
      "decoder input:  [[1, 444, 3236, 3236, 466, 454], [1, 14, 10, 7, 324, 220, 8544, 467, 1314, 4950], [1, 1854, 3021, 11, 343, 9284, 105, 11, 343, 1787, 35, 82], [1, 1665, 5600, 624, 680, 759, 5601, 6912], [1, 2083, 592, 1416, 262, 437, 5886, 734, 1666, 46]]\n",
      "decoder target:  [[444, 3236, 3236, 466, 454, 2], [14, 10, 7, 324, 220, 8544, 467, 1314, 4950, 2], [1854, 3021, 11, 343, 9284, 105, 11, 343, 1787, 35, 82, 2], [1665, 5600, 624, 680, 759, 5601, 6912, 2], [2083, 592, 1416, 262, 437, 5886, 734, 1666, 46, 2]]\n"
     ]
    }
   ],
   "source": [
    "tar_vocab = 10000\n",
    "tar_tokenizer = Tokenizer(num_words=tar_vocab) \n",
    "tar_tokenizer.fit_on_texts(de_x_train)\n",
    "tar_tokenizer.fit_on_texts(de_y_train)\n",
    "\n",
    "# 텍스트 시퀀스를 정수 시퀀스로 변환\n",
    "de_x_train_tk = tar_tokenizer.texts_to_sequences(de_x_train) \n",
    "de_y_train_tk = tar_tokenizer.texts_to_sequences(de_y_train)\n",
    "de_x_test_tk = tar_tokenizer.texts_to_sequences(de_x_test)\n",
    "de_y_test_tk = tar_tokenizer.texts_to_sequences(de_y_test)\n",
    "\n",
    "# 잘 변환되었는지 확인\n",
    "print('decoder input: ', de_x_train_tk[:5])\n",
    "print('decoder target: ', de_y_train_tk[:5])"
   ]
  },
  {
   "cell_type": "code",
   "execution_count": 19,
   "id": "2c7a4b30",
   "metadata": {},
   "outputs": [
    {
     "name": "stdout",
     "output_type": "stream",
     "text": [
      "삭제할 훈련 데이터의 개수 : 2\n",
      "삭제할 테스트 데이터의 개수 : 1\n",
      "훈련 데이터의 개수 : 73314\n",
      "훈련 레이블의 개수 : 73314\n",
      "테스트 데이터의 개수 : 18329\n",
      "테스트 레이블의 개수 : 18329\n"
     ]
    }
   ],
   "source": [
    "drop_train = [index for index, sentence in enumerate(de_x_train_tk) if len(sentence) == 1]\n",
    "drop_test = [index for index, sentence in enumerate(de_x_test_tk) if len(sentence) == 1]\n",
    "\n",
    "print('삭제할 훈련 데이터의 개수 :', len(drop_train))\n",
    "print('삭제할 테스트 데이터의 개수 :', len(drop_test))\n",
    "\n",
    "en_x_train_tk = [sentence for index, sentence in enumerate(en_x_train_tk) if index not in drop_train]\n",
    "de_x_train_tk = [sentence for index, sentence in enumerate(de_x_train_tk) if index not in drop_train]\n",
    "de_y_train_tk = [sentence for index, sentence in enumerate(de_y_train_tk) if index not in drop_train]\n",
    "\n",
    "en_x_test_tk = [sentence for index, sentence in enumerate(en_x_test_tk) if index not in drop_test]\n",
    "de_x_test_tk = [sentence for index, sentence in enumerate(de_x_test_tk) if index not in drop_test]\n",
    "de_y_test_tk = [sentence for index, sentence in enumerate(de_y_test_tk) if index not in drop_test]\n",
    "\n",
    "print('훈련 데이터의 개수 :', len(en_x_train))\n",
    "print('훈련 레이블의 개수 :', len(de_x_train))\n",
    "print('테스트 데이터의 개수 :', len(en_x_test))\n",
    "print('테스트 레이블의 개수 :', len(de_x_test))"
   ]
  },
  {
   "cell_type": "code",
   "execution_count": 20,
   "id": "c803a09c",
   "metadata": {},
   "outputs": [],
   "source": [
    "en_x_train_tk = pad_sequences(en_x_train_tk, maxlen=text_max_len, padding='post')\n",
    "en_x_test_tk = pad_sequences(en_x_test_tk, maxlen=text_max_len, padding='post')\n",
    "de_x_train_tk = pad_sequences(de_x_train_tk, maxlen=summary_max_len, padding='post')\n",
    "de_x_test_tk = pad_sequences(de_x_test_tk, maxlen=summary_max_len, padding='post')\n",
    "de_y_train_tk = pad_sequences(de_y_train_tk, maxlen=summary_max_len, padding='post')\n",
    "de_y_test_tk = pad_sequences(de_y_test_tk, maxlen=summary_max_len, padding='post')"
   ]
  },
  {
   "cell_type": "markdown",
   "id": "710818ac",
   "metadata": {},
   "source": [
    "### 모델 설계"
   ]
  },
  {
   "cell_type": "code",
   "execution_count": 27,
   "id": "f12b0411",
   "metadata": {},
   "outputs": [],
   "source": [
    "from tensorflow.keras.layers import Input, LSTM, Embedding, Dense, Concatenate, TimeDistributed, AdditiveAttention\n",
    "from tensorflow.keras.models import Model\n",
    "from tensorflow.keras.optimizers import Adam\n",
    "from tensorflow.keras.callbacks import EarlyStopping, ModelCheckpoint"
   ]
  },
  {
   "cell_type": "markdown",
   "id": "88d7e5da",
   "metadata": {},
   "source": [
    "##### Encoder"
   ]
  },
  {
   "cell_type": "code",
   "execution_count": 28,
   "id": "a26d9cd3",
   "metadata": {},
   "outputs": [],
   "source": [
    "embedding_dim = 512\n",
    "hidden_size = 512\n",
    "\n",
    "# 인코더 input\n",
    "encoder_inputs = Input(shape=(text_max_len,))\n",
    "\n",
    "# 인코더의 임베딩 층\n",
    "enc_emb = Embedding(src_vocab, embedding_dim)(encoder_inputs)\n",
    "\n",
    "# 인코더의 LSTM 1\n",
    "# encoder_lstm1 = LSTM(hidden_size, return_sequences=True, return_state=True ,dropout = 0.4, recurrent_dropout = 0.4)\n",
    "encoder_lstm1 = LSTM(hidden_size, return_sequences=True, return_state=True ,dropout = 0.2)\n",
    "encoder_output1, state_h1, state_c1 = encoder_lstm1(enc_emb)\n",
    "\n",
    "# 인코더의 LSTM 2\n",
    "encoder_lstm2 = LSTM(hidden_size, return_sequences=True, return_state=True ,dropout = 0.2)\n",
    "encoder_output2, state_h2, state_c2 = encoder_lstm2(encoder_output1)\n",
    "\n",
    "# 인코더의 LSTM 3\n",
    "encoder_lstm3 = LSTM(hidden_size, return_sequences=True, return_state=True ,dropout = 0.2)\n",
    "encoder_output3, state_h3, state_c3 = encoder_lstm3(encoder_output2)"
   ]
  },
  {
   "cell_type": "markdown",
   "id": "e2d3da9d",
   "metadata": {},
   "source": [
    "##### Decoder"
   ]
  },
  {
   "cell_type": "code",
   "execution_count": 29,
   "id": "68f31d9b",
   "metadata": {},
   "outputs": [],
   "source": [
    "# 디코더 설계\n",
    "decoder_inputs = Input(shape=(None,))\n",
    "\n",
    "# 디코더의 임베딩 층\n",
    "dec_emb_layer = Embedding(tar_vocab, embedding_dim)\n",
    "dec_emb = dec_emb_layer(decoder_inputs)\n",
    "\n",
    "# 디코더의 LSTM\n",
    "# decoder_lstm = LSTM(hidden_size, return_sequences=True, return_state=True, dropout=0.4, recurrent_dropout=0.2)\n",
    "decoder_lstm = LSTM(hidden_size, return_sequences=True, return_state=True, dropout=0.2)\n",
    "decoder_outputs, _, _ = decoder_lstm(dec_emb, initial_state=[state_h3, state_c3])"
   ]
  },
  {
   "cell_type": "code",
   "execution_count": 30,
   "id": "54537362",
   "metadata": {},
   "outputs": [
    {
     "name": "stdout",
     "output_type": "stream",
     "text": [
      "Model: \"model_1\"\n",
      "__________________________________________________________________________________________________\n",
      "Layer (type)                    Output Shape         Param #     Connected to                     \n",
      "==================================================================================================\n",
      "input_3 (InputLayer)            [(None, 50)]         0                                            \n",
      "__________________________________________________________________________________________________\n",
      "embedding_2 (Embedding)         (None, 50, 512)      10240000    input_3[0][0]                    \n",
      "__________________________________________________________________________________________________\n",
      "lstm_4 (LSTM)                   [(None, 50, 512), (N 2099200     embedding_2[0][0]                \n",
      "__________________________________________________________________________________________________\n",
      "input_4 (InputLayer)            [(None, None)]       0                                            \n",
      "__________________________________________________________________________________________________\n",
      "lstm_5 (LSTM)                   [(None, 50, 512), (N 2099200     lstm_4[0][0]                     \n",
      "__________________________________________________________________________________________________\n",
      "embedding_3 (Embedding)         (None, None, 512)    5120000     input_4[0][0]                    \n",
      "__________________________________________________________________________________________________\n",
      "lstm_6 (LSTM)                   [(None, 50, 512), (N 2099200     lstm_5[0][0]                     \n",
      "__________________________________________________________________________________________________\n",
      "lstm_7 (LSTM)                   [(None, None, 512),  2099200     embedding_3[0][0]                \n",
      "                                                                 lstm_6[0][1]                     \n",
      "                                                                 lstm_6[0][2]                     \n",
      "__________________________________________________________________________________________________\n",
      "attention_layer (AdditiveAttent (None, None, 512)    512         lstm_7[0][0]                     \n",
      "                                                                 lstm_6[0][0]                     \n",
      "__________________________________________________________________________________________________\n",
      "concat_layer (Concatenate)      (None, None, 1024)   0           lstm_7[0][0]                     \n",
      "                                                                 attention_layer[0][0]            \n",
      "__________________________________________________________________________________________________\n",
      "dense_1 (Dense)                 (None, None, 10000)  10250000    concat_layer[0][0]               \n",
      "==================================================================================================\n",
      "Total params: 34,007,312\n",
      "Trainable params: 34,007,312\n",
      "Non-trainable params: 0\n",
      "__________________________________________________________________________________________________\n"
     ]
    }
   ],
   "source": [
    "# 어텐션 층(어텐션 함수)\n",
    "attn_layer = AdditiveAttention(name='attention_layer')\n",
    "\n",
    "# 인코더와 디코더의 모든 time step의 hidden state를 어텐션 층에 전달하고 결과를 리턴\n",
    "attn_out = attn_layer([decoder_outputs, encoder_output3])\n",
    "\n",
    "# 어텐션의 결과와 디코더의 hidden state들을 연결\n",
    "decoder_concat_input = Concatenate(axis=-1, name='concat_layer')([decoder_outputs, attn_out])\n",
    "\n",
    "# 디코더의 출력층\n",
    "decoder_softmax_layer = Dense(tar_vocab, activation='softmax')\n",
    "decoder_softmax_outputs = decoder_softmax_layer(decoder_concat_input)\n",
    "\n",
    "# 모델 정의\n",
    "model = Model([encoder_inputs, decoder_inputs], decoder_softmax_outputs)\n",
    "model.summary()"
   ]
  },
  {
   "cell_type": "markdown",
   "id": "4e48d424",
   "metadata": {},
   "source": [
    "### training & test"
   ]
  },
  {
   "cell_type": "markdown",
   "id": "cdfe1b8b",
   "metadata": {},
   "source": [
    "##### training"
   ]
  },
  {
   "cell_type": "code",
   "execution_count": 31,
   "id": "41b2d1cf",
   "metadata": {},
   "outputs": [
    {
     "name": "stdout",
     "output_type": "stream",
     "text": [
      "Epoch 1/50\n",
      "144/144 [==============================] - 79s 517ms/step - loss: 5.7426 - val_loss: 5.2981\n",
      "Epoch 2/50\n",
      "144/144 [==============================] - 73s 509ms/step - loss: 5.2835 - val_loss: 5.1724\n",
      "Epoch 3/50\n",
      "144/144 [==============================] - 74s 512ms/step - loss: 5.1693 - val_loss: 5.0699\n",
      "Epoch 4/50\n",
      "144/144 [==============================] - 74s 517ms/step - loss: 5.0049 - val_loss: 4.8772\n",
      "Epoch 5/50\n",
      "144/144 [==============================] - 74s 517ms/step - loss: 4.7857 - val_loss: 4.6848\n",
      "Epoch 6/50\n",
      "144/144 [==============================] - 74s 518ms/step - loss: 4.5559 - val_loss: 4.4828\n",
      "Epoch 7/50\n",
      "144/144 [==============================] - 75s 518ms/step - loss: 4.3268 - val_loss: 4.3155\n",
      "Epoch 8/50\n",
      "144/144 [==============================] - 75s 518ms/step - loss: 4.1150 - val_loss: 4.1582\n",
      "Epoch 9/50\n",
      "144/144 [==============================] - 75s 518ms/step - loss: 3.9074 - val_loss: 4.0271\n",
      "Epoch 10/50\n",
      "144/144 [==============================] - 75s 519ms/step - loss: 3.7101 - val_loss: 3.9127\n",
      "Epoch 11/50\n",
      "144/144 [==============================] - 74s 518ms/step - loss: 3.5247 - val_loss: 3.8162\n",
      "Epoch 12/50\n",
      "144/144 [==============================] - 75s 519ms/step - loss: 3.3520 - val_loss: 3.7511\n",
      "Epoch 13/50\n",
      "144/144 [==============================] - 75s 519ms/step - loss: 3.1921 - val_loss: 3.6986\n",
      "Epoch 14/50\n",
      "144/144 [==============================] - 74s 517ms/step - loss: 3.0452 - val_loss: 3.6579\n",
      "Epoch 15/50\n",
      "144/144 [==============================] - 75s 518ms/step - loss: 2.9077 - val_loss: 3.6309\n",
      "Epoch 16/50\n",
      "144/144 [==============================] - 75s 518ms/step - loss: 2.7793 - val_loss: 3.6161\n",
      "Epoch 17/50\n",
      "144/144 [==============================] - 75s 519ms/step - loss: 2.6567 - val_loss: 3.6032\n",
      "Epoch 18/50\n",
      "144/144 [==============================] - 75s 518ms/step - loss: 2.5384 - val_loss: 3.6011\n",
      "Epoch 19/50\n",
      "144/144 [==============================] - 75s 520ms/step - loss: 2.4284 - val_loss: 3.5981\n",
      "Epoch 20/50\n",
      "144/144 [==============================] - 75s 518ms/step - loss: 2.3213 - val_loss: 3.6007\n",
      "Epoch 21/50\n",
      "144/144 [==============================] - 75s 518ms/step - loss: 2.2199 - val_loss: 3.6091\n",
      "Epoch 00021: early stopping\n"
     ]
    }
   ],
   "source": [
    "model.compile(optimizer=Adam(learning_rate=0.0005), loss='sparse_categorical_crossentropy')\n",
    "es = EarlyStopping(monitor='val_loss', patience=2, verbose=1)\n",
    "history = model.fit(x=[en_x_train_tk, de_x_train_tk], y=de_y_train_tk, \\\n",
    "          validation_data=([en_x_test_tk, de_x_test_tk], de_y_test_tk), \\\n",
    "          batch_size=512, callbacks=[es], epochs=50)"
   ]
  },
  {
   "cell_type": "code",
   "execution_count": 32,
   "id": "4bf78da6",
   "metadata": {},
   "outputs": [
    {
     "data": {
      "image/png": "[encoded data removed]",
      "text/plain": [
       "<Figure size 432x288 with 1 Axes>"
      ]
     },
     "metadata": {
      "needs_background": "light"
     },
     "output_type": "display_data"
    }
   ],
   "source": [
    "plt.plot(history.history['loss'], label='train')\n",
    "plt.plot(history.history['val_loss'], label='test')\n",
    "plt.legend()\n",
    "plt.show()"
   ]
  },
  {
   "cell_type": "markdown",
   "id": "8dfefc3a",
   "metadata": {},
   "source": [
    "##### inference"
   ]
  },
  {
   "cell_type": "code",
   "execution_count": 33,
   "id": "91369ea4",
   "metadata": {},
   "outputs": [],
   "source": [
    "src_index_to_word = src_tokenizer.index_word # 원문 단어 집합에서 정수 -> 단어\n",
    "tar_word_to_index = tar_tokenizer.word_index # 요약 단어 집합에서 단어 -> 정수\n",
    "tar_index_to_word = tar_tokenizer.index_word # 요약 단어 집합에서 정수 -> 단어"
   ]
  },
  {
   "cell_type": "markdown",
   "id": "526d9ce8",
   "metadata": {},
   "source": [
    "inference model design"
   ]
  },
  {
   "cell_type": "code",
   "execution_count": 34,
   "id": "7303fcc0",
   "metadata": {},
   "outputs": [],
   "source": [
    "# 인코더 설계\n",
    "encoder_model = Model(inputs=encoder_inputs, outputs=[encoder_output3, state_h3, state_c3])\n",
    "\n",
    "# 이전 시점의 상태들을 저장하는 텐서\n",
    "decoder_state_input_h = Input(shape=(hidden_size,))\n",
    "decoder_state_input_c = Input(shape=(hidden_size,))\n",
    "\n",
    "dec_emb2 = dec_emb_layer(decoder_inputs)\n",
    "\n",
    "# 문장의 다음 단어를 예측하기 위해서 초기 상태(initial_state)를 이전 시점의 상태로 사용. 이는 뒤의 함수 decode_sequence()에 구현\n",
    "# 훈련 과정에서와 달리 LSTM의 리턴하는 은닉 상태와 셀 상태인 state_h와 state_c를 버리지 않음.\n",
    "decoder_outputs2, state_h2, state_c2 = decoder_lstm(dec_emb2, initial_state=[decoder_state_input_h, decoder_state_input_c])"
   ]
  },
  {
   "cell_type": "code",
   "execution_count": 35,
   "id": "e74326d0",
   "metadata": {},
   "outputs": [],
   "source": [
    "# 어텐션 함수\n",
    "decoder_hidden_state_input = Input(shape=(text_max_len, hidden_size))\n",
    "attn_out_inf = attn_layer([decoder_outputs2, decoder_hidden_state_input])\n",
    "decoder_inf_concat = Concatenate(axis=-1, name='concat')([decoder_outputs2, attn_out_inf])\n",
    "\n",
    "# 디코더의 출력층\n",
    "decoder_outputs2 = decoder_softmax_layer(decoder_inf_concat) \n",
    "\n",
    "# 최종 디코더 모델\n",
    "decoder_model = Model(\n",
    "    [decoder_inputs] + [decoder_hidden_state_input,decoder_state_input_h, decoder_state_input_c],\n",
    "    [decoder_outputs2] + [state_h2, state_c2])"
   ]
  },
  {
   "cell_type": "code",
   "execution_count": 36,
   "id": "4755c4c8",
   "metadata": {},
   "outputs": [],
   "source": [
    "def decode_sequence(input_seq):\n",
    "    # 입력으로부터 인코더의 상태를 얻음\n",
    "    e_out, e_h, e_c = encoder_model.predict(input_seq)\n",
    "\n",
    "     # <SOS>에 해당하는 토큰 생성\n",
    "    target_seq = np.zeros((1,1))\n",
    "    target_seq[0, 0] = tar_word_to_index['sostoken']\n",
    "\n",
    "    stop_condition = False\n",
    "    decoded_sentence = ''\n",
    "    while not stop_condition: # stop_condition이 True가 될 때까지 루프 반복\n",
    "\n",
    "        output_tokens, h, c = decoder_model.predict([target_seq] + [e_out, e_h, e_c])\n",
    "        sampled_token_index = np.argmax(output_tokens[0, -1, :])\n",
    "        sampled_token = tar_index_to_word[sampled_token_index]\n",
    "\n",
    "        if (sampled_token!='eostoken'):\n",
    "            decoded_sentence += ' '+sampled_token\n",
    "\n",
    "        #  <eos>에 도달하거나 최대 길이를 넘으면 중단.\n",
    "        if (sampled_token == 'eostoken'  or len(decoded_sentence.split()) >= (summary_max_len-1)):\n",
    "            stop_condition = True\n",
    "\n",
    "        # 길이가 1인 타겟 시퀀스를 업데이트\n",
    "        target_seq = np.zeros((1,1))\n",
    "        target_seq[0, 0] = sampled_token_index\n",
    "\n",
    "        # 상태를 업데이트 합니다.\n",
    "        e_h, e_c = h, c\n",
    "\n",
    "    return decoded_sentence"
   ]
  },
  {
   "cell_type": "code",
   "execution_count": 37,
   "id": "ac02ed2c",
   "metadata": {},
   "outputs": [
    {
     "name": "stdout",
     "output_type": "stream",
     "text": [
      "원문 : expressing condolences following demise former pm atal bihari vajpayee tibetan spiritual leader dalai lama said feel privileged known honoured counted friend added shri vajpayee truly dedicated politician passing away india lost eminent national leader \n",
      "실제 요약 : honoured vajpayee friend dalai lama \n",
      "예측 요약 :  proud nehru ratna pm modi\n",
      "\n",
      "\n",
      "원문 : cricket australia tweeted video india celebrating test series victory australia india captain virat kohli called pujara dance pujara walks move hands dance extension walk rishabh pant came kohli explained pujara could even see simple added \n",
      "실제 요약 : india celebrate australia test series victory pujara dance \n",
      "예측 요약 :  kohli calls australian captain williamson root\n",
      "\n",
      "\n",
      "원문 : karnataka asked supreme court review decision drop proceedings late tamil nadu cm jayalalithaa disproportionate assets case saying recover one hundred crore fine estate sale sc earlier overturned karnataka high court order giving clean chit jayalalithaa charges due death \n",
      "실제 요약 : recover one hundredcr fine jaya estate sale taka tells sc \n",
      "예측 요약 :  sc orders jayalalithaa plea three days\n",
      "\n",
      "\n",
      "원문 : ankur prakash wipro vice president manufacturing latin america resigned marking second senior management exit less two months firm prakash one eight tcs executives join wipro took coo april two thousand fifteen wipro healthcare life sciences head jeff resigned last month \n",
      "실제 요약 : wipro vice president prakash joined tcs quits \n",
      "예측 요약 :  former president mukherjee named president\n",
      "\n",
      "\n",
      "원문 : three members chennai family died caused gas leak air conditioner asleep house monday according police family must slept ac switched electricity restored caused leakage doors windows closed suffocated police added \n",
      "실제 요약 : gas leak air kills three family members chennai \n",
      "예측 요약 :  two dead twenty five injured due lack raid\n",
      "\n",
      "\n",
      "원문 : delhi based healthcare startup raised dollars one million pre series funding led sri capital existing investors ventures singapore based also participated round founded two thousand fifteen startup online healthcare portal helps users choose healthcare service provider compare costs treatments various centres india \n",
      "실제 요약 : delhi healthcare startup raises dollars one million \n",
      "예측 요약 :  logistics startup raises dollars one point five million\n",
      "\n",
      "\n",
      "원문 : online classifieds platform olx india monday announced offline expansion used car business joint venture germany frontier car group venture called cash car marks entry indian market plan expand olx cash car model top forty cities india one hundred fifty outlets two thousand twenty one olx said \n",
      "실제 요약 : india expands used car business offline stores \n",
      "예측 요약 :  reliance invest one thousand five hundred crore india\n",
      "\n",
      "\n",
      "원문 : statement released tuesday canadian prime minister justin trudeau said canada supports one united india ensuring taking responsibility seriously cracking extremism peaceful dialogue added comes amid reports pm narendra modi trudeau stance khalistan movement \n",
      "실제 요약 : canada supports one united india justin trudeau \n",
      "예측 요약 :  canada pm trudeau ties india\n",
      "\n",
      "\n",
      "원문 : billionaire elon musk arrived flooded thailand cave escape pod five members youth football team remain trapped kid sized submarine made parts spacex falcon nine rocket named wild team musk also revealed leave pod site use future operations \n",
      "실제 요약 : musk reaches thai cave pod help rescue operations \n",
      "예측 요약 :  elon musk shares pic thai cave thai cave\n",
      "\n",
      "\n",
      "원문 : us britain france among almost forty countries join talks nuclear weapons ban treaty starting un monday us ambassador un nikki haley said said countries skipping negotiations instead committed non proliferation treaty aimed preventing spread nuclear weapons \n",
      "실제 요약 : us britain france skip nuclear weapons ban treaty talks \n",
      "예측 요약 :  us rejects korea withdraw nuclear status us\n",
      "\n",
      "\n",
      "원문 : pakistan hockey coach stepped position almost year sacked position indian hockey team head coach letter pakistan hockey federation said possible create required environment pakistan team perform well \n",
      "실제 요약 : pak hockey coach steps year india sacked \n",
      "예측 요약 :  india pakistan coach pakistan ct\n",
      "\n",
      "\n",
      "원문 : brihanmumbai municipal corporation planning eight entry points mumbai juhu beach second phase august end authorities said per plan entry point five metre high walls steps among others residents welcomed move activist said affect natural feel beach \n",
      "실제 요약 : mumbai beach \n",
      "예측 요약 :  mumbai mumbai get first cycling cruise\n",
      "\n",
      "\n",
      "원문 : staff nurse haryana hospital allegedly refused hand newborn girl denied congratulatory tip family newborn kept away mother two hours hospital medical officer said recommended transferring nurse remote area illegal act demanding tip \n",
      "실제 요약 : nurse refuses hand baby denied tip \n",
      "예측 요약 :  newborn dies hospital gives birth hospital\n",
      "\n",
      "\n",
      "원문 : massive fire engulfed area four kilometres mumbai aarey colony goregaon doused reached residential buildings fire started around six thirty pm monday started moving towards residential localities night aarey colony includes twelve villages film city \n",
      "실제 요약 : fire mumbai forest reaching buildings \n",
      "예측 요약 :  fire breaks mumbai mayor\n",
      "\n",
      "\n",
      "원문 : taking jibe congress prime minister narendra modi wednesday said cannot differentiate dal talking farmers connect ground reality cannot remove pain people added know anything farming said addressing rally rajasthan \n",
      "실제 요약 : cannot talk farmers pm \n",
      "예측 요약 :  people cannot stop people stop pm modi\n",
      "\n",
      "\n",
      "원문 : several incidents violence reported mumbai patna gujarat bharat bandh called congress led opposition protest rise fuel prices protesters vandalised buses shut petrol pumps halted train services mumbai tyres burnt road traffic blocked gujarat strike received partial response telangana andhra pradesh \n",
      "실제 요약 : buses vandalised trains blocked bharat bandh opp \n",
      "예측 요약 :  four hundred jawans deployed protest bandh bandh\n",
      "\n",
      "\n",
      "원문 : researchers developed simple blood test estimate risk developing active tuberculosis test measures activity pairs genes involved inflammatory response researchers analysed health status around four thousand five hundred african people living tuberculosis patient international team hopes commercially develop test avoid treating people low risk \n",
      "실제 요약 : new blood test predict risk \n",
      "예측 요약 :  study finds first ever test human disease\n",
      "\n",
      "\n",
      "원문 : patidar quota twenty five year old leader hardik patel sunday married childhood friend engaged temple village gujarat district commerce graduate currently pursuing law degree two day wedding ceremony low key affair attended around one hundred close friends family members \n",
      "실제 요약 : patidar leader hardik patel marries childhood friend \n",
      "예측 요약 :  hardik patel gets married bihar cm\n",
      "\n",
      "\n",
      "원문 : referring recent violent clashes uttar pradesh kasganj bareilly district magistrate singh said strange trend developed visit muslim areas raise slogans pakistan pakistanis questioned even stop someone shouting slogans outside residence without reason singh said \n",
      "실제 요약 : raising anti pak slogans muslim area trend bareilly dm \n",
      "예측 요약 :  muslims like muslims behind alive\n",
      "\n",
      "\n",
      "원문 : former boxing champion floyd mayweather hinted entry mma sharing video standing mma cage social media video mayweather heard saying two thousand eighteen floyd money mayweather mma odds mayweather retired fifty zero record winning last bout two thousand seventeen ufc champion conor mcgregor \n",
      "실제 요약 : mayweather retired fifty zero record hints mma entry \n",
      "예측 요약 :  mayweather defends mcgregor bout fight\n",
      "\n",
      "\n",
      "원문 : government saturday suspended two post graduate doctors examined nineteen year old bhopal gangrape victim prepared report stating sex consensual know write report correctly english also weak one suspended doctors said senior overseeing work also served notice \n",
      "실제 요약 : doctors wrote bhopal gangrape consensual sex suspended \n",
      "예측 요약 :  govt asks girls dowry victim post mortem test\n",
      "\n",
      "\n",
      "원문 : addressing rally himachal pradesh pm narendra modi said come ask make bjp win come ask give three fourth majority said senior congress leader came campaign showed party already left field leaving everything fate \n",
      "실제 요약 : make bjp win give three fourth majority pm modi hp \n",
      "예측 요약 :  pm modi believes people better congress\n",
      "\n",
      "\n",
      "원문 : junior civil judge court telangana arrested police allegedly raping female lawyer woman alleged accused sexually exploited several occasions promising marry woman practising junior advocate court \n",
      "실제 요약 : judge accused raping female lawyer arrested telangana \n"
     ]
    },
    {
     "name": "stdout",
     "output_type": "stream",
     "text": [
      "예측 요약 :  philippine prez arrested sexual assault\n",
      "\n",
      "\n",
      "원문 : customers bought jewellery using cash nirav modi stores two financial years starting two thousand fifteen sixteen income tax department scanner according reports investigation based list specified confidential document ninety pages prepared department data circulated relevant regional departments reports added \n",
      "실제 요약 : people bought jewellery nirav modi lens \n",
      "예측 요약 :  indigo fined one point five lakh clients\n",
      "\n",
      "\n",
      "원문 : google launched sharing feature allows users share location route real time others maps ios devices using share trip progress option users choose contacts want share live location route users also share trip data across third party apps including facebook messenger whatsapp \n",
      "실제 요약 : google launches real time location sharing maps ios \n",
      "예측 요약 :  google maps lets users share users without location\n",
      "\n",
      "\n",
      "원문 : us president donald trump said saudi crown prince mohammed bin salman could involved operation kill journalist jamal khashoggi claiming prince running things kingdom trump added wanted believe prince mohammed said lower level officials blamed khashoggi killing \n",
      "실제 요약 : saudi crown prince may behind journalist killing trump \n",
      "예측 요약 :  trump says cia crown prince\n",
      "\n",
      "\n",
      "원문 : actor salman khan convicted jodhpur court thursday one thousand nine hundred ninety eight blackbuck poaching case salman accused killing two near jodhpur shooting hum saath saath hain saif ali khan tabu neelam sonali bendre present vehicle salman allegedly used hunting acquitted court \n",
      "실제 요약 : salman convicted jodhpur court blackbuck poaching case \n",
      "예측 요약 :  salman khan blackbuck case jodhpur court\n",
      "\n",
      "\n",
      "원문 : legacy sixty seven years brings india range fourk ultra hd smart full hd hd ready led tvs japanese tv giant offering minimum thirty percents range led tvs icici avail extra ten percents discount sale amazon ends may sixteen apply \n",
      "실제 요약 : minimum thirty percents led tvs amazon \n",
      "예측 요약 :  india first indian firm earn one thousand cr\n",
      "\n",
      "\n",
      "원문 : gurugram based property tech startup raised dollars three point five million series round funding led venture highway venture capital fund founded former google corporate development head south asia australia samir sood round also saw participation former google search head amit singhal founded two thousand sixteen sameer nayar \n",
      "실제 요약 : former google executives back gurugram property tech startup \n",
      "예측 요약 :  bengaluru startup raises dollars one hundred mn series funding\n",
      "\n",
      "\n",
      "원문 : us teacher tuesday accidentally fired gun class teaching firearms safety injuring one students police said teacher put administrative leave incident investigated us government recently announced give school teachers gun training act case mass shooting attacks \n",
      "실제 요약 : us teacher accidentally fires gun class injures student \n",
      "예측 요약 :  us man beaten death us school shooting us\n",
      "\n",
      "\n",
      "원문 : bengaluru based startup provides industry related skill courses acquired similar platform undisclosed amount co founder kiran said network universities help platform grow operations uses ai based algorithm help students discover skill gaps \n",
      "실제 요약 : bengaluru buys edtech startup \n",
      "예측 요약 :  acquires food startup\n",
      "\n",
      "\n",
      "원문 : actor vaibhav said character ones love story kangana ranaut starrer manikarnika queen jhansi excited part huge project role action romance drama added vaibhav film marks debut bollywood \n",
      "실제 요약 : mine love story manikarnika \n",
      "예측 요약 :  kangana onest choice film industry kangana\n",
      "\n",
      "\n",
      "원문 : comedian whose video led viral kiki challenge said dancing outside moving cars idea advised fans stop kiki challenge involves people stepping moving cars dancing alongside car drake song feelings slammed people safety concerns \n",
      "실제 요약 : dancing outside moving cars idea kiki challenge creator \n",
      "예측 요약 :  photographer kiki challenge video kiki challenge\n",
      "\n",
      "\n",
      "원문 : phule nineteenth century reformer whose birth anniversary april eleven credited term dalit phule wrote several books atrocities faced classes committed improving condition women society one thousand eight hundred forty eight pune wife phule opened first ever school girls \n",
      "실제 요약 : nineteenth century term dalit \n",
      "예측 요약 :  karunanidhi first day since onest time since death\n",
      "\n",
      "\n",
      "원문 : vijay patel indian origin shopkeeper died punched refusing sell cigarette paper underage teenagers london patel struck chest fell backwards hitting head landed man lost life reason trying uphold law officials said \n",
      "실제 요약 : indian origin man killed refusing cigarette paper uk \n",
      "예측 요약 :  indian origin woman jailed five years\n",
      "\n",
      "\n",
      "원문 : motion poster sunny leone arbaaz khan starrer upcoming romantic film tera released film directed also stars khan babbar sudha arbaaz sunny seen together onscreen first time film \n",
      "실제 요약 : motion poster sunny arbaaz starrer tera \n",
      "예측 요약 :  song bareilly ki barfi released\n",
      "\n",
      "\n",
      "원문 : institute chartered accountants india launch exclusive job portal members september one portal details chartered accountants video enable members update profiles linkedin strength chartered accountant fraternity india grown two point eight lakh members \n",
      "실제 요약 : launch exclusive job portal \n",
      "예측 요약 :  govt launches new news portal\n",
      "\n",
      "\n",
      "원문 : lawmakers friday elected country fourth president assume duties steps april briefly served country prime minister one thousand nine hundred ninetys sixty four year old also served country ambassador britain taught physics cambridge university \n",
      "실제 요약 : elected fourth president \n",
      "예측 요약 :  china appoints first female president\n",
      "\n",
      "\n",
      "원문 : nasa created coldest known place universe inside nasa cold atom laboratory international space station researchers successfully produced clouds atoms reach fraction degree absolute zero temperature launched may twenty one two thousand eighteen producing atoms daily study atoms vacuum nasa said \n",
      "실제 요약 : nasa creates coldest known place universe space station \n",
      "예측 요약 :  nasa captures new planet space\n",
      "\n",
      "\n",
      "원문 : hizbul mujahideen chief syed salahuddin slammed united states press conference declared global terrorist said washington gave indian pm narendra modi red carpet welcome even though denied entry country two thousand five gujarat riots also slammed us trying weaken pakistan \n",
      "실제 요약 : us banned modi earlier gave grand welcome hizbul chief \n",
      "예측 요약 :  ex pak prez calls india independence day\n",
      "\n",
      "\n",
      "원문 : commerce minister nirmala sitharaman said number oneb visas indian professionals come need get lottery process something wanted correction sitharaman added oneb non immigrant visa allows us companies employ foreign workers specialised fields \n",
      "실제 요약 : oneb visas indian companies come minister \n",
      "예측 요약 :  india visa process air india jayant sinha\n",
      "\n",
      "\n",
      "원문 : beauty wellness startup founder nayar recent interview said early startup initial public offering nayar added online retailer adequately funded next one year nayar also said believes companies net profit least one hundred crore ipo \n",
      "실제 요약 : early ipo founder \n",
      "예측 요약 :  instagram co founder steve product\n",
      "\n",
      "\n",
      "원문 : india slipped number two position icc odi team rankings four days reclaimed number one position slip comes australia ended india joint longest odi winning streak nine matches winning bengaluru odi thursday india reclaim number one rank win final odi october one \n",
      "실제 요약 : india slip number two icc odi team rankings \n",
      "예측 요약 :  india win threerd odi ranking one hundred odi\n",
      "\n",
      "\n",
      "원문 : national disaster response force training central railway staff provide immediate medical aid passengers railway staff including ticket station managers trained provide cpr treat cuts burns poisoning bleeding among others move urgently needed outsiders assistance usually used accidents officials said \n",
      "실제 요약 : central railway staff get training provide medical aid \n",
      "예측 요약 :  mumbai railway station get free safety\n",
      "\n",
      "\n",
      "원문 : actor bjp leader shatrughan sinha took twitter urge actor rajinikanth take politics tamil nadu shatrughan tweeted hope wish pray titanic people darling dear friend tn super hero rajinikanth rises tweeted right time rajinikanth reach people \n",
      "실제 요약 : shatrughan tweets urges rajinikanth join politics \n",
      "예측 요약 :  shatrughan sinha shatrughan sinha shatrughan sinha\n",
      "\n",
      "\n",
      "원문 : municipal councillor abdul raheem kerala malappuram gifting gold coin weighing one gram mothers give birth girl ward last two years felt positivity come people mind girl child born family abdul said asked motive behind initiative \n",
      "실제 요약 : kerala man gifts gold coin mothers delivering girl child \n"
     ]
    },
    {
     "name": "stdout",
     "output_type": "stream",
     "text": [
      "예측 요약 :  kerala couples donate three lakh girls donate away\n",
      "\n",
      "\n",
      "원문 : external affairs minister sushma swaraj wednesday said medical visas three pakistani nationals approved ministry external affairs one patients needs liver transplant given appointment chennai hospital october swaraj said india grant medical visas cases \n",
      "실제 요약 : medical visas three pakistanis approved sushma swaraj \n",
      "예측 요약 :  indian visa visa visa sushma swaraj\n",
      "\n",
      "\n",
      "원문 : luke gone watch australia new zealand ttwentyi perth december eleven two thousand seven girlfriend parking car australia team manager called play match twenty three year old asked replace brad hodge injured back interestingly banned state side time disciplinary issues \n",
      "실제 요약 : player went see ttwentyi girlfriend went play match \n",
      "예측 요약 :  sa captain breaks ball tampering two hundred twenty four\n",
      "\n",
      "\n",
      "원문 : message reading thanks seen painted rooftop house kochi naval piloted commander vijay varma rescued two women including pregnant woman august seventeen pregnant woman give birth flown navy hospital delivered baby boy \n",
      "실제 요약 : thanks seen kerala rooftop navy rescued pregnant woman \n",
      "예측 요약 :  french couple donates seven lakh reward cancer\n",
      "\n",
      "\n",
      "원문 : responding shane warne criticism australia pacer mitchell starc said keep listening warne may well retire keep going stuff done weeks starc added warne questioned starc restrained body language criticised performance first india test despite pacer taking five wickets \n",
      "실제 요약 : keep listening warne may well retire mitchell starc \n",
      "예측 요약 :  australian cricketer slams smith wife\n",
      "\n",
      "\n"
     ]
    }
   ],
   "source": [
    "for i in range(50):\n",
    "    print(\"원문 :\", seq2text(en_x_test_tk[i], src_index_to_word))\n",
    "    print(\"실제 요약 :\", seq2summary(de_x_test_tk[i], tar_word_to_index, tar_index_to_word))\n",
    "    print(\"예측 요약 :\", decode_sequence(en_x_test_tk[i].reshape(1, text_max_len)))\n",
    "    print(\"\\n\")"
   ]
  },
  {
   "cell_type": "markdown",
   "id": "c86fc91e",
   "metadata": {},
   "source": [
    "### 추출적 요약 결과와 비교해보기(with 매트릭스 시놉시스 데이터셋)"
   ]
  },
  {
   "cell_type": "code",
   "execution_count": 45,
   "id": "767f9cf1",
   "metadata": {},
   "outputs": [],
   "source": [
    "import requests\n",
    "from summa.summarizer import summarize"
   ]
  },
  {
   "cell_type": "code",
   "execution_count": 46,
   "id": "172bbfb1",
   "metadata": {},
   "outputs": [
    {
     "name": "stdout",
     "output_type": "stream",
     "text": [
      "The screen is filled with green, cascading code which gives way to the title, The Matrix.\r\n",
      "\r\n",
      "A phone rings and text appears on the screen: \"Call trans opt: received. 2-19-98 13:24:18 REC: Log>\" As a conversation takes place between Trinity (Carrie-Anne Moss) and Cypher (Joe Pantoliano), two free humans, a table of random green numbers are being scanned and individual numbers selected, creating a series of digits not unlike an ordinary phone number, as if a code is being deciphered or a call is being traced.\r\n",
      "\r\n",
      "Trinity discusses some unknown person. Cypher taunts Trinity, suggesting she enjoys watching him. Trinity counters that \"Morpheus (Laurence Fishburne) says he may be 'the One',\" just as the sound of a number being selected alerts Trinity that someone may be tracing their call. She ends the call.\r\n",
      "\r\n",
      "Armed policemen move down a darkened, decrepit hallway in the Heart O' the City Hotel, their flashlight beam bouncing just ahead of them. They come to room 303, kick down the door and find a woman dressed in black, facing away from them. It's Trinity. She brings her hands up from the laptop she's working on at their command.\r\n",
      "\r\n",
      "Outside the hotel a car drives up and three agents appear in neatly pressed black suits. They are Agent Smith (Hugo Weaving), Agent Brown (Paul Goddard), and Agent Jones (Robert Taylor). Agent Smith and the presiding police lieutenant argue. Agent Smith admonishes the policeman that they were given specific orders to contact the agents first, for their\n"
     ]
    }
   ],
   "source": [
    "text = requests.get('http://rare-technologies.com/the_matrix_synopsis.txt').text\n",
    "print(text[:1500])"
   ]
  },
  {
   "cell_type": "code",
   "execution_count": 47,
   "id": "88478cab",
   "metadata": {},
   "outputs": [
    {
     "name": "stdout",
     "output_type": "stream",
     "text": [
      "Summary: Morpheus, Trinity, Neo, Apoc, Switch, Mouse and Cypher are jacked into the Matrix.\n",
      "Trinity brings the helicopter down to the floor that Morpheus is on and Neo opens fire on the three Agents.\n"
     ]
    }
   ],
   "source": [
    "# 전체 문장의 0.5%만 요약문으로 추출\n",
    "print('Summary:', summarize(text, ratio=0.005))"
   ]
  },
  {
   "cell_type": "code",
   "execution_count": 48,
   "id": "ccd7f192",
   "metadata": {},
   "outputs": [
    {
     "name": "stdout",
     "output_type": "stream",
     "text": [
      "Trinity takes Neo to Morpheus.\n",
      "Morpheus, Trinity, Neo, Apoc, Switch, Mouse and Cypher are jacked into the Matrix.\n",
      "Trinity brings the helicopter down to the floor that Morpheus is on and Neo opens fire on the three Agents.\n"
     ]
    }
   ],
   "source": [
    "# 요약문에 포함된 단어 수를 50개로 제한\n",
    "print(summarize(text, words=50))"
   ]
  },
  {
   "cell_type": "markdown",
   "id": "d78b3225",
   "metadata": {},
   "source": [
    "- **추출적 요약**: 원본 문장에서 중요한 문장을 직접 가져오기 때문에 문장 내부적으로 문법의 오류가 없다. 하지만 핵심 개념이 중복될 수 있으며, 중요한 단어가 포함되지만 문맥이 부자연스러울 수도 있다.\n",
    "- **추상적 요약**: 새로운 문장을 생성하여 더 압축적인 요약이 가능하며, 문맥이 상대적으로 매끄럽다. 하지만 문법적으로 부자연스럽거나, 원본 문장에서 사용된 특정한 핵심 단어가 포함되지 않을 가능성이 있다."
   ]
  },
  {
   "cell_type": "markdown",
   "id": "3d114f01",
   "metadata": {},
   "source": [
    "### Done"
   ]
  },
  {
   "cell_type": "markdown",
   "id": "d0091b9b",
   "metadata": {},
   "source": [
    "1. 데이터 전처리 함수\n",
    "- 수치 데이터와 일부 특수기호도 중요한 정보인데 이것도 없애야 할까?\n",
    "    - $ → ‘dollar’, % → ‘percent’, & → ‘and’로 변경하는 로직 추가\n",
    "    - num2words 라이브러리로 숫자를 문자로 변경 (ex : 2000 → two thousands)\n",
    "    - 숫자 사이에 콤마나 점이 있는 경우에 대응\n",
    "        - 1.5를 one point five로 읽도록 수정\n",
    "        - 1,000을 one zero로 읽는 문제 해결\n",
    "- `sentence = re.sub(\"[m]{2,}\", \"mm\", sentence)` → 다른 알파벳도 3개 이상 반복되면 2개로 바꾸는 로직 추가\n",
    "- 'iso-8859-1’ 인코딩에 글씨 깨짐이 발생하는 경우가 있어 ‘utf-8’로 변경\n",
    "<br/>\n",
    "2. 하이퍼파라미터 튜닝 with keras tuner\n",
    "    - embedding_dim : 512\n",
    "    - hidden_size : 512\n",
    "    - dropout : 0.4 -> 0.2\n",
    "    - learning rate : 0.001 -> 0.0005"
   ]
  },
  {
   "cell_type": "markdown",
   "id": "e412b925",
   "metadata": {},
   "source": [
    "### To-do"
   ]
  },
  {
   "cell_type": "markdown",
   "id": "d0c7200c",
   "metadata": {},
   "source": [
    "1. 어텐션 메커니즘\n",
    "    - Luong attention 분석\n",
    "    - Bahdanau 모델 구현 & 성능 비교"
   ]
  },
  {
   "cell_type": "code",
   "execution_count": null,
   "id": "67ffc12f",
   "metadata": {},
   "outputs": [],
   "source": []
  }
 ],
 "metadata": {
  "kernelspec": {
   "display_name": "Python 3 (ipykernel)",
   "language": "python",
   "name": "python3"
  },
  "language_info": {
   "codemirror_mode": {
    "name": "ipython",
    "version": 3
   },
   "file_extension": ".py",
   "mimetype": "text/x-python",
   "name": "python",
   "nbconvert_exporter": "python",
   "pygments_lexer": "ipython3",
   "version": "3.9.7"
  }
 },
 "nbformat": 4,
 "nbformat_minor": 5
}
